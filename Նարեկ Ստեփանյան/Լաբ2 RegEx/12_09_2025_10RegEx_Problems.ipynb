{
 "nbformat": 4,
 "nbformat_minor": 0,
 "metadata": {
  "colab": {
   "provenance": []
  },
  "kernelspec": {
   "name": "python3",
   "display_name": "Python 3 (ipykernel)",
   "language": "python"
  },
  "language_info": {
   "name": "python"
  }
 },
 "cells": [
  {
   "cell_type": "code",
   "metadata": {
    "colab": {
     "base_uri": "https://localhost:8080/"
    },
    "id": "qsErLeKcyUNP",
    "outputId": "2f97ec2f-acfe-419c-d53b-8c88e3a9459a",
    "ExecuteTime": {
     "end_time": "2025-09-19T07:25:41.774928Z",
     "start_time": "2025-09-19T07:25:41.769485Z"
    }
   },
   "source": [
    "import re\n",
    "\n",
    "#Problem1\n",
    "sample = \"Contact us at support@example.com or sales@company.org for assistance. For personal inquiries, email john.doe123@university.edu.\"\n",
    "matches = re.findall(r'\\S+@\\S+', sample)\n",
    "print(matches)"
   ],
   "outputs": [
    {
     "name": "stdout",
     "output_type": "stream",
     "text": [
      "['support@example.com', 'sales@company.org', 'john.doe123@university.edu.']\n"
     ]
    }
   ],
   "execution_count": 2
  },
  {
   "cell_type": "code",
   "source": [
    "#Problem2\n",
    "sample = '123-456-7890, 987-654-3210, 12-345-67890, 1234567890, 123-45-6789'\n",
    "matches = re.findall(r'[0-9]{3}-[0-9]{3}-[0-9]{4}', sample)\n",
    "print(matches)"
   ],
   "metadata": {
    "colab": {
     "base_uri": "https://localhost:8080/"
    },
    "id": "NQh8y-Tv5Z46",
    "outputId": "0603558a-57a7-40ff-e85a-8fc7b9f84a8a",
    "ExecuteTime": {
     "end_time": "2025-09-18T15:01:02.826436Z",
     "start_time": "2025-09-18T15:01:02.821005Z"
    }
   },
   "outputs": [
    {
     "name": "stdout",
     "output_type": "stream",
     "text": [
      "['123-456-7890', '987-654-3210']\n"
     ]
    }
   ],
   "execution_count": 3
  },
  {
   "cell_type": "code",
   "source": [
    "#Problem3\n",
    "sample = '25/12/2023, 01-01-2024, 31/05/2023, and 15-10-2024'\n",
    "matches = re.findall(r'[0-9]{2}/[0-9]{2}/[0-9]{4}|[0-9]{2}-[0-9]{2}-[0-9]{4}', sample)\n",
    "\n",
    "for date in matches:\n",
    "    print(date)"
   ],
   "metadata": {
    "colab": {
     "base_uri": "https://localhost:8080/"
    },
    "id": "B6Z6LGMz6wfD",
    "outputId": "1026dc74-b6dd-4157-b8df-ef295cb0014b",
    "ExecuteTime": {
     "end_time": "2025-09-18T15:01:02.854697Z",
     "start_time": "2025-09-18T15:01:02.848329Z"
    }
   },
   "outputs": [
    {
     "name": "stdout",
     "output_type": "stream",
     "text": [
      "25/12/2023\n",
      "01-01-2024\n",
      "31/05/2023\n",
      "15-10-2024\n"
     ]
    }
   ],
   "execution_count": 4
  },
  {
   "cell_type": "code",
   "source": [
    "#problem4\n",
    "sample = 'The the quick brown fox jumps over the the lazy  lazy dog.'\n",
    "matches = re.findall(r'(\\b\\w+\\b)\\s+\\1', sample, re.IGNORECASE)\n",
    "print(matches)\n",
    "#---------------------------------------"
   ],
   "metadata": {
    "id": "N6FnkJlb7-vC",
    "ExecuteTime": {
     "end_time": "2025-09-19T08:16:50.261879Z",
     "start_time": "2025-09-19T08:16:50.255614Z"
    }
   },
   "outputs": [
    {
     "name": "stdout",
     "output_type": "stream",
     "text": [
      "['The', 'the', 'lazy']\n"
     ]
    }
   ],
   "execution_count": 84
  },
  {
   "cell_type": "code",
   "source": [
    "#problem5\n",
    "sample = 'Check out our new products: #Sale2024, #NewArrival, and #Discounts!'\n",
    "matches = re.findall(r'#\\w+', sample)\n",
    "print(matches)"
   ],
   "metadata": {
    "colab": {
     "base_uri": "https://localhost:8080/"
    },
    "id": "SMpAKEq5ox-P",
    "outputId": "9c6b0731-82fe-4b62-8d91-09f5d8efc52b",
    "ExecuteTime": {
     "end_time": "2025-09-18T15:01:02.981776Z",
     "start_time": "2025-09-18T15:01:02.976355Z"
    }
   },
   "outputs": [
    {
     "name": "stdout",
     "output_type": "stream",
     "text": [
      "['#Sale2024', '#NewArrival', '#Discounts']\n"
     ]
    }
   ],
   "execution_count": 6
  },
  {
   "cell_type": "code",
   "source": [
    "#problem6\n",
    "samples = \"Password123, Secure456, weak, password, Password\"\n",
    "\n",
    "patterns = {\n",
    "    \"digits\": r\"\\d\",\n",
    "    \"latin\": r\"[A-Z]\",\n",
    "    \"latin_low\": r\"[a-z]\",\n",
    "    \"length\": r\"^.{8,}$\",\n",
    "}\n",
    "for sample in samples.split(','):\n",
    "  results = {}\n",
    "  for key, pattern in patterns.items():\n",
    "      results[key] = bool(re.search(pattern, sample))\n",
    "  if results['digits'] and results['latin'] and results['latin_low'] and results['length']:\n",
    "      print(sample)"
   ],
   "metadata": {
    "colab": {
     "base_uri": "https://localhost:8080/"
    },
    "id": "0JOFPMy7qTbH",
    "outputId": "a8f73bb6-2dad-4ba0-8ba7-77aa0cad72d5",
    "ExecuteTime": {
     "end_time": "2025-09-18T15:01:03.023284Z",
     "start_time": "2025-09-18T15:01:03.016039Z"
    }
   },
   "outputs": [
    {
     "name": "stdout",
     "output_type": "stream",
     "text": [
      "Password123\n",
      " Secure456\n"
     ]
    }
   ],
   "execution_count": 7
  },
  {
   "cell_type": "code",
   "source": [
    "#problem7\n",
    "sampes = 'Visit our website at https://www.example.com or check out http://blog.example.org for updates.'\n",
    "\n",
    "matches = re.findall(r\"https?://[\\S]+\", sampes)\n",
    "print(matches)"
   ],
   "metadata": {
    "colab": {
     "base_uri": "https://localhost:8080/"
    },
    "id": "Qf0IiLKOFIIk",
    "outputId": "d574bdc7-1502-4457-e790-04cca7f828dd",
    "ExecuteTime": {
     "end_time": "2025-09-18T15:01:03.065533Z",
     "start_time": "2025-09-18T15:01:03.059748Z"
    }
   },
   "outputs": [
    {
     "name": "stdout",
     "output_type": "stream",
     "text": [
      "['https://www.example.com', 'http://blog.example.org']\n"
     ]
    }
   ],
   "execution_count": 8
  },
  {
   "cell_type": "code",
   "source": [
    "#problem8\n",
    "sample = 'This  text  has  multiple   spaces.'\n",
    "matches = re.sub(r'\\s+', ' ', sample)\n",
    "print(matches)"
   ],
   "metadata": {
    "colab": {
     "base_uri": "https://localhost:8080/"
    },
    "id": "HmIWtZv6GVji",
    "outputId": "9a2a415f-3ac5-40ca-9328-4f0c29767abf",
    "ExecuteTime": {
     "end_time": "2025-09-18T15:01:03.105541Z",
     "start_time": "2025-09-18T15:01:03.099792Z"
    }
   },
   "outputs": [
    {
     "name": "stdout",
     "output_type": "stream",
     "text": [
      "This text has multiple spaces.\n"
     ]
    }
   ],
   "execution_count": 9
  },
  {
   "cell_type": "code",
   "source": [
    "#problem9\n",
    "samples = 'He said, \"Hello, world!\" and she replied, \"Hi there!\"'\n",
    "matches = re.findall(r'\"[^\"]*\"', samples)\n",
    "print(matches)"
   ],
   "metadata": {
    "colab": {
     "base_uri": "https://localhost:8080/"
    },
    "id": "P-2QlyDJM4yU",
    "outputId": "f69b73a2-0b7f-43ae-e6ab-47cfdec66892",
    "ExecuteTime": {
     "end_time": "2025-09-18T15:01:03.145689Z",
     "start_time": "2025-09-18T15:01:03.140014Z"
    }
   },
   "outputs": [
    {
     "name": "stdout",
     "output_type": "stream",
     "text": [
      "['\"Hello, world!\"', '\"Hi there!\"']\n"
     ]
    }
   ],
   "execution_count": 10
  },
  {
   "cell_type": "code",
   "source": [
    "#problem10\n",
    "samples = '192.168.1.1, 10.0.0.255, 256.1.2.3, 192.168.01.1, 192.168.1'\n",
    "\n",
    "matches = re.findall(r'\\b(?:\\d{1,3}\\.){3}\\d{1,3}\\b',samples)\n",
    "\n",
    "for match in matches:\n",
    "    match_split = match.split('.')\n",
    "    for octet in match_split:\n",
    "        if int(octet) > 255 or re.match(r'^0+\\d', octet):\n",
    "            print(f\"Invalid IP address: {match}\")\n",
    "            break\n",
    "    else:\n",
    "        print(f\"Valid IP address: {match}\")"
   ],
   "metadata": {
    "colab": {
     "base_uri": "https://localhost:8080/"
    },
    "id": "hmZT4mpjOuB5",
    "outputId": "eda41900-f5ee-4be1-8e14-0c420c0f0783",
    "ExecuteTime": {
     "end_time": "2025-09-19T07:54:54.431068Z",
     "start_time": "2025-09-19T07:54:54.424643Z"
    }
   },
   "outputs": [
    {
     "name": "stdout",
     "output_type": "stream",
     "text": [
      "Valid IP address: 192.168.1.1\n",
      "Valid IP address: 10.0.0.255\n",
      "Invalid IP address: 256.1.2.3\n",
      "Invalid IP address: 192.168.01.1\n"
     ]
    }
   ],
   "execution_count": 21
  },
  {
   "cell_type": "code",
   "source": [],
   "metadata": {
    "id": "55uS1nHuQG38",
    "ExecuteTime": {
     "end_time": "2025-09-18T15:01:03.224409Z",
     "start_time": "2025-09-18T15:01:03.221631Z"
    }
   },
   "outputs": [],
   "execution_count": null
  }
 ]
}

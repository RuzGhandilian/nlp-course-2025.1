{
 "cells": [
  {
   "cell_type": "code",
   "execution_count": 70,
   "id": "4a380cb2-2738-468c-b934-af1269ff6326",
   "metadata": {},
   "outputs": [],
   "source": [
    "import string\n",
    "text = \"Natural Language Processing (NLP) is a subfield of linguistics, computer science, and artificial intelligence concerned with the interactions between computers and human language. It's used to analyze text, allowing machines to understand, interpret, and manipulate human language. NLP has many real-world applications, including machine translation, sentiment analysis, and chatbots.\""
   ]
  },
  {
   "cell_type": "code",
   "execution_count": 71,
   "id": "ac662c1f-010f-4407-9f72-d4b4afb14362",
   "metadata": {},
   "outputs": [],
   "source": [
    "def txt_tokenization(text):\n",
    "    tokens = text.split()\n",
    "    return tokens\n"
   ]
  },
  {
   "cell_type": "code",
   "execution_count": 72,
   "id": "bdd655f8-f1e3-4992-8d3a-6948eec32d08",
   "metadata": {},
   "outputs": [],
   "source": [
    "def lowercase_tokens(tokens):\n",
    "    return [t.lower() for t in tokens]\n",
    "\n",
    "k = txt_tokenization(txt)\n",
    "lowered_tokens = lowercase_tokens(k)\n",
    "\n"
   ]
  },
  {
   "cell_type": "code",
   "execution_count": 73,
   "id": "700e82cb-ed9a-4204-a441-c84790b65bc1",
   "metadata": {},
   "outputs": [
    {
     "name": "stdout",
     "output_type": "stream",
     "text": [
      "['Natural', 'Language', 'Processing', '(NLP)', 'is', 'a', 'subfield', 'of', 'linguistics,', 'computer', 'science,', 'and', 'artificial', 'intelligence', 'concerned', 'with', 'the', 'interactions', 'between', 'computers', 'and', 'human', 'language.', \"It's\", 'used', 'to', 'analyze', 'text,', 'allowing', 'machines', 'to', 'understand,', 'interpret,', 'and', 'manipulate', 'human', 'language.', 'NLP', 'has', 'many', 'real-world', 'applications,', 'including', 'machine', 'translation,', 'sentiment', 'analysis,', 'and', 'chatbots.']\n"
     ]
    }
   ],
   "source": [
    "print(k)"
   ]
  },
  {
   "cell_type": "code",
   "execution_count": 74,
   "id": "5897708f-1077-4b39-abfe-e15a94c0b121",
   "metadata": {},
   "outputs": [
    {
     "name": "stdout",
     "output_type": "stream",
     "text": [
      "['natural', 'language', 'processing', '(nlp)', 'is', 'a', 'subfield', 'of', 'linguistics,', 'computer', 'science,', 'and', 'artificial', 'intelligence', 'concerned', 'with', 'the', 'interactions', 'between', 'computers', 'and', 'human', 'language.', \"it's\", 'used', 'to', 'analyze', 'text,', 'allowing', 'machines', 'to', 'understand,', 'interpret,', 'and', 'manipulate', 'human', 'language.', 'nlp', 'has', 'many', 'real-world', 'applications,', 'including', 'machine', 'translation,', 'sentiment', 'analysis,', 'and', 'chatbots.']\n"
     ]
    }
   ],
   "source": [
    "print(lowered_tokens)"
   ]
  },
  {
   "cell_type": "code",
   "execution_count": 75,
   "id": "744f3f0f-91f9-4aee-b749-33b0fe88a646",
   "metadata": {},
   "outputs": [],
   "source": [
    "def remove_punctuation(lowered_token):\n",
    "    cleaned = []\n",
    "    for t in tokens:\n",
    "        t = t.strip(string.punctuation)\n",
    "        if t:\n",
    "            cleaned.append(t)\n",
    "    return cleaned\n",
    "tokens = remove_punctuation(lowered_tokens)"
   ]
  },
  {
   "cell_type": "code",
   "execution_count": 76,
   "id": "023c744d-07c4-48de-bce3-9b7682980353",
   "metadata": {},
   "outputs": [
    {
     "name": "stdout",
     "output_type": "stream",
     "text": [
      "['natural', 'language', 'processing', 'nlp', 'is', 'a', 'subfield', 'of', 'linguistics', 'computer', 'science', 'and', 'artificial', 'intelligence', 'concerned', 'with', 'the', 'interactions', 'between', 'computers', 'and', 'human', 'language', \"it's\", 'used', 'to', 'analyze', 'text', 'allowing', 'machines', 'to', 'understand', 'interpret', 'and', 'manipulate', 'human', 'language', 'nlp', 'has', 'many', 'real-world', 'applications', 'including', 'machine', 'translation', 'sentiment', 'analysis', 'and', 'chatbots']\n"
     ]
    }
   ],
   "source": [
    "print(tokens)"
   ]
  },
  {
   "cell_type": "code",
   "execution_count": 77,
   "id": "dbfe219f-e407-412f-94f4-706b11aea4d4",
   "metadata": {},
   "outputs": [],
   "source": [
    "stop_words = ['the', 'is', 'and', 'a', 'an', 'in', 'of', 'to', 'it', 'on', 'for']\n",
    "\n",
    "def remove_stopwords(tokens):\n",
    "    cleaned = []\n",
    "    for t in tokens:\n",
    "        if t not in stop_words:  \n",
    "            cleaned.append(t)\n",
    "    return cleaned\n",
    "\n",
    "tokens_no_stop = remove_stopwords(tokens)"
   ]
  },
  {
   "cell_type": "code",
   "execution_count": 78,
   "id": "25f0dbec-b679-4180-8e44-a8496cb26ac8",
   "metadata": {},
   "outputs": [
    {
     "name": "stdout",
     "output_type": "stream",
     "text": [
      "['natural', 'language', 'processing', 'nlp', 'subfield', 'linguistics', 'computer', 'science', 'artificial', 'intelligence', 'concerned', 'with', 'interactions', 'between', 'computers', 'human', 'language', \"it's\", 'used', 'analyze', 'text', 'allowing', 'machines', 'understand', 'interpret', 'manipulate', 'human', 'language', 'nlp', 'has', 'many', 'real-world', 'applications', 'including', 'machine', 'translation', 'sentiment', 'analysis', 'chatbots']\n"
     ]
    }
   ],
   "source": [
    "print(tokens_no_stop)"
   ]
  },
  {
   "cell_type": "code",
   "execution_count": 83,
   "id": "474929fb-7c10-4513-8461-07863a7a4c18",
   "metadata": {},
   "outputs": [
    {
     "name": "stdout",
     "output_type": "stream",
     "text": [
      "Original: ['natural', 'language', 'processing', 'nlp', 'subfield', 'linguistics', 'computer', 'science', 'artificial', 'intelligence', 'concerned', 'with', 'interactions', 'between', 'computers', 'human', 'language', \"it's\", 'used', 'analyze', 'text', 'allowing', 'machines', 'understand', 'interpret', 'manipulate', 'human', 'language', 'nlp', 'has', 'many', 'real-world', 'applications', 'including', 'machine', 'translation', 'sentiment', 'analysis', 'chatbots']\n",
      "Stemmed : ['natural', 'language', 'process', 'nlp', 'subfield', 'linguistic', 'computer', 'science', 'artificial', 'intelligence', 'concern', 'with', 'interaction', 'between', 'computer', 'human', 'language', \"it'\", 'used', 'analyze', 'text', 'allow', 'machin', 'understand', 'interpret', 'manipulate', 'human', 'language', 'nlp', 'has', 'many', 'real-world', 'application', 'includ', 'machine', 'transl', 'sentiment', 'analysi', 'chatbot']\n"
     ]
    }
   ],
   "source": [
    "suffixes = ['ization','ational','fulness','iveness','ously','lessly',\n",
    "            'ement','ation','ition','ative','ness','able','ible',\n",
    "            'ing','ed','ly','es','s']\n",
    "\n",
    "def stemming(tokens_no_stop):\n",
    "    stem_list = []\n",
    "    for word in tokens_no_stop:\n",
    "        stem = word  \n",
    "        for suf in suffixes:\n",
    "            if word.endswith(suf) and len(word) > len(suf) + 2:\n",
    "                stem = word[:-len(suf)] \n",
    "                break  \n",
    "        stem_list.append(stem)\n",
    "    return stem_list\n",
    "\n",
    "\n"
   ]
  },
  {
   "cell_type": "code",
   "execution_count": 84,
   "id": "81bc046b-670f-4b3f-af9f-7be5ea810c8f",
   "metadata": {},
   "outputs": [
    {
     "name": "stdout",
     "output_type": "stream",
     "text": [
      "Original: ['natural', 'language', 'processing', 'nlp', 'subfield', 'linguistics', 'computer', 'science', 'artificial', 'intelligence', 'concerned', 'with', 'interactions', 'between', 'computers', 'human', 'language', \"it's\", 'used', 'analyze', 'text', 'allowing', 'machines', 'understand', 'interpret', 'manipulate', 'human', 'language', 'nlp', 'has', 'many', 'real-world', 'applications', 'including', 'machine', 'translation', 'sentiment', 'analysis', 'chatbots']\n",
      "Stemmed : ['natural', 'language', 'process', 'nlp', 'subfield', 'linguistic', 'computer', 'science', 'artificial', 'intelligence', 'concern', 'with', 'interaction', 'between', 'computer', 'human', 'language', \"it'\", 'used', 'analyze', 'text', 'allow', 'machin', 'understand', 'interpret', 'manipulate', 'human', 'language', 'nlp', 'has', 'many', 'real-world', 'application', 'includ', 'machine', 'transl', 'sentiment', 'analysi', 'chatbot']\n"
     ]
    }
   ],
   "source": [
    "stemm = stemming(tokens_no_stop)\n",
    "print(\"Original:\", tokens_no_stop)\n",
    "print(\"Stemmed :\", stemm)"
   ]
  },
  {
   "cell_type": "code",
   "execution_count": null,
   "id": "cbf14796-abc9-4c40-860c-02344810a790",
   "metadata": {},
   "outputs": [],
   "source": []
  }
 ],
 "metadata": {
  "kernelspec": {
   "display_name": "Python [conda env:base] *",
   "language": "python",
   "name": "conda-base-py"
  },
  "language_info": {
   "codemirror_mode": {
    "name": "ipython",
    "version": 3
   },
   "file_extension": ".py",
   "mimetype": "text/x-python",
   "name": "python",
   "nbconvert_exporter": "python",
   "pygments_lexer": "ipython3",
   "version": "3.13.5"
  }
 },
 "nbformat": 4,
 "nbformat_minor": 5
}

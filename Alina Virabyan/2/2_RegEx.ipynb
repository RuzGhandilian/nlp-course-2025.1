{
 "cells": [
  {
   "cell_type": "code",
   "execution_count": 3,
   "id": "9b55046f-1df7-4a29-ac9f-a8faa1fde732",
   "metadata": {},
   "outputs": [
    {
     "name": "stdout",
     "output_type": "stream",
     "text": [
      "support@example.com\n",
      "sales@company.org\n",
      "john.doe123@university.edu.\n"
     ]
    }
   ],
   "source": [
    "#1\n",
    "import re\n",
    "def email_address(txt):\n",
    "    patt = r'\\S+@\\S+\\.\\S+'\n",
    "    m = re.findall(patt, txt)\n",
    "    return m\n",
    "    \n",
    "k = email_address(txt = 'Contact us at support@example.com or sales@company.org for assistance. For personal inquiries, email john.doe123@university.edu.')\n",
    "print(*k, sep = '\\n')"
   ]
  },
  {
   "cell_type": "code",
   "execution_count": 4,
   "id": "ce9c5b3d-b7af-4818-9712-4e43c4217428",
   "metadata": {},
   "outputs": [
    {
     "name": "stdout",
     "output_type": "stream",
     "text": [
      "valid phone numbers:\n",
      "123-456-7890\n",
      "987-654-3210\n"
     ]
    }
   ],
   "source": [
    "#2\n",
    "#123-456-7890, 987-654-3210\n",
    "#12-345-67890, 1234567890, 123-45-6789\n",
    "\n",
    "import re\n",
    "def phone_number(txt):\n",
    "    patt = r'\\d\\d\\d\\-\\d\\d\\d\\-\\d\\d\\d\\d'\n",
    "    m = re.findall(patt, txt)\n",
    "    return m \n",
    "\n",
    "nums = phone_number(txt = '123-456-7890, 987-654-3210, 12-345-67890, 1234567890, 123-45-6789')\n",
    "print('valid phone numbers:',*nums, sep = '\\n')"
   ]
  },
  {
   "cell_type": "code",
   "execution_count": 5,
   "id": "4746cf45-794f-4b2b-bc4f-4cd9a8ad1a45",
   "metadata": {},
   "outputs": [
    {
     "name": "stdout",
     "output_type": "stream",
     "text": [
      "25/12/2023\n",
      "01-01-2024\n",
      "31/05/2023\n",
      "15-10-2024\n"
     ]
    }
   ],
   "source": [
    "#3\n",
    "#Important dates: 25/12/2023, 01-01-2024, 31/05/2023, and 15-10-2024.\n",
    "import re\n",
    "def extract_dates(txt):\n",
    "    patt = r'\\d{2}[/-]\\d{2}[/-]\\d{4}'\n",
    "    date_match = re.findall(patt, txt)\n",
    "    return date_match\n",
    "date = extract_dates(txt = '25/12/2023, 01-01-2024, 31/05/2023, and 15-10-2024.')\n",
    "print(*date, sep = '\\n')"
   ]
  },
  {
   "cell_type": "code",
   "execution_count": 8,
   "id": "59b09064-3072-4185-80f1-69fdbed12956",
   "metadata": {},
   "outputs": [
    {
     "name": "stdout",
     "output_type": "stream",
     "text": [
      "['the']\n"
     ]
    }
   ],
   "source": [
    "#4-?\n",
    "import re\n",
    "def reapeted_words(txt):\n",
    "    patt = r'\\b(\\w+)\\s+\\1\\b'\n",
    "    matches = re.findall(patt, txt)\n",
    "    for i in txt:\n",
    "        if re.findall:\n",
    "            return matches\n",
    "   \n",
    "word = reapeted_words(txt = 'The the  quick brown fox jumps over the the lazy dog.')\n",
    "print(word)"
   ]
  },
  {
   "cell_type": "code",
   "execution_count": 17,
   "id": "d916efba-10d7-4365-b367-23e8851f2458",
   "metadata": {},
   "outputs": [
    {
     "name": "stdout",
     "output_type": "stream",
     "text": [
      "#Sale2024\n",
      "#NewArrival\n",
      "#Discounts\n"
     ]
    }
   ],
   "source": [
    "#5\n",
    "import re\n",
    "def extract_hashtags(txt):\n",
    "    patt = r'#\\w+'\n",
    "    matches = re.findall(patt, txt)\n",
    "    return matches\n",
    "\n",
    "hashtag = extract_hashtags(txt = 'Check out our new products: #Sale2024, #NewArrival, and #Discounts!')\n",
    "print(*hashtag, sep = '\\n')"
   ]
  },
  {
   "cell_type": "code",
   "execution_count": 11,
   "id": "f798d883-41b5-4a59-9138-d9f575eaa1d1",
   "metadata": {},
   "outputs": [
    {
     "name": "stdout",
     "output_type": "stream",
     "text": [
      "valid passwords: Password123 Secure456\n"
     ]
    }
   ],
   "source": [
    "#6\n",
    "import re\n",
    "def address(txt):\n",
    "    splitted_txt = txt.split()\n",
    "    valid = []\n",
    "    condition1 = r'\\w{8}'\n",
    "    condition2 = r'\\b[A-Z]\\w*'\n",
    "    condition3 = r'\\b[a-z]\\w*'\n",
    "    condition4 = r'\\w*\\d+'\n",
    "    for i in splitted_txt:\n",
    "        if (re.findall(condition1, i) and (re.findall(condition2, i) or re.findall(condition3, i)) and re.findall(condition4, i)):\n",
    "            valid.append(i)\n",
    "            #print(valid)\n",
    "        else:\n",
    "            break\n",
    "\n",
    "    return valid\n",
    "txt = \"Password123 Secure456 weak password Password\"\n",
    "k = address(txt)\n",
    "print('valid passwords:', *k)"
   ]
  },
  {
   "cell_type": "code",
   "execution_count": 12,
   "id": "ce326065-d1df-46c0-9002-33ac522d3b70",
   "metadata": {},
   "outputs": [
    {
     "name": "stdout",
     "output_type": "stream",
     "text": [
      "https://www.example.com http://blog.example.org\n"
     ]
    }
   ],
   "source": [
    "#7\n",
    "import re\n",
    "def url_extract(txt):\n",
    "    patt = r'https?://\\S+|www\\.\\S+'\n",
    "    m = re.findall(patt, txt)\n",
    "    return m \n",
    "\n",
    "url_ext = url_extract(txt = 'Visit our website at https://www.example.com or check out http://blog.example.org for updates.')\n",
    "print(*url_ext)\n",
    "    "
   ]
  },
  {
   "cell_type": "code",
   "execution_count": 13,
   "id": "dfd261a1-cd6a-48de-ac80-20e5cec2e58c",
   "metadata": {},
   "outputs": [
    {
     "name": "stdout",
     "output_type": "stream",
     "text": [
      "This text has multiple spaces.\n"
     ]
    }
   ],
   "source": [
    "#8\n",
    "import re\n",
    "def spaces(txt):\n",
    "    m = re.sub(r\"\\s+\", \" \", txt)\n",
    "    return m \n",
    "single_spaces = spaces(txt = 'This  text  has  multiple  spaces.')\n",
    "print(single_spaces)"
   ]
  },
  {
   "cell_type": "code",
   "execution_count": 14,
   "id": "bbc9fa19-61c5-4a62-8389-de56c89318aa",
   "metadata": {},
   "outputs": [
    {
     "name": "stdout",
     "output_type": "stream",
     "text": [
      "Hello, world!\n",
      "Hi there!\n"
     ]
    }
   ],
   "source": [
    "#9\n",
    "import re\n",
    "\n",
    "def extract_quotes(txt):\n",
    "    pattern = r'\"(.*?)\"'\n",
    "    return re.findall(pattern, txt)\n",
    "\n",
    "text = 'He said, \"Hello, world!\" and she replied, \"Hi there!\"'\n",
    "result = extract_quotes(text)\n",
    "\n",
    "print(*result, sep=\"\\n\")\n"
   ]
  },
  {
   "cell_type": "code",
   "execution_count": 1,
   "id": "a2caab5e-cd04-4d88-a819-1f034a0d2867",
   "metadata": {},
   "outputs": [
    {
     "name": "stdout",
     "output_type": "stream",
     "text": [
      "Extracted IP addresses:\n",
      "192.168.1.1\n",
      "10.0.0.255\n",
      "256.1.2.3\n",
      "192.168.01.1\n"
     ]
    }
   ],
   "source": [
    "#10\n",
    "import re\n",
    "\n",
    "def extract_ips(txt):\n",
    "    pattern = r\"\\b(?:[0-9]{1,3}\\.){3}[0-9]{1,3}\\b\"\n",
    "    return re.findall(pattern, txt)\n",
    "\n",
    "text = \"Valid: 192.168.1.1, 10.0.0.255, Invalid: 256.1.2.3, 192.168.01.1, 192.168.1\"\n",
    "ips = extract_ips(text)\n",
    "\n",
    "print(\"Extracted IP addresses:\")\n",
    "for ip in ips:\n",
    "    print(ip)\n"
   ]
  },
  {
   "cell_type": "code",
   "execution_count": null,
   "id": "54cf86c6-be83-4229-b0d5-14395839fd0a",
   "metadata": {},
   "outputs": [],
   "source": []
  }
 ],
 "metadata": {
  "kernelspec": {
   "display_name": "Python [conda env:base] *",
   "language": "python",
   "name": "conda-base-py"
  },
  "language_info": {
   "codemirror_mode": {
    "name": "ipython",
    "version": 3
   },
   "file_extension": ".py",
   "mimetype": "text/x-python",
   "name": "python",
   "nbconvert_exporter": "python",
   "pygments_lexer": "ipython3",
   "version": "3.13.5"
  }
 },
 "nbformat": 4,
 "nbformat_minor": 5
}

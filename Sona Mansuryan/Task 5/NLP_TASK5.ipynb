{
  "nbformat": 4,
  "nbformat_minor": 0,
  "metadata": {
    "colab": {
      "provenance": []
    },
    "kernelspec": {
      "name": "python3",
      "display_name": "Python 3"
    },
    "language_info": {
      "name": "python"
    }
  },
  "cells": [
    {
      "cell_type": "markdown",
      "source": [
        "# **Naive Bayes Spam Classifier**"
      ],
      "metadata": {
        "id": "nO92Aa2vXgJi"
      }
    },
    {
      "cell_type": "markdown",
      "source": [
        "**1. Data Collection**"
      ],
      "metadata": {
        "id": "gxtmxgluXkm8"
      }
    },
    {
      "cell_type": "code",
      "execution_count": 1,
      "metadata": {
        "colab": {
          "base_uri": "https://localhost:8080/",
          "height": 299
        },
        "id": "7sJfUANGW-rs",
        "outputId": "c36b0db8-327e-4ef1-c365-9486687c3bd0"
      },
      "outputs": [
        {
          "output_type": "display_data",
          "data": {
            "text/plain": [
              "<IPython.core.display.HTML object>"
            ],
            "text/html": [
              "\n",
              "     <input type=\"file\" id=\"files-9b2e4ccc-d0e8-477c-bc14-d6cdcc884493\" name=\"files[]\" multiple disabled\n",
              "        style=\"border:none\" />\n",
              "     <output id=\"result-9b2e4ccc-d0e8-477c-bc14-d6cdcc884493\">\n",
              "      Upload widget is only available when the cell has been executed in the\n",
              "      current browser session. Please rerun this cell to enable.\n",
              "      </output>\n",
              "      <script>// Copyright 2017 Google LLC\n",
              "//\n",
              "// Licensed under the Apache License, Version 2.0 (the \"License\");\n",
              "// you may not use this file except in compliance with the License.\n",
              "// You may obtain a copy of the License at\n",
              "//\n",
              "//      http://www.apache.org/licenses/LICENSE-2.0\n",
              "//\n",
              "// Unless required by applicable law or agreed to in writing, software\n",
              "// distributed under the License is distributed on an \"AS IS\" BASIS,\n",
              "// WITHOUT WARRANTIES OR CONDITIONS OF ANY KIND, either express or implied.\n",
              "// See the License for the specific language governing permissions and\n",
              "// limitations under the License.\n",
              "\n",
              "/**\n",
              " * @fileoverview Helpers for google.colab Python module.\n",
              " */\n",
              "(function(scope) {\n",
              "function span(text, styleAttributes = {}) {\n",
              "  const element = document.createElement('span');\n",
              "  element.textContent = text;\n",
              "  for (const key of Object.keys(styleAttributes)) {\n",
              "    element.style[key] = styleAttributes[key];\n",
              "  }\n",
              "  return element;\n",
              "}\n",
              "\n",
              "// Max number of bytes which will be uploaded at a time.\n",
              "const MAX_PAYLOAD_SIZE = 100 * 1024;\n",
              "\n",
              "function _uploadFiles(inputId, outputId) {\n",
              "  const steps = uploadFilesStep(inputId, outputId);\n",
              "  const outputElement = document.getElementById(outputId);\n",
              "  // Cache steps on the outputElement to make it available for the next call\n",
              "  // to uploadFilesContinue from Python.\n",
              "  outputElement.steps = steps;\n",
              "\n",
              "  return _uploadFilesContinue(outputId);\n",
              "}\n",
              "\n",
              "// This is roughly an async generator (not supported in the browser yet),\n",
              "// where there are multiple asynchronous steps and the Python side is going\n",
              "// to poll for completion of each step.\n",
              "// This uses a Promise to block the python side on completion of each step,\n",
              "// then passes the result of the previous step as the input to the next step.\n",
              "function _uploadFilesContinue(outputId) {\n",
              "  const outputElement = document.getElementById(outputId);\n",
              "  const steps = outputElement.steps;\n",
              "\n",
              "  const next = steps.next(outputElement.lastPromiseValue);\n",
              "  return Promise.resolve(next.value.promise).then((value) => {\n",
              "    // Cache the last promise value to make it available to the next\n",
              "    // step of the generator.\n",
              "    outputElement.lastPromiseValue = value;\n",
              "    return next.value.response;\n",
              "  });\n",
              "}\n",
              "\n",
              "/**\n",
              " * Generator function which is called between each async step of the upload\n",
              " * process.\n",
              " * @param {string} inputId Element ID of the input file picker element.\n",
              " * @param {string} outputId Element ID of the output display.\n",
              " * @return {!Iterable<!Object>} Iterable of next steps.\n",
              " */\n",
              "function* uploadFilesStep(inputId, outputId) {\n",
              "  const inputElement = document.getElementById(inputId);\n",
              "  inputElement.disabled = false;\n",
              "\n",
              "  const outputElement = document.getElementById(outputId);\n",
              "  outputElement.innerHTML = '';\n",
              "\n",
              "  const pickedPromise = new Promise((resolve) => {\n",
              "    inputElement.addEventListener('change', (e) => {\n",
              "      resolve(e.target.files);\n",
              "    });\n",
              "  });\n",
              "\n",
              "  const cancel = document.createElement('button');\n",
              "  inputElement.parentElement.appendChild(cancel);\n",
              "  cancel.textContent = 'Cancel upload';\n",
              "  const cancelPromise = new Promise((resolve) => {\n",
              "    cancel.onclick = () => {\n",
              "      resolve(null);\n",
              "    };\n",
              "  });\n",
              "\n",
              "  // Wait for the user to pick the files.\n",
              "  const files = yield {\n",
              "    promise: Promise.race([pickedPromise, cancelPromise]),\n",
              "    response: {\n",
              "      action: 'starting',\n",
              "    }\n",
              "  };\n",
              "\n",
              "  cancel.remove();\n",
              "\n",
              "  // Disable the input element since further picks are not allowed.\n",
              "  inputElement.disabled = true;\n",
              "\n",
              "  if (!files) {\n",
              "    return {\n",
              "      response: {\n",
              "        action: 'complete',\n",
              "      }\n",
              "    };\n",
              "  }\n",
              "\n",
              "  for (const file of files) {\n",
              "    const li = document.createElement('li');\n",
              "    li.append(span(file.name, {fontWeight: 'bold'}));\n",
              "    li.append(span(\n",
              "        `(${file.type || 'n/a'}) - ${file.size} bytes, ` +\n",
              "        `last modified: ${\n",
              "            file.lastModifiedDate ? file.lastModifiedDate.toLocaleDateString() :\n",
              "                                    'n/a'} - `));\n",
              "    const percent = span('0% done');\n",
              "    li.appendChild(percent);\n",
              "\n",
              "    outputElement.appendChild(li);\n",
              "\n",
              "    const fileDataPromise = new Promise((resolve) => {\n",
              "      const reader = new FileReader();\n",
              "      reader.onload = (e) => {\n",
              "        resolve(e.target.result);\n",
              "      };\n",
              "      reader.readAsArrayBuffer(file);\n",
              "    });\n",
              "    // Wait for the data to be ready.\n",
              "    let fileData = yield {\n",
              "      promise: fileDataPromise,\n",
              "      response: {\n",
              "        action: 'continue',\n",
              "      }\n",
              "    };\n",
              "\n",
              "    // Use a chunked sending to avoid message size limits. See b/62115660.\n",
              "    let position = 0;\n",
              "    do {\n",
              "      const length = Math.min(fileData.byteLength - position, MAX_PAYLOAD_SIZE);\n",
              "      const chunk = new Uint8Array(fileData, position, length);\n",
              "      position += length;\n",
              "\n",
              "      const base64 = btoa(String.fromCharCode.apply(null, chunk));\n",
              "      yield {\n",
              "        response: {\n",
              "          action: 'append',\n",
              "          file: file.name,\n",
              "          data: base64,\n",
              "        },\n",
              "      };\n",
              "\n",
              "      let percentDone = fileData.byteLength === 0 ?\n",
              "          100 :\n",
              "          Math.round((position / fileData.byteLength) * 100);\n",
              "      percent.textContent = `${percentDone}% done`;\n",
              "\n",
              "    } while (position < fileData.byteLength);\n",
              "  }\n",
              "\n",
              "  // All done.\n",
              "  yield {\n",
              "    response: {\n",
              "      action: 'complete',\n",
              "    }\n",
              "  };\n",
              "}\n",
              "\n",
              "scope.google = scope.google || {};\n",
              "scope.google.colab = scope.google.colab || {};\n",
              "scope.google.colab._files = {\n",
              "  _uploadFiles,\n",
              "  _uploadFilesContinue,\n",
              "};\n",
              "})(self);\n",
              "</script> "
            ]
          },
          "metadata": {}
        },
        {
          "output_type": "stream",
          "name": "stdout",
          "text": [
            "Saving spam.csv to spam.csv\n",
            "     v1                                                 v2 Unnamed: 2  \\\n",
            "0   ham  Go until jurong point, crazy.. Available only ...        NaN   \n",
            "1   ham                      Ok lar... Joking wif u oni...        NaN   \n",
            "2  spam  Free entry in 2 a wkly comp to win FA Cup fina...        NaN   \n",
            "3   ham  U dun say so early hor... U c already then say...        NaN   \n",
            "4   ham  Nah I don't think he goes to usf, he lives aro...        NaN   \n",
            "\n",
            "  Unnamed: 3 Unnamed: 4  \n",
            "0        NaN        NaN  \n",
            "1        NaN        NaN  \n",
            "2        NaN        NaN  \n",
            "3        NaN        NaN  \n",
            "4        NaN        NaN  \n"
          ]
        }
      ],
      "source": [
        "import pandas as pd\n",
        "from google.colab import files\n",
        "\n",
        "uploaded = files.upload()\n",
        "\n",
        "data = pd.read_csv('spam.csv', encoding=\"latin1\")\n",
        "\n",
        "print(data.head())"
      ]
    },
    {
      "cell_type": "markdown",
      "source": [
        "**2. Data Cleaning / Preprocessing**"
      ],
      "metadata": {
        "id": "LGF8eAdYXott"
      }
    },
    {
      "cell_type": "code",
      "source": [
        "import re\n",
        "import string\n",
        "import nltk\n",
        "from nltk.corpus import stopwords\n",
        "nltk.download('stopwords')\n",
        "\n",
        "stop_words = set(stopwords.words('english'))\n",
        "\n",
        "def clean_data(text):\n",
        "    text = text.lower()\n",
        "    text = text.translate(str.maketrans('', '', string.punctuation))\n",
        "    text = re.sub(r\"\\d+\", \" \", text)\n",
        "    text = text.encode('ascii', errors='ignore').decode()\n",
        "    tokens = text.split()\n",
        "    tokens = [word for word in tokens if word not in stop_words]\n",
        "\n",
        "    return tokens\n",
        "\n",
        "\n",
        "data = data.rename(columns={'v1': 'label', 'v2': 'email'})\n",
        "\n",
        "data['clean_data'] = data['email'].apply(clean_data)\n",
        "\n",
        "print(data[['label','email','clean_data']].head(), \"\\n\")"
      ],
      "metadata": {
        "colab": {
          "base_uri": "https://localhost:8080/"
        },
        "id": "AGrzy6cUdDSN",
        "outputId": "230f0f08-5483-44b6-ff54-410185ff7ca0"
      },
      "execution_count": 5,
      "outputs": [
        {
          "output_type": "stream",
          "name": "stdout",
          "text": [
            "  label                                              email  \\\n",
            "0   ham  Go until jurong point, crazy.. Available only ...   \n",
            "1   ham                      Ok lar... Joking wif u oni...   \n",
            "2  spam  Free entry in 2 a wkly comp to win FA Cup fina...   \n",
            "3   ham  U dun say so early hor... U c already then say...   \n",
            "4   ham  Nah I don't think he goes to usf, he lives aro...   \n",
            "\n",
            "                                          clean_data  \n",
            "0  [go, jurong, point, crazy, available, bugis, n...  \n",
            "1                     [ok, lar, joking, wif, u, oni]  \n",
            "2  [free, entry, wkly, comp, win, fa, cup, final,...  \n",
            "3      [u, dun, say, early, hor, u, c, already, say]  \n",
            "4  [nah, dont, think, goes, usf, lives, around, t...   \n",
            "\n"
          ]
        },
        {
          "output_type": "stream",
          "name": "stderr",
          "text": [
            "[nltk_data] Downloading package stopwords to /root/nltk_data...\n",
            "[nltk_data]   Package stopwords is already up-to-date!\n"
          ]
        }
      ]
    },
    {
      "cell_type": "markdown",
      "source": [
        "**3. Feature Extraction (Bag of Words)**"
      ],
      "metadata": {
        "id": "Bb93pD1vW5sX"
      }
    },
    {
      "cell_type": "code",
      "source": [
        "vocabulary = set()\n",
        "for tokens in data['clean_data']:\n",
        "    vocabulary.update(tokens)\n",
        "\n",
        "vocabulary = list(vocabulary)\n",
        "\n",
        "print(\"Vocabulary size:\", len(vocabulary))\n",
        "print(\"First 20 words:\", vocabulary[:20])"
      ],
      "metadata": {
        "colab": {
          "base_uri": "https://localhost:8080/"
        },
        "id": "yR2aVsAzxu8w",
        "outputId": "6f96a7c1-4c15-4b02-b314-328231d5f36e"
      },
      "execution_count": 6,
      "outputs": [
        {
          "output_type": "stream",
          "name": "stdout",
          "text": [
            "Vocabulary size: 8345\n",
            "First 20 words: ['orh', 'planning', 'optouthf', 'luckily', 'opposed', 'tantrums', 'medicine', 'answers', 'meetgreet', 'voda', 'ff', 'card', 'tests', 'cuddling', 'trusting', 'kwish', 'texted', 'computers', 'weddingfriend', 'valuemorning']\n"
          ]
        }
      ]
    },
    {
      "cell_type": "code",
      "source": [
        "def bow_features(tokens, vocabulary):\n",
        "    return [tokens.count(word) for word in vocabulary]\n",
        "\n",
        "data['bow_vector'] = data['clean_data'].apply(lambda x: bow_features(x, vocabulary))\n",
        "\n",
        "print(data[['label','bow_vector']])"
      ],
      "metadata": {
        "colab": {
          "base_uri": "https://localhost:8080/"
        },
        "id": "X5-PG6YlykU4",
        "outputId": "37b72751-5507-43c1-c126-6bb650d6d45c"
      },
      "execution_count": 7,
      "outputs": [
        {
          "output_type": "stream",
          "name": "stdout",
          "text": [
            "     label                                         bow_vector\n",
            "0      ham  [0, 0, 0, 0, 0, 0, 0, 0, 0, 0, 0, 0, 0, 0, 0, ...\n",
            "1      ham  [0, 0, 0, 0, 0, 0, 0, 0, 0, 0, 0, 0, 0, 0, 0, ...\n",
            "2     spam  [0, 0, 0, 0, 0, 0, 0, 0, 0, 0, 0, 0, 0, 0, 0, ...\n",
            "3      ham  [0, 0, 0, 0, 0, 0, 0, 0, 0, 0, 0, 0, 0, 0, 0, ...\n",
            "4      ham  [0, 0, 0, 0, 0, 0, 0, 0, 0, 0, 0, 0, 0, 0, 0, ...\n",
            "...    ...                                                ...\n",
            "5567  spam  [0, 0, 0, 0, 0, 0, 0, 0, 0, 0, 0, 0, 0, 0, 0, ...\n",
            "5568   ham  [0, 0, 0, 0, 0, 0, 0, 0, 0, 0, 0, 0, 0, 0, 0, ...\n",
            "5569   ham  [0, 0, 0, 0, 0, 0, 0, 0, 0, 0, 0, 0, 0, 0, 0, ...\n",
            "5570   ham  [0, 0, 0, 0, 0, 0, 0, 0, 0, 0, 0, 0, 0, 0, 0, ...\n",
            "5571   ham  [0, 0, 0, 0, 0, 0, 0, 0, 0, 0, 0, 0, 0, 0, 0, ...\n",
            "\n",
            "[5572 rows x 2 columns]\n"
          ]
        }
      ]
    },
    {
      "cell_type": "markdown",
      "source": [
        "**4. Prior Probabilities**"
      ],
      "metadata": {
        "id": "rezpnGqVXBHn"
      }
    },
    {
      "cell_type": "code",
      "source": [
        "import numpy as np\n",
        "\n",
        "vocab_index = {word: i for i, word in enumerate(vocabulary)}\n",
        "V = len(vocabulary)\n",
        "\n",
        "spam_word_counts = np.zeros(V)\n",
        "ham_word_counts  = np.zeros(V)\n",
        "\n",
        "num_spam_emails = 0\n",
        "num_ham_emails  = 0\n",
        "total_spam_words = 0\n",
        "total_ham_words  = 0\n",
        "\n",
        "for bow, label in zip(data['bow_vector'], data['label']):\n",
        "    if label == 'spam':\n",
        "        num_spam_emails += 1\n",
        "        for i, count in enumerate(bow):\n",
        "            spam_word_counts[i] += count\n",
        "            total_spam_words += count\n",
        "    else:\n",
        "        num_ham_emails += 1\n",
        "        for i, count in enumerate(bow):\n",
        "            ham_word_counts[i] += count\n",
        "            total_ham_words += count\n",
        "\n",
        "num_emails = len(data)\n",
        "P_spam = num_spam_emails / num_emails\n",
        "P_ham  = num_ham_emails / num_emails\n",
        "\n",
        "print(\"Number of emails:\", num_emails)\n",
        "print(\"Number of spam emails:\", num_spam_emails)\n",
        "print(\"Number of ham emails:\", num_ham_emails)\n",
        "print(f\"P(Spam) = {P_spam:.3f}\")\n",
        "print(f\"P(Ham)  = {P_ham:.3f}\")\n",
        "print()"
      ],
      "metadata": {
        "colab": {
          "base_uri": "https://localhost:8080/"
        },
        "id": "TKi-8w_bPUx5",
        "outputId": "63823907-7521-4a16-b781-4aef878961de"
      },
      "execution_count": 13,
      "outputs": [
        {
          "output_type": "stream",
          "name": "stdout",
          "text": [
            "Number of emails: 5572\n",
            "Number of spam emails: 747\n",
            "Number of ham emails: 4825\n",
            "P(Spam) = 0.134\n",
            "P(Ham)  = 0.866\n",
            "\n"
          ]
        }
      ]
    },
    {
      "cell_type": "markdown",
      "source": [
        "**5. Likelihood Probabilities**"
      ],
      "metadata": {
        "id": "J3pp_kFnX6Be"
      }
    },
    {
      "cell_type": "code",
      "source": [
        "spam_likelihood = [(count + 1) / (total_spam_words + V) for count in spam_word_counts]\n",
        "ham_likelihood  = [(count + 1) / (total_ham_words  + V) for count in ham_word_counts]\n",
        "\n",
        "print(\"\\nLikelihood Probabilities\")\n",
        "for i, word in enumerate(vocabulary[:20]):\n",
        "    print(f\"P({word}|Spam)={spam_likelihood[i]:.8f}, P({word}|Ham)={ham_likelihood[i]:.8f}\")"
      ],
      "metadata": {
        "colab": {
          "base_uri": "https://localhost:8080/"
        },
        "id": "ByE9nh-TX5go",
        "outputId": "109ba044-11aa-415c-eb24-98e4b49a5215"
      },
      "execution_count": 15,
      "outputs": [
        {
          "output_type": "stream",
          "name": "stdout",
          "text": [
            "\n",
            "Likelihood Probabilities\n",
            "P(orh|Spam)=0.00005171, P(orh|Ham)=0.00004241\n",
            "P(planning|Spam)=0.00005171, P(planning|Ham)=0.00019086\n",
            "P(optouthf|Spam)=0.00010342, P(optouthf|Ham)=0.00002121\n",
            "P(luckily|Spam)=0.00005171, P(luckily|Ham)=0.00004241\n",
            "P(opposed|Spam)=0.00005171, P(opposed|Ham)=0.00004241\n",
            "P(tantrums|Spam)=0.00005171, P(tantrums|Ham)=0.00004241\n",
            "P(medicine|Spam)=0.00005171, P(medicine|Ham)=0.00008483\n",
            "P(answers|Spam)=0.00005171, P(answers|Ham)=0.00010603\n",
            "P(meetgreet|Spam)=0.00015513, P(meetgreet|Ham)=0.00002121\n",
            "P(voda|Spam)=0.00031027, P(voda|Ham)=0.00002121\n",
            "P(ff|Spam)=0.00010342, P(ff|Ham)=0.00002121\n",
            "P(card|Spam)=0.00025856, P(card|Ham)=0.00029689\n",
            "P(tests|Spam)=0.00005171, P(tests|Ham)=0.00008483\n",
            "P(cuddling|Spam)=0.00005171, P(cuddling|Ham)=0.00006362\n",
            "P(trusting|Spam)=0.00005171, P(trusting|Ham)=0.00004241\n",
            "P(kwish|Spam)=0.00005171, P(kwish|Ham)=0.00004241\n",
            "P(texted|Spam)=0.00005171, P(texted|Ham)=0.00010603\n",
            "P(computers|Spam)=0.00005171, P(computers|Ham)=0.00004241\n",
            "P(weddingfriend|Spam)=0.00010342, P(weddingfriend|Ham)=0.00002121\n",
            "P(valuemorning|Spam)=0.00005171, P(valuemorning|Ham)=0.00004241\n"
          ]
        }
      ]
    },
    {
      "cell_type": "markdown",
      "source": [
        "**6. Classification Step**"
      ],
      "metadata": {
        "id": "yHhE85YdYfiH"
      }
    },
    {
      "cell_type": "code",
      "source": [
        "import math\n",
        "\n",
        "def classify_email(email_text):\n",
        "    tokens = clean_data(email_text)\n",
        "\n",
        "    log_prob_spam = math.log(P_spam)\n",
        "    log_prob_ham  = math.log(P_ham)\n",
        "\n",
        "    for word in tokens:\n",
        "        if word in vocab_index:\n",
        "            i = vocab_index[word]\n",
        "            log_prob_spam += math.log(spam_likelihood[i])\n",
        "            log_prob_ham  += math.log(ham_likelihood[i])\n",
        "        else:\n",
        "            # Laplace smoothing fallback\n",
        "            log_prob_spam += math.log(1 / (total_spam_words + V))\n",
        "            log_prob_ham  += math.log(1 / (total_ham_words + V))\n",
        "\n",
        "    print(f\"\\nEmail: '{email_text}'\")\n",
        "    print(f\"log P(Spam|email) = {log_prob_spam:.3f}\")\n",
        "    print(f\"log P(Ham|email)  = {log_prob_ham:.3f}\")\n",
        "\n",
        "    if log_prob_spam > log_prob_ham:\n",
        "        print(\"Classification: SPAM\")\n",
        "        return 'spam'\n",
        "    else:\n",
        "        print(\"Classification: HAM\")\n",
        "        return 'ham'"
      ],
      "metadata": {
        "id": "ZbS-dkAjT6C_"
      },
      "execution_count": 16,
      "outputs": []
    },
    {
      "cell_type": "markdown",
      "source": [
        "**7. Testing on New Emails**"
      ],
      "metadata": {
        "id": "40ZViKWzYmYV"
      }
    },
    {
      "cell_type": "code",
      "source": [
        "new_emails = [\n",
        "    \"Congratulations! You won a free iPhone. Click here to claim now!\",\n",
        "    \"Get rich quick! Invest in our program and double your money!\",\n",
        "    \"Limited time offer: Buy one, get one free on all products!\",\n",
        "    \"You have been selected for a $1000 gift card. Act fast!\",\n",
        "    \"Earn $5000 per week working from home. No experience required!\",\n",
        "    \"Hey, are we still on for coffee tomorrow?\",\n",
        "    \"Please find attached the report for our meeting.\",\n",
        "    \"Happy birthday! Wishing you a wonderful day with your family.\",\n",
        "    \"Can you review the document and send me your feedback?\",\n",
        "    \"Let's schedule a call to discuss the project updates.\",\n",
        "]\n",
        "\n",
        "classified_labels = []\n",
        "for email in new_emails:\n",
        "    label = classify_email(email)\n",
        "    classified_labels.append(label)"
      ],
      "metadata": {
        "colab": {
          "base_uri": "https://localhost:8080/"
        },
        "id": "WjhmzNbcYm-H",
        "outputId": "a04ba6b0-f436-4d2e-db9d-1e6e2ccf87ca"
      },
      "execution_count": 19,
      "outputs": [
        {
          "output_type": "stream",
          "name": "stdout",
          "text": [
            "\n",
            "Email: 'Congratulations! You won a free iPhone. Click here to claim now!'\n",
            "log P(Spam|email) = -36.720\n",
            "log P(Ham|email)  = -47.371\n",
            "Classification: SPAM\n",
            "\n",
            "Email: 'Get rich quick! Invest in our program and double your money!'\n",
            "log P(Spam|email) = -62.168\n",
            "log P(Ham|email)  = -58.580\n",
            "Classification: HAM\n",
            "\n",
            "Email: 'Limited time offer: Buy one, get one free on all products!'\n",
            "log P(Spam|email) = -68.970\n",
            "log P(Ham|email)  = -64.120\n",
            "Classification: HAM\n",
            "\n",
            "Email: 'You have been selected for a $1000 gift card. Act fast!'\n",
            "log P(Spam|email) = -42.707\n",
            "log P(Ham|email)  = -44.221\n",
            "Classification: SPAM\n",
            "\n",
            "Email: 'Earn $5000 per week working from home. No experience required!'\n",
            "log P(Spam|email) = -62.160\n",
            "log P(Ham|email)  = -56.275\n",
            "Classification: HAM\n",
            "\n",
            "Email: 'Hey, are we still on for coffee tomorrow?'\n",
            "log P(Spam|email) = -35.220\n",
            "log P(Ham|email)  = -27.052\n",
            "Classification: HAM\n",
            "\n",
            "Email: 'Please find attached the report for our meeting.'\n",
            "log P(Spam|email) = -44.093\n",
            "log P(Ham|email)  = -38.846\n",
            "Classification: HAM\n",
            "\n",
            "Email: 'Happy birthday! Wishing you a wonderful day with your family.'\n",
            "log P(Spam|email) = -56.623\n",
            "log P(Ham|email)  = -42.945\n",
            "Classification: HAM\n",
            "\n",
            "Email: 'Can you review the document and send me your feedback?'\n",
            "log P(Spam|email) = -35.660\n",
            "log P(Ham|email)  = -37.270\n",
            "Classification: SPAM\n",
            "\n",
            "Email: 'Let's schedule a call to discuss the project updates.'\n",
            "log P(Spam|email) = -53.542\n",
            "log P(Ham|email)  = -50.784\n",
            "Classification: HAM\n"
          ]
        }
      ]
    },
    {
      "cell_type": "markdown",
      "source": [
        "**8. Accuracy Evaluation**"
      ],
      "metadata": {
        "id": "T9at3UXkYvLK"
      }
    },
    {
      "cell_type": "code",
      "source": [
        "true_labels = [\n",
        "    \"spam\",\"spam\",\"spam\",\"spam\",\"spam\",\n",
        "    \"ham\",\"ham\",\"ham\",\"ham\",\"ham\"\n",
        "]\n",
        "\n",
        "correct = 0\n",
        "for pred, true in zip(classified_labels, true_labels):\n",
        "    if pred == true:\n",
        "        correct += 1\n",
        "\n",
        "accuracy = correct / len(true_labels) * 100\n",
        "print(f\"Model accuracy: {accuracy:.2f}%\")"
      ],
      "metadata": {
        "colab": {
          "base_uri": "https://localhost:8080/"
        },
        "id": "My_DuT0aYvoL",
        "outputId": "be04e2a8-2e54-4157-f22d-798231fcb160"
      },
      "execution_count": 20,
      "outputs": [
        {
          "output_type": "stream",
          "name": "stdout",
          "text": [
            "Model accuracy: 60.00%\n"
          ]
        }
      ]
    }
  ]
}
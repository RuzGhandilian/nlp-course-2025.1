{
  "nbformat": 4,
  "nbformat_minor": 0,
  "metadata": {
    "colab": {
      "provenance": []
    },
    "kernelspec": {
      "name": "python3",
      "display_name": "Python 3"
    },
    "language_info": {
      "name": "python"
    }
  },
  "cells": [
    {
      "cell_type": "code",
      "source": [
        "import re"
      ],
      "metadata": {
        "id": "yqRIJYFdKQ3n"
      },
      "execution_count": 3,
      "outputs": []
    },
    {
      "cell_type": "markdown",
      "source": [
        "##Problem 1: Extract Email Addresses\n",
        "\n",
        "Description: Extract all email addresses from the given text."
      ],
      "metadata": {
        "id": "Izq2KvWyJsJw"
      }
    },
    {
      "cell_type": "code",
      "execution_count": null,
      "metadata": {
        "colab": {
          "base_uri": "https://localhost:8080/"
        },
        "id": "dTus3Yz_JMjP",
        "outputId": "29e4f882-a53c-4f0c-cf03-d30ff28b1eba"
      },
      "outputs": [
        {
          "output_type": "stream",
          "name": "stdout",
          "text": [
            "support@example.com\n",
            "sales@company.org\n",
            "john.doe123@university.edu.\n"
          ]
        }
      ],
      "source": [
        "text1 =  \"\"\"\n",
        "          Contact us at support@example.com or sales@company.org for assistance.\n",
        "          For personal inquiries, email john.doe123@university.edu.\n",
        "        \"\"\"\n",
        "text1 = text1.split()\n",
        "# print(text)\n",
        "pattern1 = r'@+.'\n",
        "\n",
        "for s in text1:\n",
        "  if re.search(pattern1, s):\n",
        "    print(s)\n"
      ]
    },
    {
      "cell_type": "markdown",
      "source": [
        "##Problem 2: Validate Phone Numbers\n",
        "\n",
        "Description: Check if the phone numbers in the text follow the\n",
        "XXX-XXX-XXXX."
      ],
      "metadata": {
        "id": "gAV3ByevMMTw"
      }
    },
    {
      "cell_type": "code",
      "source": [
        "text2 = \"\"\"Valid: 123-456-7890, 987-654-3210\n",
        "Invalid: 12-345-67890, 1234567890, 123-45-6789\"\"\"\n",
        "\n",
        "pattern2 = r'\\b...-...-....\\b'\n",
        "\n",
        "valid_numbers=re.findall(pattern2, text2)\n",
        "\n",
        "print(f\"Valid phone numbers: {valid_numbers}\")"
      ],
      "metadata": {
        "colab": {
          "base_uri": "https://localhost:8080/"
        },
        "id": "6rIvCYmAMQEB",
        "outputId": "6f4a8aa2-e450-4619-dc9a-9ba94ac93438"
      },
      "execution_count": null,
      "outputs": [
        {
          "output_type": "stream",
          "name": "stdout",
          "text": [
            "Valid phone numbers: ['123-456-7890', '987-654-3210']\n"
          ]
        }
      ]
    },
    {
      "cell_type": "markdown",
      "source": [
        "##Problem 3: Extract Dates\n",
        "\n",
        "Description: Extract all dates in the format DD/MM/YYYY or DD-MM-YYYY from the text."
      ],
      "metadata": {
        "id": "Wb8mAABpNPas"
      }
    },
    {
      "cell_type": "code",
      "source": [
        "text3=\"\"\"Important dates: 25/12/2023, 01-01-2024, 31/05/2023, and 15-10-2024.\"\"\"\n",
        "\n",
        "pattern3 = r'../../....|..-..-....'\n",
        "\n",
        "dates = re.findall(pattern3, text3)\n",
        "print(dates)"
      ],
      "metadata": {
        "colab": {
          "base_uri": "https://localhost:8080/"
        },
        "id": "0sQ2m744NSfQ",
        "outputId": "3f2e3d65-156e-4b2e-8436-688b5a33e9d7"
      },
      "execution_count": null,
      "outputs": [
        {
          "output_type": "stream",
          "name": "stdout",
          "text": [
            "['25/12/2023', '01-01-2024', '31/05/2023', '15-10-2024']\n"
          ]
        }
      ]
    },
    {
      "cell_type": "markdown",
      "source": [
        "##Problem 4: Find Repeated Words\n",
        "\n",
        "Description: Find all instances of repeated words in the text (e.g.,Description:\"the the\")."
      ],
      "metadata": {
        "id": "3yxRHpHgOCPp"
      }
    },
    {
      "cell_type": "code",
      "source": [
        "text4 = '''The the quick quick brown fox jumps over the the lazy dog.'''\n",
        "\n",
        "pattern4 = r'\\b(\\w+)\\s+\\1\\b'\n",
        "\n",
        "\n",
        "repeats = re.finditer(pattern4, text4, re.IGNORECASE)\n",
        "results = [m.group(0) for m in repeats]\n",
        "\n",
        "\n",
        "print(results)"
      ],
      "metadata": {
        "colab": {
          "base_uri": "https://localhost:8080/"
        },
        "id": "gI91S7-uOxt4",
        "outputId": "998b7bf9-3278-4e0c-dc05-ab4c419428d5"
      },
      "execution_count": null,
      "outputs": [
        {
          "output_type": "stream",
          "name": "stdout",
          "text": [
            "['The the', 'quick quick', 'the the']\n"
          ]
        }
      ]
    },
    {
      "cell_type": "markdown",
      "source": [
        "##Problem 5: Extract Hashtags\n",
        "\n",
        "Description: Extract all hashtags (words starting with # ) from the text."
      ],
      "metadata": {
        "id": "70lRSiZSWoSL"
      }
    },
    {
      "cell_type": "code",
      "source": [
        "text5 = '''Check out our new products: #Sale2024, #NewArrival, and #Discounts!'''\n",
        "\n",
        "pattern5 = r\"#\\w+\"\n",
        "\n",
        "hashtags = re.findall(pattern5, text5)\n",
        "\n",
        "print(hashtags)"
      ],
      "metadata": {
        "colab": {
          "base_uri": "https://localhost:8080/"
        },
        "id": "cb0kfBWWXruQ",
        "outputId": "fded7e8e-b8e7-4274-a840-a18c06adf69a"
      },
      "execution_count": null,
      "outputs": [
        {
          "output_type": "stream",
          "name": "stdout",
          "text": [
            "['#Sale2024', '#NewArrival', '#Discounts']\n"
          ]
        }
      ]
    },
    {
      "cell_type": "markdown",
      "source": [
        "##Problem 6: Validate Password Strength\n",
        "\n",
        "Description: Check if the passwords meet the following criteria:\n",
        "\n",
        "\n",
        "\n",
        "*   At least 8 characters long\n",
        "*   Contains at least one uppercase letter\n",
        "*   Contains at least one lowercase letter\n",
        "*   Contains at least one digit\n"
      ],
      "metadata": {
        "id": "P7cM-adZ0cWf"
      }
    },
    {
      "cell_type": "code",
      "source": [
        "import re\n",
        "\n",
        "passwords = [\"Password123\", \"Secure456\", \"weak\", \"password\", \"Password\"]\n",
        "valid_passwords = []\n",
        "\n",
        "for pw in passwords:\n",
        "    if (len(pw) >= 8 and\n",
        "        re.search(r\"[A-Z]\", pw) and\n",
        "        re.search(r\"[a-z]\", pw) and\n",
        "        re.search(r\"[0-9]\", pw)):\n",
        "        valid_passwords.append(pw)\n",
        "\n",
        "print(\"Valid passwords:\")\n",
        "for pw in valid_passwords:\n",
        "    print(pw)"
      ],
      "metadata": {
        "colab": {
          "base_uri": "https://localhost:8080/"
        },
        "id": "fv8jv4YFx3rz",
        "outputId": "86348bfb-875f-4182-977d-91e8e21a5f48"
      },
      "execution_count": null,
      "outputs": [
        {
          "output_type": "stream",
          "name": "stdout",
          "text": [
            "Valid passwords:\n",
            "Password123\n",
            "Secure456\n"
          ]
        }
      ]
    },
    {
      "cell_type": "markdown",
      "source": [
        "##Problem 7: Extract URLs\n",
        "Description: Extract all URLs from the given text."
      ],
      "metadata": {
        "id": "wdSJYmZoE3Ss"
      }
    },
    {
      "cell_type": "code",
      "source": [
        "text7 = '''Visit our website at https://www.example.com or check out http://blog.example.org for updates.'''\n",
        "\n",
        "pattern7 = r'https?://\\w+\\.\\w+\\.\\w+'\n",
        "\n",
        "urls= re.findall(pattern7, text7)\n",
        "\n",
        "print(urls)"
      ],
      "metadata": {
        "colab": {
          "base_uri": "https://localhost:8080/"
        },
        "id": "yCAK8r8KE_MW",
        "outputId": "9c0106a9-bef0-4943-d3dd-4cbdf0a84711"
      },
      "execution_count": null,
      "outputs": [
        {
          "output_type": "stream",
          "name": "stdout",
          "text": [
            "['https://www.example.com', 'http://blog.example.org']\n"
          ]
        }
      ]
    },
    {
      "cell_type": "markdown",
      "source": [
        "##Problem 8: Replace Multiple Spaces with a Single Space\n",
        "\n",
        "Description: Replace multiple spaces in the text with a single space."
      ],
      "metadata": {
        "id": "p2buUWTyJvbH"
      }
    },
    {
      "cell_type": "code",
      "source": [
        "text8 = \"This        text  has  multiple  spaces.\"\n",
        "\n",
        "\n",
        "pattern8 = r'\\s+'\n",
        "\n",
        "cleaned_text = re.sub(pattern8, \" \", text8)\n",
        "\n",
        "print(cleaned_text)"
      ],
      "metadata": {
        "colab": {
          "base_uri": "https://localhost:8080/"
        },
        "id": "N2NFRFoHHGiH",
        "outputId": "050597c1-88e3-484b-bf98-8ee81fbf439f"
      },
      "execution_count": null,
      "outputs": [
        {
          "output_type": "stream",
          "name": "stdout",
          "text": [
            "This text has multiple spaces.\n"
          ]
        }
      ]
    },
    {
      "cell_type": "markdown",
      "source": [
        "##Problem 9: Extract Quoted Text\n",
        "Description: Extract all text within double quotes (\"...\")."
      ],
      "metadata": {
        "id": "A9IEf6D7W0rW"
      }
    },
    {
      "cell_type": "code",
      "source": [
        "text9 = '''\n",
        "          He said,\n",
        "          \"Hello, world!\" and she replied,\n",
        "          \"Hi there!\"\n",
        "        '''\n",
        "pattern9 =r'\"(.+?)\"'\n",
        "\n",
        "quoted = re.findall(r'\"(.*?)\"', text9)\n",
        "\n",
        "print(quoted)"
      ],
      "metadata": {
        "colab": {
          "base_uri": "https://localhost:8080/"
        },
        "id": "2KO5AujuWkYh",
        "outputId": "b7f6080c-12c9-4498-c15c-4190c520783d"
      },
      "execution_count": null,
      "outputs": [
        {
          "output_type": "stream",
          "name": "stdout",
          "text": [
            "['Hello, world!', 'Hi there!']\n"
          ]
        }
      ]
    },
    {
      "cell_type": "markdown",
      "source": [
        "##Problem 10: Validate IP Addresses\n",
        "Description: Check if the IP addresses in the text are valid"
      ],
      "metadata": {
        "id": "2K_1HTmKBFJ0"
      }
    },
    {
      "cell_type": "code",
      "source": [
        "\n",
        "ips = [\"192.168.1.1\", \"10.0.0.255\", \"256.1.2.3\", \"192.168.01.1\", \"192.168.1\"]\n",
        "\n",
        "valid_ips = []\n",
        "for ip in ips:\n",
        "    parts = ip.split(\".\")\n",
        "    if len(parts) == 4 and all(\n",
        "        p.isdigit() and 0 <= int(p) <= 255 and not (p.startswith(\"0\") and len(p) > 1)\n",
        "        for p in parts\n",
        "    ):\n",
        "        valid_ips.append(ip)\n",
        "\n",
        "print(\"Valid IP addresses:\")\n",
        "for ip in valid_ips:\n",
        "    print(ip)"
      ],
      "metadata": {
        "colab": {
          "base_uri": "https://localhost:8080/"
        },
        "id": "lIrj-GM2BLSo",
        "outputId": "f19ec589-77e2-4911-a232-9c58b9616b2d"
      },
      "execution_count": 7,
      "outputs": [
        {
          "output_type": "stream",
          "name": "stdout",
          "text": [
            "Valid IP addresses:\n",
            "192.168.1.1\n",
            "10.0.0.255\n"
          ]
        }
      ]
    }
  ]
}
{
 "cells": [
  {
   "cell_type": "code",
   "id": "initial_id",
   "metadata": {
    "collapsed": true,
    "ExecuteTime": {
     "end_time": "2025-09-27T15:49:07.962802Z",
     "start_time": "2025-09-27T15:49:06.455720Z"
    }
   },
   "source": [
    "import re\n",
    "import numpy as np\n"
   ],
   "outputs": [],
   "execution_count": 1
  },
  {
   "metadata": {
    "ExecuteTime": {
     "end_time": "2025-09-27T15:49:11.518329Z",
     "start_time": "2025-09-27T15:49:11.509733Z"
    }
   },
   "cell_type": "code",
   "source": [
    "text = \"\"\"Natural Language Processing (NLP) is a subfield of linguistics, computer science,\n",
    "and artificial intelligence concerned with the interactions between computers and human language.\n",
    "It's used to analyze text, allowing machines to understand, interpret, and manipulate human language.\n",
    "NLP has many real-world applications, including machine translation, sentiment analysis, and chatbots.\"\"\"\n"
   ],
   "id": "213894dce48aaf92",
   "outputs": [],
   "execution_count": 2
  },
  {
   "metadata": {
    "ExecuteTime": {
     "end_time": "2025-09-27T15:50:23.374471Z",
     "start_time": "2025-09-27T15:50:23.362672Z"
    }
   },
   "cell_type": "code",
   "source": "tokens = np.array(re.findall(r\"\\b\\w+\\b\", text))\n",
   "id": "2afe08748ac4879c",
   "outputs": [],
   "execution_count": 5
  },
  {
   "metadata": {
    "ExecuteTime": {
     "end_time": "2025-09-27T15:50:24.356308Z",
     "start_time": "2025-09-27T15:50:24.344829Z"
    }
   },
   "cell_type": "code",
   "source": "tokens\n",
   "id": "c4c2460de52eae2d",
   "outputs": [
    {
     "data": {
      "text/plain": [
       "array(['Natural', 'Language', 'Processing', 'NLP', 'is', 'a', 'subfield',\n",
       "       'of', 'linguistics', 'computer', 'science', 'and', 'artificial',\n",
       "       'intelligence', 'concerned', 'with', 'the', 'interactions',\n",
       "       'between', 'computers', 'and', 'human', 'language', 'It', 's',\n",
       "       'used', 'to', 'analyze', 'text', 'allowing', 'machines', 'to',\n",
       "       'understand', 'interpret', 'and', 'manipulate', 'human',\n",
       "       'language', 'NLP', 'has', 'many', 'real', 'world', 'applications',\n",
       "       'including', 'machine', 'translation', 'sentiment', 'analysis',\n",
       "       'and', 'chatbots'], dtype='<U12')"
      ]
     },
     "execution_count": 6,
     "metadata": {},
     "output_type": "execute_result"
    }
   ],
   "execution_count": 6
  },
  {
   "metadata": {
    "ExecuteTime": {
     "end_time": "2025-09-27T15:50:59.361513Z",
     "start_time": "2025-09-27T15:50:59.335841Z"
    }
   },
   "cell_type": "code",
   "source": "tokens_lower = np.char.lower(tokens)\n",
   "id": "a7ac1b42331dea10",
   "outputs": [],
   "execution_count": 7
  },
  {
   "metadata": {
    "ExecuteTime": {
     "end_time": "2025-09-27T15:51:05.855941Z",
     "start_time": "2025-09-27T15:51:05.842650Z"
    }
   },
   "cell_type": "code",
   "source": "tokens_lower",
   "id": "30f479c7097c2b50",
   "outputs": [
    {
     "data": {
      "text/plain": [
       "array(['natural', 'language', 'processing', 'nlp', 'is', 'a', 'subfield',\n",
       "       'of', 'linguistics', 'computer', 'science', 'and', 'artificial',\n",
       "       'intelligence', 'concerned', 'with', 'the', 'interactions',\n",
       "       'between', 'computers', 'and', 'human', 'language', 'it', 's',\n",
       "       'used', 'to', 'analyze', 'text', 'allowing', 'machines', 'to',\n",
       "       'understand', 'interpret', 'and', 'manipulate', 'human',\n",
       "       'language', 'nlp', 'has', 'many', 'real', 'world', 'applications',\n",
       "       'including', 'machine', 'translation', 'sentiment', 'analysis',\n",
       "       'and', 'chatbots'], dtype='<U12')"
      ]
     },
     "execution_count": 8,
     "metadata": {},
     "output_type": "execute_result"
    }
   ],
   "execution_count": 8
  },
  {
   "metadata": {
    "ExecuteTime": {
     "end_time": "2025-09-27T15:51:59.021357Z",
     "start_time": "2025-09-27T15:51:59.008448Z"
    }
   },
   "cell_type": "code",
   "outputs": [],
   "execution_count": 9,
   "source": [
    "stop_words = set([\n",
    "    \"a\",\"an\",\"the\",\"is\",\"of\",\"and\",\"or\",\"in\",\"on\",\"with\",\"to\",\"for\",\n",
    "    \"its\",\"it's\",\"has\",\"many\",\"between\",\"including\",\"used\"\n",
    "])\n",
    "\n",
    "mask = np.array([word not in stop_words for word in tokens_lower])\n",
    "tokens_nostop = tokens_lower[mask]"
   ],
   "id": "ba3b9d0c6d94c2b5"
  },
  {
   "metadata": {
    "ExecuteTime": {
     "end_time": "2025-09-27T15:53:05.928518Z",
     "start_time": "2025-09-27T15:53:05.917257Z"
    }
   },
   "cell_type": "code",
   "source": "tokens_nostop",
   "id": "eee87cecde48e5bd",
   "outputs": [
    {
     "data": {
      "text/plain": [
       "array(['natural', 'language', 'processing', 'nlp', 'subfield',\n",
       "       'linguistics', 'computer', 'science', 'artificial', 'intelligence',\n",
       "       'concerned', 'interactions', 'computers', 'human', 'language',\n",
       "       'it', 's', 'analyze', 'text', 'allowing', 'machines', 'understand',\n",
       "       'interpret', 'manipulate', 'human', 'language', 'nlp', 'real',\n",
       "       'world', 'applications', 'machine', 'translation', 'sentiment',\n",
       "       'analysis', 'chatbots'], dtype='<U12')"
      ]
     },
     "execution_count": 11,
     "metadata": {},
     "output_type": "execute_result"
    }
   ],
   "execution_count": 11
  },
  {
   "metadata": {
    "ExecuteTime": {
     "end_time": "2025-09-27T15:52:38.144932Z",
     "start_time": "2025-09-27T15:52:38.135545Z"
    }
   },
   "cell_type": "code",
   "outputs": [],
   "execution_count": 10,
   "source": [
    "def simple_stem(word):\n",
    "    suffixes = [\"ing\",\"ed\",\"es\",\"s\"]\n",
    "    for suf in suffixes:\n",
    "        if word.endswith(suf) and len(word) > len(suf) + 2:\n",
    "            return word[:-len(suf)]\n",
    "    return word\n",
    "\n",
    "tokens_stemmed = np.array([simple_stem(word) for word in tokens_nostop])\n"
   ],
   "id": "ef835f2c43523d46"
  },
  {
   "metadata": {
    "ExecuteTime": {
     "end_time": "2025-09-27T15:53:26.028904Z",
     "start_time": "2025-09-27T15:53:26.013069Z"
    }
   },
   "cell_type": "code",
   "source": "tokens_stemmed",
   "id": "813a184d3d5635af",
   "outputs": [
    {
     "data": {
      "text/plain": [
       "array(['natural', 'language', 'process', 'nlp', 'subfield', 'linguistic',\n",
       "       'computer', 'science', 'artificial', 'intelligence', 'concern',\n",
       "       'interaction', 'computer', 'human', 'language', 'it', 's',\n",
       "       'analyze', 'text', 'allow', 'machin', 'understand', 'interpret',\n",
       "       'manipulate', 'human', 'language', 'nlp', 'real', 'world',\n",
       "       'application', 'machine', 'translation', 'sentiment', 'analysi',\n",
       "       'chatbot'], dtype='<U12')"
      ]
     },
     "execution_count": 12,
     "metadata": {},
     "output_type": "execute_result"
    }
   ],
   "execution_count": 12
  },
  {
   "metadata": {},
   "cell_type": "code",
   "outputs": [],
   "execution_count": null,
   "source": "",
   "id": "f33550fdb12d55e7"
  }
 ],
 "metadata": {
  "kernelspec": {
   "display_name": "Python 3",
   "language": "python",
   "name": "python3"
  },
  "language_info": {
   "codemirror_mode": {
    "name": "ipython",
    "version": 2
   },
   "file_extension": ".py",
   "mimetype": "text/x-python",
   "name": "python",
   "nbconvert_exporter": "python",
   "pygments_lexer": "ipython2",
   "version": "2.7.6"
  }
 },
 "nbformat": 4,
 "nbformat_minor": 5
}

{
 "cells": [
  {
   "cell_type": "code",
   "id": "initial_id",
   "metadata": {
    "collapsed": true,
    "ExecuteTime": {
     "end_time": "2025-09-27T16:11:33.730533Z",
     "start_time": "2025-09-27T16:11:33.517687Z"
    }
   },
   "source": [
    "import re\n",
    "import numpy as np\n",
    "\n",
    "text = 'Contact us at support@example.com or sales@company.org for assistance. For personal inquiries, email john.doe123@university.edu. '\n",
    "\n",
    "emails = re.findall(r\"[\\w\\.-]+@[\\w\\.-]+\\.\\w+\", text)\n",
    "\n",
    "emails_np = np.array(emails)\n",
    "\n",
    "print(\"Extracted Emails:\", emails_np.tolist())\n"
   ],
   "outputs": [
    {
     "name": "stdout",
     "output_type": "stream",
     "text": [
      "Extracted Emails: ['support@example.com', 'sales@company.org', 'john.doe123@university.edu']\n"
     ]
    }
   ],
   "execution_count": 1
  },
  {
   "metadata": {
    "ExecuteTime": {
     "end_time": "2025-09-27T16:16:06.781991Z",
     "start_time": "2025-09-27T16:16:06.771967Z"
    }
   },
   "cell_type": "code",
   "source": [
    "text = 'Valid: 123-456-7890, 987-654-3210 Invalid: 12-345-67890, 1234567890, 123-45-6789'\n",
    "\n",
    "candidates = re.findall(r\"[\\d-]+\", text)\n",
    "\n",
    "valid_pattern = re.compile(r\"^\\d{3}-\\d{3}-\\d{4}$\")\n",
    "valid_numbers = [num for num in candidates if valid_pattern.match(num)]\n",
    "\n",
    "valid_numbers_np = np.array(valid_numbers)\n",
    "\n",
    "print(\"Valid Phone Numbers:\", valid_numbers_np.tolist())\n"
   ],
   "id": "180c8a4a44e89aed",
   "outputs": [
    {
     "name": "stdout",
     "output_type": "stream",
     "text": [
      "Valid Phone Numbers: ['123-456-7890', '987-654-3210']\n"
     ]
    }
   ],
   "execution_count": 2
  },
  {
   "metadata": {
    "ExecuteTime": {
     "end_time": "2025-09-27T16:19:42.605594Z",
     "start_time": "2025-09-27T16:19:42.596567Z"
    }
   },
   "cell_type": "code",
   "source": [
    "text = 'Important dates: 25/12/2023, 01-01-2024, 31/05/2023, and 15-10-2024.'\n",
    "\n",
    "dates = re.findall(r\"\\b\\d{2}[/-]\\d{2}[/-]\\d{4}\\b\", text)\n",
    "\n",
    "dates_np = np.array(dates)\n",
    "\n",
    "print(\"Extracted Dates:\", dates_np.tolist())\n"
   ],
   "id": "273ef6fa66c5007e",
   "outputs": [
    {
     "name": "stdout",
     "output_type": "stream",
     "text": [
      "Extracted Dates: ['25/12/2023', '01-01-2024', '31/05/2023', '15-10-2024']\n"
     ]
    }
   ],
   "execution_count": 3
  },
  {
   "metadata": {
    "ExecuteTime": {
     "end_time": "2025-09-27T16:22:11.887383Z",
     "start_time": "2025-09-27T16:22:11.875511Z"
    }
   },
   "cell_type": "code",
   "source": [
    "text = \"The the quick brown fox jumps over the the lazy dog.\"\n",
    "\n",
    "repeats = re.findall(r\"\\b(\\w+)\\s+\\1\\b\", text, flags=re.IGNORECASE)\n",
    "\n",
    "repeats_np = np.array(repeats)\n",
    "\n",
    "print(\"Repeated Words:\", repeats_np.tolist())\n"
   ],
   "id": "7134998dbc1233e7",
   "outputs": [
    {
     "name": "stdout",
     "output_type": "stream",
     "text": [
      "Repeated Words: ['The', 'the']\n"
     ]
    }
   ],
   "execution_count": 4
  },
  {
   "metadata": {
    "ExecuteTime": {
     "end_time": "2025-09-27T16:29:57.992502Z",
     "start_time": "2025-09-27T16:29:57.979816Z"
    }
   },
   "cell_type": "code",
   "source": [
    "text = \"Check out our new products: #Sale2024, #NewArrival, and #Discounts!\"\n",
    "\n",
    "hashtags = re.findall(r\"#\\w+\", text)\n",
    "\n",
    "hashtags_np = np.array(hashtags)\n",
    "\n",
    "print(\"Extracted Hashtags:\", hashtags_np.tolist())\n"
   ],
   "id": "b9e563004cd69d3f",
   "outputs": [
    {
     "name": "stdout",
     "output_type": "stream",
     "text": [
      "Extracted Hashtags: ['#Sale2024', '#NewArrival', '#Discounts']\n"
     ]
    }
   ],
   "execution_count": 5
  },
  {
   "metadata": {
    "ExecuteTime": {
     "end_time": "2025-09-27T16:31:13.080711Z",
     "start_time": "2025-09-27T16:31:13.056018Z"
    }
   },
   "cell_type": "code",
   "source": [
    "passwords = [\"Password123\", \"Secure456\", \"weak\", \"password\", \"Password\"]\n",
    "\n",
    "pattern = re.compile(r\"^(?=.*[a-z])(?=.*[A-Z])(?=.*\\d).{8,}$\")\n",
    "\n",
    "valid_passwords = [pw for pw in passwords if pattern.match(pw)]\n",
    "valid_passwords_np = np.array(valid_passwords)\n",
    "\n",
    "print(\"Valid Passwords:\", valid_passwords_np.tolist())\n"
   ],
   "id": "29545abf38046630",
   "outputs": [
    {
     "name": "stdout",
     "output_type": "stream",
     "text": [
      "Valid Passwords: ['Password123', 'Secure456']\n"
     ]
    }
   ],
   "execution_count": 6
  },
  {
   "metadata": {
    "ExecuteTime": {
     "end_time": "2025-09-27T16:32:42.289876Z",
     "start_time": "2025-09-27T16:32:42.273747Z"
    }
   },
   "cell_type": "code",
   "source": [
    "text = \"Visit our website at https://www.example.com or check out http://blog.example.org for updates.\"\n",
    "\n",
    "urls = re.findall(r\"https?://[^\\s]+\", text)\n",
    "\n",
    "urls_np = np.array(urls)\n",
    "\n",
    "print(\"Extracted URLs:\", urls_np.tolist())\n"
   ],
   "id": "e979b2257901b003",
   "outputs": [
    {
     "name": "stdout",
     "output_type": "stream",
     "text": [
      "Extracted URLs: ['https://www.example.com', 'http://blog.example.org']\n"
     ]
    }
   ],
   "execution_count": 7
  },
  {
   "metadata": {
    "ExecuteTime": {
     "end_time": "2025-09-27T16:33:58.114184Z",
     "start_time": "2025-09-27T16:33:58.100524Z"
    }
   },
   "cell_type": "code",
   "source": [
    "text = \"This   text    has   multiple    spaces.\"\n",
    "\n",
    "cleaned_text = re.sub(r\"\\s+\", \" \", text)\n",
    "\n",
    "print(\"Original Text:\", text)\n",
    "print(\"Cleaned Text:\", cleaned_text)\n"
   ],
   "id": "b611a4d1552402b3",
   "outputs": [
    {
     "name": "stdout",
     "output_type": "stream",
     "text": [
      "Original Text: This   text    has   multiple    spaces.\n",
      "Cleaned Text: This text has multiple spaces.\n"
     ]
    }
   ],
   "execution_count": 8
  },
  {
   "metadata": {
    "ExecuteTime": {
     "end_time": "2025-09-27T16:34:55.554141Z",
     "start_time": "2025-09-27T16:34:55.540829Z"
    }
   },
   "cell_type": "code",
   "source": [
    "text = 'He said, \"Hello, world!\" and she replied, \"Hi there!\"'\n",
    "\n",
    "quoted_text = re.findall(r'\"([^\"]+)\"', text)\n",
    "\n",
    "quoted_text_np = np.array(quoted_text)\n",
    "\n",
    "print(\"Quoted Texts:\", quoted_text_np.tolist())\n"
   ],
   "id": "9e1755cd48916051",
   "outputs": [
    {
     "name": "stdout",
     "output_type": "stream",
     "text": [
      "Quoted Texts: ['Hello, world!', 'Hi there!']\n"
     ]
    }
   ],
   "execution_count": 9
  },
  {
   "metadata": {
    "ExecuteTime": {
     "end_time": "2025-09-27T16:37:02.956249Z",
     "start_time": "2025-09-27T16:37:02.939096Z"
    }
   },
   "cell_type": "code",
   "source": [
    "text = \"\"\"\n",
    "Valid: 192.168.1.1, 10.0.0.255\n",
    "Invalid: 256.1.2.3, 192.168.01.1, 192.168.1\n",
    "\"\"\"\n",
    "\n",
    "ip_pattern = re.compile(r\"\\b((25[0-5]|2[0-4]\\d|1\\d\\d|[1-9]?\\d)\\.){3}\"\n",
    "                        r\"(25[0-5]|2[0-4]\\d|1\\d\\d|[1-9]?\\d)\\b\")\n",
    "\n",
    "valid_ips = ip_pattern.findall(text)\n",
    "\n",
    "valid_ips_clean = [match[0] for match in valid_ips]\n",
    "\n",
    "valid_ips_np = np.array(valid_ips_clean)\n",
    "\n",
    "print(\"Valid IP Addresses:\", valid_ips_np.tolist())\n"
   ],
   "id": "a389fd8b68e153ef",
   "outputs": [
    {
     "name": "stdout",
     "output_type": "stream",
     "text": [
      "Valid IP Addresses: ['1.', '0.']\n"
     ]
    }
   ],
   "execution_count": 10
  },
  {
   "metadata": {},
   "cell_type": "code",
   "outputs": [],
   "execution_count": null,
   "source": "",
   "id": "53b52bc91ac6fc30"
  }
 ],
 "metadata": {
  "kernelspec": {
   "display_name": "Python 3",
   "language": "python",
   "name": "python3"
  },
  "language_info": {
   "codemirror_mode": {
    "name": "ipython",
    "version": 2
   },
   "file_extension": ".py",
   "mimetype": "text/x-python",
   "name": "python",
   "nbconvert_exporter": "python",
   "pygments_lexer": "ipython2",
   "version": "2.7.6"
  }
 },
 "nbformat": 4,
 "nbformat_minor": 5
}

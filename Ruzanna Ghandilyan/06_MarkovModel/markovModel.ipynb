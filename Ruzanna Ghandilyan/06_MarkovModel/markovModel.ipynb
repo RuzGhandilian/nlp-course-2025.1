{
 "cells": [
  {
   "metadata": {},
   "cell_type": "markdown",
   "source": [
    "# Markov Chain Poetry Generator\n",
    " * This notebook implements a simple Markov chain–based model\n",
    " * that learns word patterns from Robert Frost’s poems and\n",
    " * generates new poetic lines in a similar style.\n"
   ],
   "id": "d74af1a6df6fa228"
  },
  {
   "metadata": {
    "ExecuteTime": {
     "end_time": "2025-10-10T12:01:04.026592Z",
     "start_time": "2025-10-10T12:01:04.020293Z"
    }
   },
   "cell_type": "code",
   "source": [
    "# Import required libraries\n",
    "import random\n",
    "import re\n",
    "from collections import defaultdict, Counter\n"
   ],
   "id": "37a4f799c5c76e28",
   "outputs": [],
   "execution_count": 1
  },
  {
   "metadata": {},
   "cell_type": "markdown",
   "source": [
    "# 1. Load and Preprocess Text\n",
    "\n",
    "This step reads the poem file **`robert_frost.txt`**, cleans and prepares it for the Markov model.\n",
    "\n",
    "**Process overview:**\n",
    "- Reads the poem line by line\n",
    "- Removes punctuation and converts all text to lowercase\n",
    "- Splits each line into words\n",
    "- Adds an `\"END\"` token to mark the end of each line\n"
   ],
   "id": "9ba56fbe47303a82"
  },
  {
   "metadata": {
    "ExecuteTime": {
     "end_time": "2025-10-10T12:01:04.040600Z",
     "start_time": "2025-10-10T12:01:04.034609Z"
    }
   },
   "cell_type": "code",
   "source": [
    "def read_poem(path):\n",
    "    with open(path, \"r\", encoding=\"utf-8\") as f:\n",
    "        lines = f.readlines()\n",
    "\n",
    "    processed = []\n",
    "    for line in lines:\n",
    "        line = line.strip()\n",
    "        if not line:\n",
    "            continue\n",
    "        line = re.sub(r\"[^\\w\\s']\", \"\", line).lower()\n",
    "        words = line.split()\n",
    "        if words:\n",
    "            words.append(\"END\")  # mark the end of each line\n",
    "            processed.append(words)\n",
    "    return processed\n"
   ],
   "id": "95be26495e2d727f",
   "outputs": [],
   "execution_count": 2
  },
  {
   "metadata": {
    "ExecuteTime": {
     "end_time": "2025-10-10T12:01:04.220214Z",
     "start_time": "2025-10-10T12:01:04.208787Z"
    }
   },
   "cell_type": "code",
   "source": [
    "# Load and inspect the data\n",
    "poem_lines = read_poem(\"robert_frost.txt\")\n",
    "print(f\"Loaded {len(poem_lines)} lines.\")\n",
    "print(\"Example:\", poem_lines[0][:10])\n"
   ],
   "id": "e9f3275e79d0a809",
   "outputs": [
    {
     "name": "stdout",
     "output_type": "stream",
     "text": [
      "Loaded 1436 lines.\n",
      "Example: ['two', 'roads', 'diverged', 'in', 'a', 'yellow', 'wood', 'END']\n"
     ]
    }
   ],
   "execution_count": 3
  },
  {
   "metadata": {},
   "cell_type": "markdown",
   "source": [
    "# 2. Train the Markov Model\n",
    "\n",
    "In this section, we calculate the probability distributions that define the Markov chain.\n",
    "The model learns how words tend to follow one another in Robert Frost’s poems.\n",
    "\n",
    "**It computes:**\n",
    "- **Initial word probabilities:** how likely each word is to start a line\n",
    "- **First-order transitions:** P(w₂ | w₁) — the probability of a word given the previous one\n",
    "- **Second-order transitions:** P(w₃ | w₁, w₂) — the probability of a word given the previous two\n"
   ],
   "id": "54cb89e5f0fa9eac"
  },
  {
   "metadata": {
    "ExecuteTime": {
     "end_time": "2025-10-10T12:01:04.246112Z",
     "start_time": "2025-10-10T12:01:04.238712Z"
    }
   },
   "cell_type": "code",
   "source": [
    "def train_model(lines):\n",
    "    start_words = Counter()\n",
    "    first_order = defaultdict(Counter)\n",
    "    second_order = defaultdict(Counter)\n",
    "\n",
    "    for words in lines:\n",
    "        start_words[words[0]] += 1\n",
    "        for i in range(len(words) - 1):\n",
    "            w1, w2 = words[i], words[i + 1]\n",
    "            first_order[w1][w2] += 1\n",
    "            if i < len(words) - 2:\n",
    "                w3 = words[i + 2]\n",
    "                second_order[(w1, w2)][w3] += 1\n",
    "\n",
    "    total_starts = sum(start_words.values())\n",
    "    start_probs = {w: c / total_starts for w, c in start_words.items()}\n",
    "\n",
    "    first_probs = {}\n",
    "    for w1, nexts in first_order.items():\n",
    "        total = sum(nexts.values())\n",
    "        first_probs[w1] = {w2: c / total for w2, c in nexts.items()}\n",
    "\n",
    "    second_probs = {}\n",
    "    for pair, nexts in second_order.items():\n",
    "        total = sum(nexts.values())\n",
    "        second_probs[pair] = {w3: c / total for w3, c in nexts.items()}\n",
    "\n",
    "    return start_probs, first_probs, second_probs\n"
   ],
   "id": "32ec9e0a95dee03e",
   "outputs": [],
   "execution_count": 4
  },
  {
   "metadata": {
    "ExecuteTime": {
     "end_time": "2025-10-10T12:01:04.299376Z",
     "start_time": "2025-10-10T12:01:04.265294Z"
    }
   },
   "cell_type": "code",
   "source": [
    "# Train the model\n",
    "start_probs, first_probs, second_probs = train_model(poem_lines)\n",
    "\n",
    "print(\"Initial words:\", list(start_probs.keys())[:10])\n"
   ],
   "id": "78ed8a60b875a9a8",
   "outputs": [
    {
     "name": "stdout",
     "output_type": "stream",
     "text": [
      "Initial words: ['two', 'and', 'to', 'then', 'because', 'though', 'had', 'in', 'oh', 'yet']\n"
     ]
    }
   ],
   "execution_count": 5
  },
  {
   "metadata": {},
   "cell_type": "markdown",
   "source": [
    "# 3. Random Word Selection\n",
    "\n",
    "This part defines how the next word is chosen based on its probability distribution.\n",
    "It uses the **cumulative probability method**, which ensures that words with higher probabilities\n",
    "have a proportionally higher chance of being selected.\n"
   ],
   "id": "3e6d4ad674e903eb"
  },
  {
   "metadata": {
    "ExecuteTime": {
     "end_time": "2025-10-10T12:01:04.311898Z",
     "start_time": "2025-10-10T12:01:04.306900Z"
    }
   },
   "cell_type": "code",
   "source": [
    "def pick_word(prob_dict):\n",
    "    r = random.random()\n",
    "    total = 0\n",
    "    for word, p in prob_dict.items():\n",
    "        total += p\n",
    "        if r <= total:\n",
    "            return word\n",
    "    return random.choice(list(prob_dict.keys()))\n"
   ],
   "id": "6694336ad49c2b77",
   "outputs": [],
   "execution_count": 6
  },
  {
   "metadata": {},
   "cell_type": "markdown",
   "source": [
    "\n",
    "# 4. Generate new poetry\n"
   ],
   "id": "8d33d5c83683aa4"
  },
  {
   "metadata": {
    "ExecuteTime": {
     "end_time": "2025-10-10T12:01:04.348977Z",
     "start_time": "2025-10-10T12:01:04.341978Z"
    }
   },
   "cell_type": "code",
   "source": [
    "def generate_poem(start_probs, first_probs, second_probs, lines=4, max_len=12):\n",
    "    poem = []\n",
    "    for _ in range(lines):\n",
    "        line = []\n",
    "\n",
    "        # choose first word\n",
    "        w1 = pick_word(start_probs)\n",
    "        line.append(w1)\n",
    "\n",
    "        # choose second word\n",
    "        if w1 not in first_probs:\n",
    "            continue\n",
    "        w2 = pick_word(first_probs[w1])\n",
    "        line.append(w2)\n",
    "\n",
    "        # generate remaining words\n",
    "        for _ in range(max_len - 2):\n",
    "            pair = (w1, w2)\n",
    "            if pair in second_probs:\n",
    "                w3 = pick_word(second_probs[pair])\n",
    "            elif w2 in first_probs:\n",
    "                w3 = pick_word(first_probs[w2])\n",
    "            else:\n",
    "                break\n",
    "\n",
    "            if w3 == \"END\":\n",
    "                break\n",
    "\n",
    "            line.append(w3)\n",
    "            w1, w2 = w2, w3\n",
    "\n",
    "        poem.append(\" \".join(line))\n",
    "    return \"\\n\".join(poem)\n"
   ],
   "id": "ac27252b819cd5ce",
   "outputs": [],
   "execution_count": 7
  },
  {
   "metadata": {
    "ExecuteTime": {
     "end_time": "2025-10-10T12:01:04.363214Z",
     "start_time": "2025-10-10T12:01:04.357857Z"
    }
   },
   "cell_type": "code",
   "source": [
    "print(\"\\nGenerated Frost-Style Poem:\\n\")\n",
    "print(generate_poem(start_probs, first_probs, second_probs))\n"
   ],
   "id": "3e461f687bff8b7",
   "outputs": [
    {
     "name": "stdout",
     "output_type": "stream",
     "text": [
      "\n",
      "Generated Frost-Style Poem:\n",
      "\n",
      "i'll show you how she tended both or had them tended\n",
      "there if you'll let a guide direct you\n",
      "'don't make me get up forgive me\n",
      "the chin\n"
     ]
    }
   ],
   "execution_count": 8
  }
 ],
 "metadata": {
  "kernelspec": {
   "display_name": "Python 3",
   "language": "python",
   "name": "python3"
  },
  "language_info": {
   "codemirror_mode": {
    "name": "ipython",
    "version": 2
   },
   "file_extension": ".py",
   "mimetype": "text/x-python",
   "name": "python",
   "nbconvert_exporter": "python",
   "pygments_lexer": "ipython2",
   "version": "2.7.6"
  }
 },
 "nbformat": 4,
 "nbformat_minor": 5
}

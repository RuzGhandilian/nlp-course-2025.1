{
 "cells": [
  {
   "metadata": {},
   "cell_type": "markdown",
   "source": [
    "```Problem 1: Extract Email Addresses```\n",
    "Description: Extract all email addresses from the given text.\n",
    "Sample Text:\n",
    "Contact us at support@example.com or sales@company.org for assistance.\n",
    "For personal inquiries, email john.doe123@university.edu.\n",
    "Expected Output:\n",
    "support@example.com\n",
    "sales@company.org\n",
    "john.doe123@university.edu\n"
   ],
   "id": "bccf0a956ef74421"
  },
  {
   "metadata": {
    "ExecuteTime": {
     "end_time": "2025-09-13T18:13:05.885256Z",
     "start_time": "2025-09-13T18:13:05.869777Z"
    }
   },
   "cell_type": "code",
   "source": "import re",
   "id": "5fad39fe08749887",
   "outputs": [],
   "execution_count": 1
  },
  {
   "metadata": {
    "ExecuteTime": {
     "end_time": "2025-09-13T18:13:06.042705Z",
     "start_time": "2025-09-13T18:13:06.028245Z"
    }
   },
   "cell_type": "code",
   "source": [
    "txt = \"Contact us at support@example.com or sales@company.org for assistance. For personal inquiries, email john.doe123@university.edu.\"\n",
    "pattern = r\"\\w+@\\w+.\\w+\"\n",
    "re.findall(pattern, txt)\n"
   ],
   "id": "b9c4b0174ce961e0",
   "outputs": [
    {
     "data": {
      "text/plain": [
       "['support@example.com', 'sales@company.org', 'doe123@university.edu']"
      ]
     },
     "execution_count": 2,
     "metadata": {},
     "output_type": "execute_result"
    }
   ],
   "execution_count": 2
  },
  {
   "metadata": {},
   "cell_type": "markdown",
   "source": [
    "```Problem 2: Validate Phone Numbers```\n",
    "Description: Check if the phone numbers in the text follow the format: XXX-XXX-XXXX .\n",
    "Sample Text:\n",
    "Valid: 123-456-7890, 987-654-3210\n",
    "Invalid: 12-345-67890, 1234567890, 123-45-6789\n",
    "Expected Output:\n",
    "Valid phone numbers:\n",
    "123-456-7890\n",
    "987-654-3210\n"
   ],
   "id": "84ae321362a3bb42"
  },
  {
   "metadata": {
    "ExecuteTime": {
     "end_time": "2025-09-13T18:13:06.088147Z",
     "start_time": "2025-09-13T18:13:06.075900Z"
    }
   },
   "cell_type": "code",
   "source": [
    "txt2 = \"Valid: 123-456-7890, 987-654-3210 Invalid: 12-345-67890, 1234567890, 123-45-6789\"\n",
    "pattern2  = r\"\\d{3}-\\d{3}-\\d{4}\"\n",
    "re.findall(pattern2, txt2)"
   ],
   "id": "6d36a906ca4c62f2",
   "outputs": [
    {
     "data": {
      "text/plain": [
       "['123-456-7890', '987-654-3210']"
      ]
     },
     "execution_count": 3,
     "metadata": {},
     "output_type": "execute_result"
    }
   ],
   "execution_count": 3
  },
  {
   "metadata": {},
   "cell_type": "markdown",
   "source": [
    "```Problem 3: Extract Dates```\n",
    "Description: Extract all dates in the format DD/MM/YYYY or DD-MM-YYYY from the text.\n",
    "Sample Text:\n",
    "Important dates: 25/12/2023, 01-01-2024, 31/05/2023, and 15-10-2024.\n",
    "Expected Output:\n",
    "25/12/2023\n",
    "01-01-2024\n",
    "31/05/2023\n",
    "15-10-2024\n"
   ],
   "id": "6876ab9d3fa54a98"
  },
  {
   "metadata": {
    "ExecuteTime": {
     "end_time": "2025-09-13T18:13:06.119428Z",
     "start_time": "2025-09-13T18:13:06.107469Z"
    }
   },
   "cell_type": "code",
   "source": [
    "txt3 = \"Important dates: 25/12/2023, 01-01-2024, 31/05/2023, and 15-10-2024. 34-12-2004. 05/13/2008\"\n",
    "pattern3 = r\"(([0,1,2]\\d|31|30)(\\/|-)(0\\d|1[0,1,2])(\\/|-)(\\d{4}))\"\n",
    "matches = re.findall(pattern3, txt3)\n",
    "dates = [m[0] for m in matches]\n",
    "dates\n"
   ],
   "id": "59bd003252cbf68b",
   "outputs": [
    {
     "data": {
      "text/plain": [
       "['25/12/2023', '01-01-2024', '31/05/2023', '15-10-2024']"
      ]
     },
     "execution_count": 4,
     "metadata": {},
     "output_type": "execute_result"
    }
   ],
   "execution_count": 4
  },
  {
   "metadata": {},
   "cell_type": "markdown",
   "source": [
    "```Problem 4: Find Repeated Words```\n",
    "Description: Find all instances of repeated words in the text (e.g., \"the the\").\n",
    "Sample Text:\n",
    "The the quick brown fox jumps over the the lazy dog.\n",
    "Expected Output:\n",
    "Repeated words:\n",
    "the the\n",
    "the the\n"
   ],
   "id": "7a0581f851feae62"
  },
  {
   "metadata": {
    "ExecuteTime": {
     "end_time": "2025-09-13T18:13:06.149705Z",
     "start_time": "2025-09-13T18:13:06.135542Z"
    }
   },
   "cell_type": "code",
   "source": [
    "txt4 = \"The the quick brown fox jumps over the the lazy dog.\"\n",
    "pattern4 = r\"\\b(\\w+) \\1\\b\"\n",
    "re.findall(pattern4, txt4, flags = re.IGNORECASE)\n"
   ],
   "id": "e442d4e110f6e6d4",
   "outputs": [
    {
     "data": {
      "text/plain": [
       "['The', 'the']"
      ]
     },
     "execution_count": 5,
     "metadata": {},
     "output_type": "execute_result"
    }
   ],
   "execution_count": 5
  },
  {
   "metadata": {},
   "cell_type": "markdown",
   "source": [
    "```Problem 5: Extract Hashtags```\n",
    "Description: Extract all hashtags (words starting with # ) from the text.\n",
    "Sample Text:\n",
    "Check out our new products: #Sale2024, #NewArrival, and #Discounts!\n",
    "Expected Output:\n",
    "#Sale2024\n",
    "#NewArrival\n",
    "#Discounts\n"
   ],
   "id": "5e3a32dbd28729c6"
  },
  {
   "metadata": {
    "ExecuteTime": {
     "end_time": "2025-09-13T18:13:06.196353Z",
     "start_time": "2025-09-13T18:13:06.182346Z"
    }
   },
   "cell_type": "code",
   "source": [
    "txt5 = \"Check out our new products: #Sale2024, #NewArrival, and #Discounts!\"\n",
    "pattern5 = r\"#\\w+\"\n",
    "re.findall(pattern5, txt5)\n",
    "\n"
   ],
   "id": "5281ca5b044789d3",
   "outputs": [
    {
     "data": {
      "text/plain": [
       "['#Sale2024', '#NewArrival', '#Discounts']"
      ]
     },
     "execution_count": 6,
     "metadata": {},
     "output_type": "execute_result"
    }
   ],
   "execution_count": 6
  },
  {
   "metadata": {},
   "cell_type": "markdown",
   "source": [
    "```Problem 6: Validate Password Strength```\n",
    "Description: Check if the passwords meet the following criteria:\n",
    "At least 8 characters long\n",
    "Contains at least one uppercase letter\n",
    "Contains at least one lowercase letter\n",
    "Contains at least one digit\n",
    "Sample Passwords:\n",
    "Valid: Password123, Secure456\n",
    "Invalid: weak, password, Password\n",
    "Expected Output:\n",
    "Valid passwords:\n",
    "Password123\n",
    "Secure456\n"
   ],
   "id": "22bdfc8f7a76b68c"
  },
  {
   "metadata": {
    "ExecuteTime": {
     "end_time": "2025-09-13T18:13:06.227883Z",
     "start_time": "2025-09-13T18:13:06.213389Z"
    }
   },
   "cell_type": "code",
   "source": [
    "txt6 = [\"Password123\", \"Secure456\", \"weak\", \"password\", \"Password\"]\n",
    "pattern6 = r\"^(?=.*[a-z])(?=.*[A-Z])(?=.*\\d).{8,}$\"\n",
    "print(\"Valid passwords:\")\n",
    "for i in txt6:\n",
    "    if re.match(pattern6, i):\n",
    "        print(i)\n"
   ],
   "id": "c20baf56e0b40eba",
   "outputs": [
    {
     "name": "stdout",
     "output_type": "stream",
     "text": [
      "Valid passwords:\n",
      "Password123\n",
      "Secure456\n"
     ]
    }
   ],
   "execution_count": 7
  },
  {
   "metadata": {
    "ExecuteTime": {
     "end_time": "2025-09-13T18:13:19.840615Z",
     "start_time": "2025-09-13T18:13:06.244622Z"
    }
   },
   "cell_type": "code",
   "source": [
    "password = input(\"Enter a password: \")\n",
    "\n",
    "if re.match(pattern6, password):\n",
    "    print(\"Strong password\")\n",
    "else:\n",
    "    print(\"Weak password\")"
   ],
   "id": "88aeafb9bc930d96",
   "outputs": [
    {
     "name": "stdout",
     "output_type": "stream",
     "text": [
      "Strong password\n"
     ]
    }
   ],
   "execution_count": 8
  },
  {
   "metadata": {},
   "cell_type": "markdown",
   "source": [
    "```Problem 7: Extract URLs```\n",
    "Description: Extract all URLs from the given text.\n",
    "Sample Text:\n",
    "Visit our website at https://www.example.com or check out http://blog.example.org for updates.\n",
    "Expected Output:\n",
    "https://www.example.com\n",
    "http://blog.example.org"
   ],
   "id": "6fd6050f2c0d2cc2"
  },
  {
   "metadata": {
    "ExecuteTime": {
     "end_time": "2025-09-13T18:13:19.902713Z",
     "start_time": "2025-09-13T18:13:19.888809Z"
    }
   },
   "cell_type": "code",
   "source": [
    "txt7 = \"Visit our website at https://www.example.com or check out http://blog.example.org for updates. My example: https://www.my-exam-p2l-e.com\"\n",
    "pattern7 = r\"https?://\\w+.\\w+.\\w+\\S+\"\n",
    "re.findall(pattern7, txt7)\n",
    "\n"
   ],
   "id": "a8e27327f4a8301b",
   "outputs": [
    {
     "data": {
      "text/plain": [
       "['https://www.example.com',\n",
       " 'http://blog.example.org',\n",
       " 'https://www.my-exam-p2l-e.com']"
      ]
     },
     "execution_count": 9,
     "metadata": {},
     "output_type": "execute_result"
    }
   ],
   "execution_count": 9
  },
  {
   "metadata": {},
   "cell_type": "markdown",
   "source": [
    "```Problem 8: Replace Multiple Spaces with a Single Space```\n",
    "Description: Replace multiple spaces in the text with a single space.\n",
    "Sample Text:\n",
    "This   text   has   multiple   spaces.\n",
    "Expected Output:\n",
    "This text has multiple spaces.\n"
   ],
   "id": "de4a1a120426ed37"
  },
  {
   "metadata": {
    "ExecuteTime": {
     "end_time": "2025-09-13T18:13:19.949562Z",
     "start_time": "2025-09-13T18:13:19.935101Z"
    }
   },
   "cell_type": "code",
   "source": [
    "txt8 = \"This   text   has   multiple   spaces.\"\n",
    "pattren8 = r\"\\s+\"\n",
    "re.sub(pattren8, \" \", txt8)"
   ],
   "id": "3b5b217141ca9657",
   "outputs": [
    {
     "data": {
      "text/plain": [
       "'This text has multiple spaces.'"
      ]
     },
     "execution_count": 10,
     "metadata": {},
     "output_type": "execute_result"
    }
   ],
   "execution_count": 10
  },
  {
   "metadata": {},
   "cell_type": "markdown",
   "source": [
    "```Problem 9: Extract Quoted Text```\n",
    "Description: Extract all text within double quotes ( \"...\" ).\n",
    "Sample Text:\n",
    "He said, \"Hello, world!\" and she replied, \"Hi there!\"\n",
    "Expected Output:\n",
    "Hello, world!\n",
    "Hi there!"
   ],
   "id": "226b70c22b31ceed"
  },
  {
   "metadata": {
    "ExecuteTime": {
     "end_time": "2025-09-13T18:13:19.996981Z",
     "start_time": "2025-09-13T18:13:19.982566Z"
    }
   },
   "cell_type": "code",
   "source": [
    "txt9 = 'He said, \"Hello, world!\" and she replied, \"Hi there!\"'\n",
    "pattern9 = r\"\\\".*?\\\"\"\n",
    "re.findall(pattern9, txt9)\n"
   ],
   "id": "f880c0098b3628b2",
   "outputs": [
    {
     "data": {
      "text/plain": [
       "['\"Hello, world!\"', '\"Hi there!\"']"
      ]
     },
     "execution_count": 11,
     "metadata": {},
     "output_type": "execute_result"
    }
   ],
   "execution_count": 11
  },
  {
   "metadata": {},
   "cell_type": "markdown",
   "source": [
    "```Problem 10: Validate IP Addresses```\n",
    "Description: Check if the IP addresses in the text are valid (format: XXX.XXX.XXX.XXX ).\n",
    "Sample Text:\n",
    "Valid: 192.168.1.1, 10.0.0.255\n",
    "Invalid: 256.1.2.3, 192.168.01.1, 192.168.1\n",
    "Expected Output:\n",
    "Valid IP addresses:\n",
    "192.168.1.1\n",
    "10.0.0.255"
   ],
   "id": "7964ddfa14eabaef"
  },
  {
   "metadata": {
    "ExecuteTime": {
     "end_time": "2025-09-13T18:13:20.044838Z",
     "start_time": "2025-09-13T18:13:20.030091Z"
    }
   },
   "cell_type": "code",
   "source": [
    "txt10 = [\"192.168.1.1\",  \"10.0.0.255\", \"256.1.2.3\", \"192.168.01.1\", \"192.168.1\"]\n",
    "\n",
    "pattern10 = r\"^(25[0-5]|2[0-4]\\d|1\\d{2}|[1-9]\\d|[0-9])\\.\" \\\n",
    "          r\"(25[0-5]|2[0-4]\\d|1\\d{2}|[1-9]\\d|[0-9])\\.\" \\\n",
    "          r\"(25[0-5]|2[0-4]\\d|1\\d{2}|[1-9]\\d|[0-9])\\.\" \\\n",
    "          r\"(25[0-5]|2[0-4]\\d|1\\d{2}|[1-9]\\d|[0-9])$\"\n",
    "\n",
    "\n",
    "for ip in txt10:\n",
    "    if re.match(pattern10, ip):\n",
    "        print(f\"Valid: {ip}\")\n",
    "    else:\n",
    "        print(f\"Invalid: {ip}\")"
   ],
   "id": "9c6883a34aea1765",
   "outputs": [
    {
     "name": "stdout",
     "output_type": "stream",
     "text": [
      "Valid: 192.168.1.1\n",
      "Valid: 10.0.0.255\n",
      "Invalid: 256.1.2.3\n",
      "Invalid: 192.168.01.1\n",
      "Invalid: 192.168.1\n"
     ]
    }
   ],
   "execution_count": 12
  },
  {
   "metadata": {
    "ExecuteTime": {
     "end_time": "2025-09-13T18:13:20.075497Z",
     "start_time": "2025-09-13T18:13:20.061661Z"
    }
   },
   "cell_type": "code",
   "source": "",
   "id": "c9eac56f6abb9238",
   "outputs": [],
   "execution_count": null
  }
 ],
 "metadata": {
  "kernelspec": {
   "display_name": "Python 3",
   "language": "python",
   "name": "python3"
  },
  "language_info": {
   "codemirror_mode": {
    "name": "ipython",
    "version": 2
   },
   "file_extension": ".py",
   "mimetype": "text/x-python",
   "name": "python",
   "nbconvert_exporter": "python",
   "pygments_lexer": "ipython2",
   "version": "2.7.6"
  }
 },
 "nbformat": 4,
 "nbformat_minor": 5
}

{
 "cells": [
  {
   "cell_type": "code",
   "id": "initial_id",
   "metadata": {
    "collapsed": true,
    "ExecuteTime": {
     "end_time": "2025-10-06T20:16:57.465251Z",
     "start_time": "2025-10-06T20:16:56.837679Z"
    }
   },
   "source": [
    "import pandas as pd\n",
    "\n",
    "df = pd.read_csv(r\"C:\\Users\\lilit\\PycharmProjects\\nlp-course-2025.1\\Lilit Mnatsakanyan\\data\\bbc-text.csv\")"
   ],
   "outputs": [],
   "execution_count": 1
  },
  {
   "metadata": {
    "ExecuteTime": {
     "end_time": "2025-10-06T20:17:06.273740Z",
     "start_time": "2025-10-06T20:17:06.256022Z"
    }
   },
   "cell_type": "code",
   "source": "df",
   "id": "b28e3265f13517e5",
   "outputs": [
    {
     "data": {
      "text/plain": [
       "           category                                               text\n",
       "0              tech  tv future in the hands of viewers with home th...\n",
       "1          business  worldcom boss  left books alone  former worldc...\n",
       "2             sport  tigers wary of farrell  gamble  leicester say ...\n",
       "3             sport  yeading face newcastle in fa cup premiership s...\n",
       "4     entertainment  ocean s twelve raids box office ocean s twelve...\n",
       "...             ...                                                ...\n",
       "2220       business  cars pull down us retail figures us retail sal...\n",
       "2221       politics  kilroy unveils immigration policy ex-chatshow ...\n",
       "2222  entertainment  rem announce new glasgow concert us band rem h...\n",
       "2223       politics  how political squabbles snowball it s become c...\n",
       "2224          sport  souness delight at euro progress boss graeme s...\n",
       "\n",
       "[2225 rows x 2 columns]"
      ],
      "text/html": [
       "<div>\n",
       "<style scoped>\n",
       "    .dataframe tbody tr th:only-of-type {\n",
       "        vertical-align: middle;\n",
       "    }\n",
       "\n",
       "    .dataframe tbody tr th {\n",
       "        vertical-align: top;\n",
       "    }\n",
       "\n",
       "    .dataframe thead th {\n",
       "        text-align: right;\n",
       "    }\n",
       "</style>\n",
       "<table border=\"1\" class=\"dataframe\">\n",
       "  <thead>\n",
       "    <tr style=\"text-align: right;\">\n",
       "      <th></th>\n",
       "      <th>category</th>\n",
       "      <th>text</th>\n",
       "    </tr>\n",
       "  </thead>\n",
       "  <tbody>\n",
       "    <tr>\n",
       "      <th>0</th>\n",
       "      <td>tech</td>\n",
       "      <td>tv future in the hands of viewers with home th...</td>\n",
       "    </tr>\n",
       "    <tr>\n",
       "      <th>1</th>\n",
       "      <td>business</td>\n",
       "      <td>worldcom boss  left books alone  former worldc...</td>\n",
       "    </tr>\n",
       "    <tr>\n",
       "      <th>2</th>\n",
       "      <td>sport</td>\n",
       "      <td>tigers wary of farrell  gamble  leicester say ...</td>\n",
       "    </tr>\n",
       "    <tr>\n",
       "      <th>3</th>\n",
       "      <td>sport</td>\n",
       "      <td>yeading face newcastle in fa cup premiership s...</td>\n",
       "    </tr>\n",
       "    <tr>\n",
       "      <th>4</th>\n",
       "      <td>entertainment</td>\n",
       "      <td>ocean s twelve raids box office ocean s twelve...</td>\n",
       "    </tr>\n",
       "    <tr>\n",
       "      <th>...</th>\n",
       "      <td>...</td>\n",
       "      <td>...</td>\n",
       "    </tr>\n",
       "    <tr>\n",
       "      <th>2220</th>\n",
       "      <td>business</td>\n",
       "      <td>cars pull down us retail figures us retail sal...</td>\n",
       "    </tr>\n",
       "    <tr>\n",
       "      <th>2221</th>\n",
       "      <td>politics</td>\n",
       "      <td>kilroy unveils immigration policy ex-chatshow ...</td>\n",
       "    </tr>\n",
       "    <tr>\n",
       "      <th>2222</th>\n",
       "      <td>entertainment</td>\n",
       "      <td>rem announce new glasgow concert us band rem h...</td>\n",
       "    </tr>\n",
       "    <tr>\n",
       "      <th>2223</th>\n",
       "      <td>politics</td>\n",
       "      <td>how political squabbles snowball it s become c...</td>\n",
       "    </tr>\n",
       "    <tr>\n",
       "      <th>2224</th>\n",
       "      <td>sport</td>\n",
       "      <td>souness delight at euro progress boss graeme s...</td>\n",
       "    </tr>\n",
       "  </tbody>\n",
       "</table>\n",
       "<p>2225 rows × 2 columns</p>\n",
       "</div>"
      ]
     },
     "execution_count": 2,
     "metadata": {},
     "output_type": "execute_result"
    }
   ],
   "execution_count": 2
  },
  {
   "metadata": {
    "ExecuteTime": {
     "end_time": "2025-10-06T20:46:54.385327Z",
     "start_time": "2025-10-06T20:46:54.381985Z"
    }
   },
   "cell_type": "code",
   "source": [
    "import re\n",
    "import nltk\n",
    "from nltk.corpus import stopwords\n",
    "from nltk.tokenize import word_tokenize"
   ],
   "id": "71eb0b5eabdad1b9",
   "outputs": [],
   "execution_count": 9
  },
  {
   "metadata": {
    "ExecuteTime": {
     "end_time": "2025-10-06T20:46:55.643283Z",
     "start_time": "2025-10-06T20:46:54.587439Z"
    }
   },
   "cell_type": "code",
   "source": [
    "nltk.download('punkt')\n",
    "nltk.download('punkt_tab')\n",
    "nltk.download('stopwords')"
   ],
   "id": "3164c70ce7bed78",
   "outputs": [
    {
     "name": "stderr",
     "output_type": "stream",
     "text": [
      "[nltk_data] Downloading package punkt to\n",
      "[nltk_data]     C:\\Users\\lilit\\AppData\\Roaming\\nltk_data...\n",
      "[nltk_data]   Package punkt is already up-to-date!\n",
      "[nltk_data] Downloading package punkt_tab to\n",
      "[nltk_data]     C:\\Users\\lilit\\AppData\\Roaming\\nltk_data...\n",
      "[nltk_data]   Unzipping tokenizers\\punkt_tab.zip.\n",
      "[nltk_data] Downloading package stopwords to\n",
      "[nltk_data]     C:\\Users\\lilit\\AppData\\Roaming\\nltk_data...\n",
      "[nltk_data]   Package stopwords is already up-to-date!\n"
     ]
    },
    {
     "data": {
      "text/plain": [
       "True"
      ]
     },
     "execution_count": 10,
     "metadata": {},
     "output_type": "execute_result"
    }
   ],
   "execution_count": 10
  },
  {
   "metadata": {
    "ExecuteTime": {
     "end_time": "2025-10-06T20:47:05.775834Z",
     "start_time": "2025-10-06T20:47:05.770231Z"
    }
   },
   "cell_type": "code",
   "source": [
    "def preprocess_text(text):\n",
    "    text = text.lower()\n",
    "    text = re.sub(r'[^a-z\\s]', '', text)\n",
    "    tokens = word_tokenize(text)\n",
    "    stop_words = set(stopwords.words('english'))\n",
    "    tokens = [word for word in tokens if word not in stop_words]\n",
    "    return tokens"
   ],
   "id": "6f2575eeabc33ba6",
   "outputs": [],
   "execution_count": 11
  },
  {
   "metadata": {
    "ExecuteTime": {
     "end_time": "2025-10-06T20:47:15.211751Z",
     "start_time": "2025-10-06T20:47:13.452443Z"
    }
   },
   "cell_type": "code",
   "source": "df['tokens'] = df['text'].apply(preprocess_text)\n",
   "id": "140f9579ced5024e",
   "outputs": [],
   "execution_count": 12
  },
  {
   "metadata": {
    "ExecuteTime": {
     "end_time": "2025-10-06T20:47:24.945368Z",
     "start_time": "2025-10-06T20:47:24.934790Z"
    }
   },
   "cell_type": "code",
   "source": "df",
   "id": "50ef16dc522d05a5",
   "outputs": [
    {
     "data": {
      "text/plain": [
       "           category                                               text  \\\n",
       "0              tech  tv future in the hands of viewers with home th...   \n",
       "1          business  worldcom boss  left books alone  former worldc...   \n",
       "2             sport  tigers wary of farrell  gamble  leicester say ...   \n",
       "3             sport  yeading face newcastle in fa cup premiership s...   \n",
       "4     entertainment  ocean s twelve raids box office ocean s twelve...   \n",
       "...             ...                                                ...   \n",
       "2220       business  cars pull down us retail figures us retail sal...   \n",
       "2221       politics  kilroy unveils immigration policy ex-chatshow ...   \n",
       "2222  entertainment  rem announce new glasgow concert us band rem h...   \n",
       "2223       politics  how political squabbles snowball it s become c...   \n",
       "2224          sport  souness delight at euro progress boss graeme s...   \n",
       "\n",
       "                                                 tokens  \n",
       "0     [tv, future, hands, viewers, home, theatre, sy...  \n",
       "1     [worldcom, boss, left, books, alone, former, w...  \n",
       "2     [tigers, wary, farrell, gamble, leicester, say...  \n",
       "3     [yeading, face, newcastle, fa, cup, premiershi...  \n",
       "4     [ocean, twelve, raids, box, office, ocean, twe...  \n",
       "...                                                 ...  \n",
       "2220  [cars, pull, us, retail, figures, us, retail, ...  \n",
       "2221  [kilroy, unveils, immigration, policy, exchats...  \n",
       "2222  [rem, announce, new, glasgow, concert, us, ban...  \n",
       "2223  [political, squabbles, snowball, become, commo...  \n",
       "2224  [souness, delight, euro, progress, boss, graem...  \n",
       "\n",
       "[2225 rows x 3 columns]"
      ],
      "text/html": [
       "<div>\n",
       "<style scoped>\n",
       "    .dataframe tbody tr th:only-of-type {\n",
       "        vertical-align: middle;\n",
       "    }\n",
       "\n",
       "    .dataframe tbody tr th {\n",
       "        vertical-align: top;\n",
       "    }\n",
       "\n",
       "    .dataframe thead th {\n",
       "        text-align: right;\n",
       "    }\n",
       "</style>\n",
       "<table border=\"1\" class=\"dataframe\">\n",
       "  <thead>\n",
       "    <tr style=\"text-align: right;\">\n",
       "      <th></th>\n",
       "      <th>category</th>\n",
       "      <th>text</th>\n",
       "      <th>tokens</th>\n",
       "    </tr>\n",
       "  </thead>\n",
       "  <tbody>\n",
       "    <tr>\n",
       "      <th>0</th>\n",
       "      <td>tech</td>\n",
       "      <td>tv future in the hands of viewers with home th...</td>\n",
       "      <td>[tv, future, hands, viewers, home, theatre, sy...</td>\n",
       "    </tr>\n",
       "    <tr>\n",
       "      <th>1</th>\n",
       "      <td>business</td>\n",
       "      <td>worldcom boss  left books alone  former worldc...</td>\n",
       "      <td>[worldcom, boss, left, books, alone, former, w...</td>\n",
       "    </tr>\n",
       "    <tr>\n",
       "      <th>2</th>\n",
       "      <td>sport</td>\n",
       "      <td>tigers wary of farrell  gamble  leicester say ...</td>\n",
       "      <td>[tigers, wary, farrell, gamble, leicester, say...</td>\n",
       "    </tr>\n",
       "    <tr>\n",
       "      <th>3</th>\n",
       "      <td>sport</td>\n",
       "      <td>yeading face newcastle in fa cup premiership s...</td>\n",
       "      <td>[yeading, face, newcastle, fa, cup, premiershi...</td>\n",
       "    </tr>\n",
       "    <tr>\n",
       "      <th>4</th>\n",
       "      <td>entertainment</td>\n",
       "      <td>ocean s twelve raids box office ocean s twelve...</td>\n",
       "      <td>[ocean, twelve, raids, box, office, ocean, twe...</td>\n",
       "    </tr>\n",
       "    <tr>\n",
       "      <th>...</th>\n",
       "      <td>...</td>\n",
       "      <td>...</td>\n",
       "      <td>...</td>\n",
       "    </tr>\n",
       "    <tr>\n",
       "      <th>2220</th>\n",
       "      <td>business</td>\n",
       "      <td>cars pull down us retail figures us retail sal...</td>\n",
       "      <td>[cars, pull, us, retail, figures, us, retail, ...</td>\n",
       "    </tr>\n",
       "    <tr>\n",
       "      <th>2221</th>\n",
       "      <td>politics</td>\n",
       "      <td>kilroy unveils immigration policy ex-chatshow ...</td>\n",
       "      <td>[kilroy, unveils, immigration, policy, exchats...</td>\n",
       "    </tr>\n",
       "    <tr>\n",
       "      <th>2222</th>\n",
       "      <td>entertainment</td>\n",
       "      <td>rem announce new glasgow concert us band rem h...</td>\n",
       "      <td>[rem, announce, new, glasgow, concert, us, ban...</td>\n",
       "    </tr>\n",
       "    <tr>\n",
       "      <th>2223</th>\n",
       "      <td>politics</td>\n",
       "      <td>how political squabbles snowball it s become c...</td>\n",
       "      <td>[political, squabbles, snowball, become, commo...</td>\n",
       "    </tr>\n",
       "    <tr>\n",
       "      <th>2224</th>\n",
       "      <td>sport</td>\n",
       "      <td>souness delight at euro progress boss graeme s...</td>\n",
       "      <td>[souness, delight, euro, progress, boss, graem...</td>\n",
       "    </tr>\n",
       "  </tbody>\n",
       "</table>\n",
       "<p>2225 rows × 3 columns</p>\n",
       "</div>"
      ]
     },
     "execution_count": 14,
     "metadata": {},
     "output_type": "execute_result"
    }
   ],
   "execution_count": 14
  },
  {
   "metadata": {
    "ExecuteTime": {
     "end_time": "2025-10-06T20:47:47.324129Z",
     "start_time": "2025-10-06T20:47:47.321048Z"
    }
   },
   "cell_type": "code",
   "source": "from collections import Counter\n",
   "id": "2dead4346fb9dfc6",
   "outputs": [],
   "execution_count": 15
  },
  {
   "metadata": {
    "ExecuteTime": {
     "end_time": "2025-10-06T20:48:13.213941Z",
     "start_time": "2025-10-06T20:48:13.170633Z"
    }
   },
   "cell_type": "code",
   "source": [
    "def build_vocabulary(tokenized_texts):\n",
    "    vocab = set()\n",
    "    for tokens in tokenized_texts:\n",
    "        vocab.update(tokens)\n",
    "    return sorted(vocab)\n",
    "\n",
    "vocab = build_vocabulary(df['tokens'])\n",
    "vocab_index = {word: i for i, word in enumerate(vocab)}"
   ],
   "id": "963ffa5584547d6e",
   "outputs": [],
   "execution_count": 16
  },
  {
   "metadata": {
    "ExecuteTime": {
     "end_time": "2025-10-06T20:48:27.064171Z",
     "start_time": "2025-10-06T20:48:27.059915Z"
    }
   },
   "cell_type": "code",
   "source": "len(vocab)",
   "id": "11106a6b5d79754a",
   "outputs": [
    {
     "data": {
      "text/plain": [
       "30190"
      ]
     },
     "execution_count": 17,
     "metadata": {},
     "output_type": "execute_result"
    }
   ],
   "execution_count": 17
  },
  {
   "metadata": {
    "ExecuteTime": {
     "end_time": "2025-10-06T20:48:38.510201Z",
     "start_time": "2025-10-06T20:48:38.505685Z"
    }
   },
   "cell_type": "code",
   "source": [
    "def text_to_bow(tokens, vocab_index):\n",
    "    vec = [0] * len(vocab_index)\n",
    "    token_counts = Counter(tokens)\n",
    "    for token, count in token_counts.items():\n",
    "        if token in vocab_index:\n",
    "            vec[vocab_index[token]] = count\n",
    "    return vec"
   ],
   "id": "7724ccb573a53d6e",
   "outputs": [],
   "execution_count": 18
  },
  {
   "metadata": {
    "ExecuteTime": {
     "end_time": "2025-10-06T20:48:58.881998Z",
     "start_time": "2025-10-06T20:48:58.877385Z"
    }
   },
   "cell_type": "code",
   "source": "sample_vec = text_to_bow(df['tokens'][0], vocab_index)\n",
   "id": "79094a2606494bed",
   "outputs": [],
   "execution_count": 19
  },
  {
   "metadata": {
    "ExecuteTime": {
     "end_time": "2025-10-06T20:49:13.223742Z",
     "start_time": "2025-10-06T20:49:13.217933Z"
    }
   },
   "cell_type": "code",
   "source": "sample_vec[:20]",
   "id": "ddf9b95df9c8111a",
   "outputs": [
    {
     "data": {
      "text/plain": [
       "[0, 0, 0, 0, 0, 0, 0, 0, 0, 0, 0, 0, 0, 0, 0, 0, 0, 0, 0, 0]"
      ]
     },
     "execution_count": 20,
     "metadata": {},
     "output_type": "execute_result"
    }
   ],
   "execution_count": 20
  },
  {
   "metadata": {
    "ExecuteTime": {
     "end_time": "2025-10-06T20:49:26.293677Z",
     "start_time": "2025-10-06T20:49:25.876296Z"
    }
   },
   "cell_type": "code",
   "source": "bow_vectors = [text_to_bow(tokens, vocab_index) for tokens in df['tokens']]\n",
   "id": "bd94b77eea376648",
   "outputs": [],
   "execution_count": 21
  },
  {
   "metadata": {
    "ExecuteTime": {
     "end_time": "2025-10-06T20:49:38.294546Z",
     "start_time": "2025-10-06T20:49:38.290999Z"
    }
   },
   "cell_type": "code",
   "source": "import math\n",
   "id": "9c3e632cbc18b58c",
   "outputs": [],
   "execution_count": 22
  },
  {
   "metadata": {
    "ExecuteTime": {
     "end_time": "2025-10-06T20:49:55.791923Z",
     "start_time": "2025-10-06T20:49:55.787716Z"
    }
   },
   "cell_type": "code",
   "source": [
    "def compute_tf(tokens):\n",
    "    tf = Counter(tokens)\n",
    "    total_terms = len(tokens)\n",
    "    return {word: count / total_terms for word, count in tf.items()}\n"
   ],
   "id": "beb27ba0d6b2daa6",
   "outputs": [],
   "execution_count": 23
  },
  {
   "metadata": {
    "ExecuteTime": {
     "end_time": "2025-10-06T20:52:50.976423Z",
     "start_time": "2025-10-06T20:52:50.960117Z"
    }
   },
   "cell_type": "code",
   "source": [
    "from tqdm import tqdm\n",
    "from math import log\n",
    "\n",
    "def compute_idf(corpus):\n",
    "    N = len(corpus)\n",
    "    idf_dict = {}\n",
    "    all_tokens = set([word for tokens in corpus for word in tokens])\n",
    "\n",
    "    for word in tqdm(all_tokens, desc=\"Computing IDF\"):\n",
    "        df = sum(1 for tokens in corpus if word in tokens)\n",
    "        idf_dict[word] = log(N / (1 + df))\n",
    "    return idf_dict"
   ],
   "id": "d4382c3f4ba48a75",
   "outputs": [],
   "execution_count": 26
  },
  {
   "metadata": {
    "ExecuteTime": {
     "end_time": "2025-10-06T20:55:20.333367Z",
     "start_time": "2025-10-06T20:52:52.742208Z"
    }
   },
   "cell_type": "code",
   "source": "idf_scores = compute_idf(df['tokens'])\n",
   "id": "5a23faa35ae0bf8d",
   "outputs": [
    {
     "name": "stderr",
     "output_type": "stream",
     "text": [
      "Computing IDF: 100%|██████████| 30190/30190 [02:27<00:00, 204.62it/s]\n"
     ]
    }
   ],
   "execution_count": 27
  },
  {
   "metadata": {
    "ExecuteTime": {
     "end_time": "2025-10-06T20:55:25.776744Z",
     "start_time": "2025-10-06T20:55:25.773755Z"
    }
   },
   "cell_type": "code",
   "source": [
    "def compute_tfidf(tokens, idf_scores):\n",
    "    tf = compute_tf(tokens)\n",
    "    tfidf = {word: tf[word] * idf_scores.get(word, 0) for word in tf}\n",
    "    return tfidf"
   ],
   "id": "da6452d065ac7cbf",
   "outputs": [],
   "execution_count": 28
  },
  {
   "metadata": {
    "ExecuteTime": {
     "end_time": "2025-10-06T20:55:30.242063Z",
     "start_time": "2025-10-06T20:55:30.239029Z"
    }
   },
   "cell_type": "code",
   "source": "sample_tfidf = compute_tfidf(df['tokens'][0], idf_scores)\n",
   "id": "c53c5cdd43930120",
   "outputs": [],
   "execution_count": 29
  },
  {
   "metadata": {
    "ExecuteTime": {
     "end_time": "2025-10-06T20:55:37.983712Z",
     "start_time": "2025-10-06T20:55:37.977722Z"
    }
   },
   "cell_type": "code",
   "source": "sample_tfidf",
   "id": "c935a936705181d1",
   "outputs": [
    {
     "data": {
      "text/plain": [
       "{'tv': 0.07044891009600367,\n",
       " 'future': 0.010327813898301442,\n",
       " 'hands': 0.016465864215777636,\n",
       " 'viewers': 0.027274046752097318,\n",
       " 'home': 0.008802506791119928,\n",
       " 'theatre': 0.009425826004158352,\n",
       " 'systems': 0.00826463580527434,\n",
       " 'plasma': 0.013828183422409102,\n",
       " 'highdefinition': 0.04265568908711416,\n",
       " 'tvs': 0.02456738080343062,\n",
       " 'digital': 0.012844039281540926,\n",
       " 'video': 0.013028336065120553,\n",
       " 'recorders': 0.02425023819341798,\n",
       " 'moving': 0.008429597237307827,\n",
       " 'living': 0.008606436302725735,\n",
       " 'room': 0.009003589500653048,\n",
       " 'way': 0.0069944866512508036,\n",
       " 'people': 0.0176359341033261,\n",
       " 'watch': 0.0335828280437538,\n",
       " 'radically': 0.013045741822609263,\n",
       " 'different': 0.006137656122257788,\n",
       " 'five': 0.00434883535508087,\n",
       " 'years': 0.0058833113222466395,\n",
       " 'time': 0.005363375967899377,\n",
       " 'according': 0.004659388701777986,\n",
       " 'expert': 0.01066392227177854,\n",
       " 'panel': 0.018364718825789772,\n",
       " 'gathered': 0.010065342216108393,\n",
       " 'annual': 0.006977832295195966,\n",
       " 'consumer': 0.014390116469232488,\n",
       " 'electronics': 0.009530395081354412,\n",
       " 'show': 0.014794117601053963,\n",
       " 'las': 0.010750141730774291,\n",
       " 'vegas': 0.010750141730774291,\n",
       " 'discuss': 0.009003589500653048,\n",
       " 'new': 0.00605145370076042,\n",
       " 'technologies': 0.02581930890817721,\n",
       " 'impact': 0.007526096549039234,\n",
       " 'one': 0.007617339587497121,\n",
       " 'favourite': 0.00826463580527434,\n",
       " 'pastimes': 0.017234312073809325,\n",
       " 'us': 0.016856420855642252,\n",
       " 'leading': 0.006813361821792749,\n",
       " 'trend': 0.01783771376262713,\n",
       " 'programmes': 0.027830613478201587,\n",
       " 'content': 0.030588622550031943,\n",
       " 'delivered': 0.009477554282285706,\n",
       " 'via': 0.007573806833700417,\n",
       " 'networks': 0.024240822507152895,\n",
       " 'cable': 0.019507825927847527,\n",
       " 'satellite': 0.03510864777961106,\n",
       " 'telecoms': 0.00963961317120904,\n",
       " 'companies': 0.015739740754957564,\n",
       " 'broadband': 0.0167914140218769,\n",
       " 'service': 0.005461216857763355,\n",
       " 'providers': 0.011128890329858464,\n",
       " 'front': 0.007774489956585594,\n",
       " 'rooms': 0.012635289526139565,\n",
       " 'portable': 0.009325526263322345,\n",
       " 'devices': 0.01616054833810193,\n",
       " 'talkedabout': 0.017234312073809325,\n",
       " 'ces': 0.02456738080343062,\n",
       " 'personal': 0.006178268657764448,\n",
       " 'dvr': 0.06495233322783518,\n",
       " 'pvr': 0.014535018981258686,\n",
       " 'settop': 0.012831954655558574,\n",
       " 'boxes': 0.02425023819341798,\n",
       " 'like': 0.007096382958273793,\n",
       " 'tivo': 0.041484550267227305,\n",
       " 'uk': 0.01064457443741069,\n",
       " 'sky': 0.02132784454355708,\n",
       " 'system': 0.005718955383439511,\n",
       " 'allow': 0.006406992055961036,\n",
       " 'record': 0.0051280376631036625,\n",
       " 'store': 0.009325526263322345,\n",
       " 'play': 0.013825280471622781,\n",
       " 'pause': 0.024906412112948806,\n",
       " 'forward': 0.013091336991061886,\n",
       " 'wind': 0.025663909311117148,\n",
       " 'want': 0.030038201436952017,\n",
       " 'essentially': 0.013279919168565834,\n",
       " 'technology': 0.011067278030676359,\n",
       " 'allows': 0.00963961317120904,\n",
       " 'much': 0.011748132786988523,\n",
       " 'personalised': 0.014535018981258686,\n",
       " 'also': 0.004156471193338225,\n",
       " 'builtin': 0.01183572588870805,\n",
       " 'sets': 0.01927922634241808,\n",
       " 'big': 0.004906843187286169,\n",
       " 'business': 0.005246580251652521,\n",
       " 'japan': 0.007598013950268012,\n",
       " 'slower': 0.010750141730774291,\n",
       " 'take': 0.006841052545837866,\n",
       " 'europe': 0.01072264990402239,\n",
       " 'lack': 0.00826463580527434,\n",
       " 'programming': 0.01183572588870805,\n",
       " 'adverts': 0.011342677496909152,\n",
       " 'forget': 0.010273099926251054,\n",
       " 'abiding': 0.016238083306958796,\n",
       " 'network': 0.014031852239217314,\n",
       " 'channel': 0.026390991225222968,\n",
       " 'schedules': 0.02907003796251737,\n",
       " 'putting': 0.008329297496471818,\n",
       " 'together': 0.006866971274850832,\n",
       " 'alacarte': 0.017234312073809325,\n",
       " 'entertainment': 0.00788133298346456,\n",
       " 'worried': 0.009375164364839593,\n",
       " 'means': 0.024027734699709632,\n",
       " 'terms': 0.014958590174389549,\n",
       " 'advertising': 0.020546199852502108,\n",
       " 'revenues': 0.009276871159400528,\n",
       " 'well': 0.0035481914791368964,\n",
       " 'brand': 0.030397984689023813,\n",
       " 'identity': 0.011028590589022455,\n",
       " 'viewer': 0.013045741822609263,\n",
       " 'loyalty': 0.02707758042881632,\n",
       " 'channels': 0.02205718117804491,\n",
       " 'although': 0.005200307651325513,\n",
       " 'leads': 0.010201877476931024,\n",
       " 'moment': 0.014866736940914598,\n",
       " 'concern': 0.008170726191465501,\n",
       " 'raised': 0.008050848638223654,\n",
       " 'particularly': 0.007113827614810622,\n",
       " 'growing': 0.006921776575868763,\n",
       " 'uptake': 0.014156270382174513,\n",
       " 'services': 0.005707658800519045,\n",
       " 'happens': 0.009229160874739344,\n",
       " 'today': 0.006347784312523541,\n",
       " 'see': 0.004084783490330046,\n",
       " 'nine': 0.008021771346707675,\n",
       " 'months': 0.004475204332064336,\n",
       " 'adam': 0.011456977289623875,\n",
       " 'hume': 0.017234312073809325,\n",
       " 'bbc': 0.011305106319644256,\n",
       " 'broadcast': 0.009003589500653048,\n",
       " 'futurologist': 0.015531247748109213,\n",
       " 'told': 0.00314747846963796,\n",
       " 'news': 0.004401253395559964,\n",
       " 'website': 0.006084529675050992,\n",
       " 'likes': 0.00993599643358893,\n",
       " 'issues': 0.0064830663203442485,\n",
       " 'lost': 0.005380981076500326,\n",
       " 'revenue': 0.008680896620896076,\n",
       " 'yet': 0.0055231613770422155,\n",
       " 'pressing': 0.012635289526139565,\n",
       " 'issue': 0.006151119183104533,\n",
       " 'commercial': 0.008110056381661148,\n",
       " 'broadcasters': 0.010932225200439457,\n",
       " 'important': 0.005674077378581296,\n",
       " 'everyone': 0.01430821449141818,\n",
       " 'talking': 0.008296753941803464,\n",
       " 'brands': 0.030819299778753164,\n",
       " 'rather': 0.006084529675050992,\n",
       " 'said': 0.0012067026567481405,\n",
       " 'tim': 0.008643384404358514,\n",
       " 'hanlon': 0.05170293622142798,\n",
       " 'communications': 0.009276871159400528,\n",
       " 'firm': 0.004468388786897935,\n",
       " 'starcom': 0.017234312073809325,\n",
       " 'mediavest': 0.017234312073809325,\n",
       " 'reality': 0.009753912963923764,\n",
       " 'connections': 0.00993599643358893,\n",
       " 'anybody': 0.010839497121857522,\n",
       " 'producer': 0.008643384404358514,\n",
       " 'added': 0.003311887778692784,\n",
       " 'challenge': 0.007433368470457299,\n",
       " 'hard': 0.005787847816030157,\n",
       " 'promote': 0.010580626076015199,\n",
       " 'programme': 0.005919397611922122,\n",
       " 'choice': 0.014866736940914598,\n",
       " 'stacey': 0.017234312073809325,\n",
       " 'jolna': 0.017234312073809325,\n",
       " 'senior': 0.006940320078658402,\n",
       " 'vice': 0.009325526263322345,\n",
       " 'president': 0.005823032223339122,\n",
       " 'guide': 0.011976164251951166,\n",
       " 'group': 0.0047114300336685185,\n",
       " 'find': 0.011814286420350196,\n",
       " 'simplified': 0.016238083306958796,\n",
       " 'could': 0.00229028526698759,\n",
       " 'leaf': 0.016238083306958796,\n",
       " 'google': 0.009999818267503575,\n",
       " 'book': 0.00788133298346456,\n",
       " 'search': 0.01775512350063017,\n",
       " 'engine': 0.010580626076015199,\n",
       " 'instead': 0.013219815025972562,\n",
       " 'scheduler': 0.017234312073809325,\n",
       " 'help': 0.004874513741149778,\n",
       " 'kind': 0.008170726191465501,\n",
       " 'model': 0.008836949214808425,\n",
       " 'might': 0.012169059350101983,\n",
       " 'work': 0.004241026986107764,\n",
       " 'younger': 0.00963961317120904,\n",
       " 'ipod': 0.010132661563007938,\n",
       " 'generation': 0.008232932107888818,\n",
       " 'used': 0.004502657159086757,\n",
       " 'taking': 0.005380981076500326,\n",
       " 'control': 0.0063187070210075635,\n",
       " 'gadgets': 0.020265323126015877,\n",
       " 'suit': 0.010346448730058624,\n",
       " 'recognised': 0.00993599643358893,\n",
       " 'older': 0.00958439730916467,\n",
       " 'generations': 0.013279919168565834,\n",
       " 'comfortable': 0.011342677496909152,\n",
       " 'familiar': 0.011028590589022455,\n",
       " 'know': 0.00518203989091392,\n",
       " 'getting': 0.006124266429954188,\n",
       " 'perhaps': 0.00896085794607843,\n",
       " 'put': 0.004407884985164792,\n",
       " 'mr': 0.005082133792789616,\n",
       " 'suggested': 0.007549835887888709,\n",
       " 'end': 0.004155663476417658,\n",
       " 'kids': 0.011128890329858464,\n",
       " 'diapers': 0.017234312073809325,\n",
       " 'pushing': 0.009753912963923764,\n",
       " 'buttons': 0.014156270382174513,\n",
       " 'already': 0.004374904591228328,\n",
       " 'everything': 0.007388284591665662,\n",
       " 'possible': 0.006205721484786869,\n",
       " 'available': 0.006406992055961036,\n",
       " 'ultimately': 0.010273099926251054,\n",
       " 'tell': 0.008877561750315085,\n",
       " 'market': 0.004516499463062816,\n",
       " 'showcased': 0.013279919168565834,\n",
       " 'many': 0.0070683828545163585,\n",
       " 'enhancing': 0.014982983494265946,\n",
       " 'tvwatching': 0.017234312073809325,\n",
       " 'experience': 0.007433368470457299,\n",
       " 'everywhere': 0.013828183422409102,\n",
       " 'models': 0.009375164364839593,\n",
       " 'lcd': 0.027656366844818203,\n",
       " 'liquid': 0.01353879021440816,\n",
       " 'crystal': 0.01228369040171531,\n",
       " 'display': 0.00896085794607843,\n",
       " 'launched': 0.020990416144265372,\n",
       " 'capability': 0.023153709685731445,\n",
       " 'built': 0.008680896620896076,\n",
       " 'external': 0.01183572588870805,\n",
       " 'example': 0.007622461937622234,\n",
       " 'humax': 0.017234312073809325,\n",
       " 'inch': 0.013279919168565834,\n",
       " 'hour': 0.009003589500653048,\n",
       " 'dvd': 0.009276871159400528,\n",
       " 'recorder': 0.01212511909670899,\n",
       " 'biggest': 0.005471433098914864,\n",
       " 'directtv': 0.017234312073809325,\n",
       " 'even': 0.004516499463062816,\n",
       " 'branded': 0.010580626076015199,\n",
       " 'hours': 0.015496979375920391,\n",
       " 'recording': 0.010201877476931024,\n",
       " 'instant': 0.012453206056474403,\n",
       " 'replay': 0.01228369040171531,\n",
       " 'function': 0.012453206056474403,\n",
       " 'set': 0.0036631599349274593,\n",
       " 'rewind': 0.014982983494265946,\n",
       " 'microsoft': 0.008050848638223654,\n",
       " 'chief': 0.004565571043374647,\n",
       " 'bill': 0.006659213564708171,\n",
       " 'gates': 0.011702882593203685,\n",
       " 'announced': 0.005811248016303513,\n",
       " 'preshow': 0.01353879021440816,\n",
       " 'keynote': 0.011976164251951166,\n",
       " 'speech': 0.007854183508804645,\n",
       " 'partnership': 0.011128890329858464,\n",
       " 'called': 0.005255940272332294,\n",
       " 'tivotogo': 0.017234312073809325,\n",
       " 'recorded': 0.009873790517165611,\n",
       " 'windows': 0.009229160874739344,\n",
       " 'pcs': 0.008362277890408281,\n",
       " 'mobile': 0.007113827614810622,\n",
       " 'reflect': 0.010580626076015199,\n",
       " 'increasing': 0.008463961468203994,\n",
       " 'freeing': 0.014535018981258686,\n",
       " 'multimedia': 0.01066392227177854}"
      ]
     },
     "execution_count": 30,
     "metadata": {},
     "output_type": "execute_result"
    }
   ],
   "execution_count": 30
  },
  {
   "metadata": {},
   "cell_type": "code",
   "outputs": [],
   "execution_count": null,
   "source": "",
   "id": "6772940abb5b7dc9"
  }
 ],
 "metadata": {
  "kernelspec": {
   "display_name": "Python 3",
   "language": "python",
   "name": "python3"
  },
  "language_info": {
   "codemirror_mode": {
    "name": "ipython",
    "version": 2
   },
   "file_extension": ".py",
   "mimetype": "text/x-python",
   "name": "python",
   "nbconvert_exporter": "python",
   "pygments_lexer": "ipython2",
   "version": "2.7.6"
  }
 },
 "nbformat": 4,
 "nbformat_minor": 5
}

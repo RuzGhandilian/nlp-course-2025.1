{
 "cells": [
  {
   "cell_type": "code",
   "id": "initial_id",
   "metadata": {
    "collapsed": true,
    "ExecuteTime": {
     "end_time": "2025-10-16T12:20:06.429489Z",
     "start_time": "2025-10-16T12:20:06.426809Z"
    }
   },
   "source": [
    "import numpy as np\n",
    "import string\n",
    "from collections import defaultdict, Counter"
   ],
   "outputs": [],
   "execution_count": 33
  },
  {
   "metadata": {
    "ExecuteTime": {
     "end_time": "2025-10-16T12:20:06.443470Z",
     "start_time": "2025-10-16T12:20:06.441806Z"
    }
   },
   "cell_type": "code",
   "source": [
    "def remove_punctuation(text):\n",
    "    return text.translate(str.maketrans('', '', string.punctuation))"
   ],
   "id": "1991ed12aac79be",
   "outputs": [],
   "execution_count": 34
  },
  {
   "metadata": {
    "ExecuteTime": {
     "end_time": "2025-10-16T12:20:06.448046Z",
     "start_time": "2025-10-16T12:20:06.446355Z"
    }
   },
   "cell_type": "code",
   "source": [
    "def to_probabilities(word_dict):\n",
    "    total = sum(word_dict.values())\n",
    "    return {word: count / total for word, count in word_dict.items()}"
   ],
   "id": "34f4ab7b7c80f6cf",
   "outputs": [],
   "execution_count": 35
  },
  {
   "metadata": {
    "ExecuteTime": {
     "end_time": "2025-10-16T12:20:06.456670Z",
     "start_time": "2025-10-16T12:20:06.454780Z"
    }
   },
   "cell_type": "code",
   "source": [
    "def sample_word(probs):\n",
    "    r = np.random.random() # generate random number from 0 -> 1\n",
    "    cumsum = 0\n",
    "    for word, chance in probs.items():\n",
    "        cumsum += chance\n",
    "        if r < cumsum:\n",
    "            return word\n",
    "    return list(probs.keys())[-1] # in case theres some problem with prob values, we exit the loop, it takes the last word to not crash\n"
   ],
   "id": "fe13026fab062a6",
   "outputs": [],
   "execution_count": 36
  },
  {
   "metadata": {
    "ExecuteTime": {
     "end_time": "2025-10-16T12:20:06.464349Z",
     "start_time": "2025-10-16T12:20:06.462643Z"
    }
   },
   "cell_type": "code",
   "source": "path = 'robert_frost.txt'",
   "id": "ced7240e7d82e4ac",
   "outputs": [],
   "execution_count": 37
  },
  {
   "metadata": {
    "ExecuteTime": {
     "end_time": "2025-10-16T12:20:06.473539Z",
     "start_time": "2025-10-16T12:20:06.470774Z"
    }
   },
   "cell_type": "code",
   "source": [
    "def train_markov(path):\n",
    "    initial_probs = Counter()\n",
    "    first_order = defaultdict(list)\n",
    "    second_order = defaultdict(list)\n",
    "\n",
    "    with open(path, 'r') as f:\n",
    "        lines = []\n",
    "        for line in f:\n",
    "            if line.strip():\n",
    "                words = remove_punctuation(line.strip().lower()).split()\n",
    "                lines.append(words)\n",
    "\n",
    "    for words in lines:\n",
    "        if len(words) == 0:\n",
    "            continue\n",
    "        initial_probs[words[0]] += 1\n",
    "\n",
    "        for i, word in enumerate(words):\n",
    "            if i == 0:\n",
    "                continue\n",
    "            elif i == 1:\n",
    "                first_order[words[i-1]].append(word)\n",
    "            else:\n",
    "                second_order[(words[i-2], words[i-1])].append(word)\n",
    "\n",
    "            if i == len(words) - 1:\n",
    "                second_order[(words[i-1], word)].append('END')\n",
    "\n",
    "    initial_probs = to_probabilities(initial_probs)\n",
    "    first_order = {k: to_probabilities(Counter(v)) for k, v in first_order.items()}\n",
    "    second_order = {k: to_probabilities(Counter(v)) for k, v in second_order.items()}\n",
    "\n",
    "    return initial_probs, first_order, second_order"
   ],
   "id": "d8e0a50956400d76",
   "outputs": [],
   "execution_count": 38
  },
  {
   "metadata": {
    "ExecuteTime": {
     "end_time": "2025-10-16T12:20:06.481869Z",
     "start_time": "2025-10-16T12:20:06.479692Z"
    }
   },
   "cell_type": "code",
   "source": [
    "def generator(initial_probs, first_order, second_order):\n",
    "\n",
    "    w1 = sample_word(initial_probs)\n",
    "    w2 = sample_word(first_order[w1])\n",
    "    line = [w1,w2]\n",
    "\n",
    "    while True:\n",
    "        next_word = sample_word(second_order[(w1, w2)])\n",
    "        if next_word == 'END':\n",
    "            break\n",
    "        line.append(next_word)\n",
    "        w1, w2 = w2, next_word\n",
    "    return ' '.join(line)"
   ],
   "id": "4f3f7fae6bcccdf7",
   "outputs": [],
   "execution_count": 39
  },
  {
   "metadata": {
    "ExecuteTime": {
     "end_time": "2025-10-16T12:20:06.490633Z",
     "start_time": "2025-10-16T12:20:06.488680Z"
    }
   },
   "cell_type": "code",
   "source": [
    "def poem(initial_probs, first_order, second_order, num_of_lines = 4):\n",
    "    for _ in range(num_of_lines):\n",
    "        print(generator(initial_probs, first_order, second_order))"
   ],
   "id": "11d9a955eb547f6c",
   "outputs": [],
   "execution_count": 40
  },
  {
   "metadata": {
    "ExecuteTime": {
     "end_time": "2025-10-16T12:20:06.538737Z",
     "start_time": "2025-10-16T12:20:06.496842Z"
    }
   },
   "cell_type": "code",
   "source": "initial_probs, first_order, second_order = train_markov('robert_frost.txt')",
   "id": "df23b32883a4105e",
   "outputs": [],
   "execution_count": 41
  },
  {
   "metadata": {
    "ExecuteTime": {
     "end_time": "2025-10-16T12:20:38.092167Z",
     "start_time": "2025-10-16T12:20:38.089464Z"
    }
   },
   "cell_type": "code",
   "source": "poem(initial_probs, first_order, second_order, 8)",
   "id": "3f9d83ab58019ed5",
   "outputs": [
    {
     "name": "stdout",
     "output_type": "stream",
     "text": [
      "and scurf of plants and weary and overheated\n",
      "he guessed theyd know what a name should matter between us\n",
      "im waiting\n",
      "of youthful forms and youthful faces\n",
      "as one who clasps her heart of one that didnt thrive\n",
      "nor never will be to have two towns fighting\n",
      "take it as i say\n",
      "my french indian esquimaux\n"
     ]
    }
   ],
   "execution_count": 43
  },
  {
   "metadata": {
    "ExecuteTime": {
     "end_time": "2025-10-16T12:20:06.612383Z",
     "start_time": "2025-10-16T12:20:06.610937Z"
    }
   },
   "cell_type": "code",
   "source": "",
   "id": "25d7ef6f7aac4e39",
   "outputs": [],
   "execution_count": null
  }
 ],
 "metadata": {
  "kernelspec": {
   "display_name": "Python 3",
   "language": "python",
   "name": "python3"
  },
  "language_info": {
   "codemirror_mode": {
    "name": "ipython",
    "version": 2
   },
   "file_extension": ".py",
   "mimetype": "text/x-python",
   "name": "python",
   "nbconvert_exporter": "python",
   "pygments_lexer": "ipython2",
   "version": "2.7.6"
  }
 },
 "nbformat": 4,
 "nbformat_minor": 5
}

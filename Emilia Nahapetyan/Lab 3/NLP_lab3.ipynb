{
  "nbformat": 4,
  "nbformat_minor": 0,
  "metadata": {
    "colab": {
      "provenance": []
    },
    "kernelspec": {
      "name": "python3",
      "display_name": "Python 3"
    },
    "language_info": {
      "name": "python"
    }
  },
  "cells": [
    {
      "cell_type": "code",
      "execution_count": 45,
      "metadata": {
        "colab": {
          "base_uri": "https://localhost:8080/"
        },
        "id": "ago31l2iNB5r",
        "outputId": "1e403093-3637-42d7-e05a-b358ed737b34"
      },
      "outputs": [
        {
          "output_type": "stream",
          "name": "stderr",
          "text": [
            "[nltk_data] Downloading package stopwords to /root/nltk_data...\n",
            "[nltk_data]   Package stopwords is already up-to-date!\n"
          ]
        }
      ],
      "source": [
        "import pandas as pd\n",
        "import re\n",
        "import nltk\n",
        "\n",
        "from nltk.corpus import stopwords\n",
        "\n",
        "nltk.download('stopwords')\n",
        "stop_words = set(stopwords.words('english'))\n"
      ]
    },
    {
      "cell_type": "code",
      "source": [
        "\n",
        "df = pd.read_csv('Coachella-2015-2-DFE.csv', encoding='latin1')\n",
        "print(df.head(10))\n",
        "\n"
      ],
      "metadata": {
        "colab": {
          "base_uri": "https://localhost:8080/"
        },
        "id": "pu-RyUvjq_SU",
        "outputId": "714763cf-61a4-4259-9a90-dda051b782c1"
      },
      "execution_count": 46,
      "outputs": [
        {
          "output_type": "stream",
          "name": "stdout",
          "text": [
            "  coachella_sentiment coachella_yn             name  retweet_count  \\\n",
            "0            positive          yes         kokombil              0   \n",
            "1            positive          yes    MisssTaraaa10              2   \n",
            "2            positive          yes    NMcCracken805              0   \n",
            "3            positive          yes           wxpnfm              1   \n",
            "4            positive          yes         Caesears              0   \n",
            "5            positive          yes       donbosco_6              0   \n",
            "6            positive          yes        __Mia630_              0   \n",
            "7            positive          yes      OlgaKhmylev              0   \n",
            "8            positive          yes  Ben_BigB_Davies              0   \n",
            "9            positive          yes          brevamo             83   \n",
            "\n",
            "                                                text tweet_coord  \\\n",
            "0  #Coachella2015 tickets selling out in less tha...  [0.0, 0.0]   \n",
            "1  RT @sudsybuddy: WAIT THIS IS ABSOLUTE FIRE _ÙÓ...         NaN   \n",
            "2  #Coachella2015 #VIP passes secured! See you th...         NaN   \n",
            "3  PhillyÛªs @warondrugsjams will play #Coachell...         NaN   \n",
            "4  If briana and her mom out to #Coachella2015  i...         NaN   \n",
            "5  West side is the best side!\\n#west #coas #Coac...         NaN   \n",
            "6  Coachella tickets are now sold out _Ù÷_ &amp; ...         NaN   \n",
            "7  #Coachella2015 I absolutely can NOT wait. This...         NaN   \n",
            "8  If someone got me to Coachella if be your frie...         NaN   \n",
            "9  RT @brownjenjen:  Õ http://t.co/mxCREvIlGP 71...         NaN   \n",
            "\n",
            "  tweet_created      tweet_id                  tweet_location  \\\n",
            "0  1/7/15 15:02  5.529630e+17                             NaN   \n",
            "1  1/7/15 15:02  5.529630e+17                   united states   \n",
            "2  1/7/15 15:01  5.529630e+17                  Costa Mesa, CA   \n",
            "3  1/7/15 15:01  5.529630e+17  Philadelphia, PA and Worldwide   \n",
            "4  1/7/15 15:00  5.529630e+17                             NaN   \n",
            "5  1/7/15 14:58  5.529630e+17                  Cuenca Ecuador   \n",
            "6  1/7/15 14:58  5.529630e+17                         CA. USA   \n",
            "7  1/7/15 14:57  5.529620e+17        Buffalo//Moscow//Boston    \n",
            "8  1/7/15 14:54  5.529620e+17           The mighty bridgend !   \n",
            "9  1/7/15 14:50  5.529610e+17                            Utah   \n",
            "\n",
            "                user_timezone  \n",
            "0                       Quito  \n",
            "1                         NaN  \n",
            "2                         NaN  \n",
            "3                       Quito  \n",
            "4                         NaN  \n",
            "5  Eastern Time (US & Canada)  \n",
            "6  Pacific Time (US & Canada)  \n",
            "7  Eastern Time (US & Canada)  \n",
            "8                         NaN  \n",
            "9  Pacific Time (US & Canada)  \n"
          ]
        }
      ]
    },
    {
      "cell_type": "code",
      "source": [
        "def extract_hashtags(text):\n",
        "    if isinstance(text, str):\n",
        "        return re.findall(r\"#(\\w+)\", text)\n",
        "    return []\n",
        "\n"
      ],
      "metadata": {
        "id": "bh9h7AdmrDH-"
      },
      "execution_count": 47,
      "outputs": []
    },
    {
      "cell_type": "code",
      "source": [
        "def extract_emails(text):\n",
        "    if isinstance(text, str):\n",
        "        return re.findall(r\"\\S+@\\S+\", text)\n",
        "    return []\n",
        "\n"
      ],
      "metadata": {
        "id": "SuRHEv5brKvj"
      },
      "execution_count": 48,
      "outputs": []
    },
    {
      "cell_type": "code",
      "source": [
        "def clean_text(text):\n",
        "    if not isinstance(text, str):\n",
        "        return \"\"\n",
        "    text = re.sub(r\"#(\\w+)|\\S+@\\S+\", \"\", text)\n",
        "    text = re.sub(r\"@\\w+\", \"\", text)\n",
        "    text = re.sub(r\"http\\S+|https\\S+\", \"\", text)\n",
        "    text = ''.join(c for c in text if ord(c) < 128)\n",
        "    text = re.sub(r\"[0-9]\", \"\", text)\n",
        "    text = re.sub(r\"[.,!@?#$%&*()+=\\-_{}\\[\\];:'\\\"/\\\\|<>`~]\", \"\", text)\n",
        "    text = text.lower()\n",
        "    tokens = [word for word in text.split() if word not in stop_words]\n",
        "    return \" \".join(tokens)\n",
        "\n"
      ],
      "metadata": {
        "id": "19ZHbA68rN0x"
      },
      "execution_count": 49,
      "outputs": []
    },
    {
      "cell_type": "code",
      "source": [
        "hashtags_list = []\n",
        "emails_list = []\n",
        "cleaned_text_list = []\n",
        "final_text_list = []\n"
      ],
      "metadata": {
        "id": "7Cm8O0KrrYH_"
      },
      "execution_count": 50,
      "outputs": []
    },
    {
      "cell_type": "code",
      "source": [
        "for i, row in df.iterrows():\n",
        "    text = row['text']\n",
        "    hashtags_list.append(extract_hashtags(text))\n",
        "    emails_list.append(extract_emails(text))\n",
        "\n",
        "    cleaned = clean_text(text)\n",
        "    cleaned_text_list.append(cleaned)\n",
        "\n",
        "    final_text_list.append(cleaned)\n",
        "\n",
        "\n"
      ],
      "metadata": {
        "id": "jSwg9Qh_rcqd"
      },
      "execution_count": 51,
      "outputs": []
    },
    {
      "cell_type": "code",
      "source": [
        "df['hashtags'] = hashtags_list\n",
        "df['emails'] = emails_list\n",
        "df['clean_text'] = cleaned_text_list\n",
        "df['final_text'] = final_text_list\n",
        "\n"
      ],
      "metadata": {
        "id": "JUFVX51drgEh"
      },
      "execution_count": 52,
      "outputs": []
    },
    {
      "cell_type": "code",
      "source": [
        "df[['final_text']].to_csv(\"coachella_final_text.csv\", index=False, encoding=\"utf-8\")\n",
        "\n",
        "print(\" Cleaning complete. Saved to 'coachella_final_text.csv'.\")"
      ],
      "metadata": {
        "colab": {
          "base_uri": "https://localhost:8080/"
        },
        "id": "lMQyOgCgrjBV",
        "outputId": "bd569275-3432-487e-bb78-d89c9a3e1cdc"
      },
      "execution_count": 53,
      "outputs": [
        {
          "output_type": "stream",
          "name": "stdout",
          "text": [
            " Cleaning complete. Saved to 'coachella_final_text.csv'.\n"
          ]
        }
      ]
    },
    {
      "cell_type": "code",
      "source": [],
      "metadata": {
        "id": "lDxAfQGzrnB8"
      },
      "execution_count": null,
      "outputs": []
    }
  ]
}
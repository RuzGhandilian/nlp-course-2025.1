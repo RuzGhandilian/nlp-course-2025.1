{
  "nbformat": 4,
  "nbformat_minor": 0,
  "metadata": {
    "colab": {
      "provenance": []
    },
    "kernelspec": {
      "name": "python3",
      "display_name": "Python 3"
    },
    "language_info": {
      "name": "python"
    }
  },
  "cells": [
    {
      "cell_type": "code",
      "execution_count": null,
      "metadata": {
        "id": "Elpx7QybJxee"
      },
      "outputs": [],
      "source": [
        "import re\n"
      ]
    },
    {
      "cell_type": "markdown",
      "source": [
        " Problem 1: Extract Email Addresses\n",
        "\n",
        "1. Description: Extract all email addresses from the given text.\n"
      ],
      "metadata": {
        "id": "MHK766SNMwnN"
      }
    },
    {
      "cell_type": "code",
      "source": [
        "text = \"\"\"Contact us at support@example.com or sales@company.org for assistance.\n",
        " For personal inquiries, email john.doe123@university.edu.\"\"\"\n",
        "\n",
        "txt  = text.split()\n",
        "pattern = r'@+'\n",
        "\n",
        "for i in txt:\n",
        "  if re.search(pattern,i):\n",
        "    print(i)"
      ],
      "metadata": {
        "colab": {
          "base_uri": "https://localhost:8080/"
        },
        "id": "XymMGf5_KPPC",
        "outputId": "41544a9e-98ef-4e93-d7c6-8e30f711d7f2"
      },
      "execution_count": null,
      "outputs": [
        {
          "output_type": "stream",
          "name": "stdout",
          "text": [
            "support@example.com\n",
            "sales@company.org\n",
            "john.doe123@university.edu.\n"
          ]
        }
      ]
    },
    {
      "cell_type": "markdown",
      "source": [
        "Problem 2: Validate Phone Numbers\n",
        "\n",
        "Description: Check if the phone numbers in the text follow the format:  XXX-XXX-XXXX.\n",
        "\n"
      ],
      "metadata": {
        "id": "mTbSYPtPMvwH"
      }
    },
    {
      "cell_type": "code",
      "source": [
        "text1 = \"\"\" Valid: 123-456-7890, 987-654-3210\n",
        " Invalid: 12-345-67890, 1234567890, 123-45-6789\"\"\"\n",
        "\n",
        "txt1 = text1.split()\n",
        "\n",
        "pattern1 = r'\\d{3}-\\d{3}-\\d{4}'\n",
        "\n",
        "for i in txt1:\n",
        "  if re.search(pattern1,i):\n",
        "    print(i)\n"
      ],
      "metadata": {
        "colab": {
          "base_uri": "https://localhost:8080/"
        },
        "id": "iwxNc4HkM4pu",
        "outputId": "0b4f629f-57c3-4773-8a91-385399fdd9da"
      },
      "execution_count": null,
      "outputs": [
        {
          "output_type": "stream",
          "name": "stdout",
          "text": [
            "123-456-7890,\n",
            "987-654-3210\n"
          ]
        }
      ]
    },
    {
      "cell_type": "markdown",
      "source": [
        " Problem 3: Extract Dates\n",
        "\n",
        " Description: Extract all dates in the format\n",
        "DD/MM/YYYY or\n"
      ],
      "metadata": {
        "id": "xw5Rk4vJOonW"
      }
    },
    {
      "cell_type": "code",
      "source": [
        "text2 = \"25/12/2023, 01-01-2024, 31/05/2023, and 15-10-2024\"\n",
        "txt2 = text2.split()\n",
        "\n",
        "pattern2 = r'\\d{2}/\\d{2}/\\d{4}|\\d{2}-\\d{2}-\\d{4}'\n",
        "\n",
        "for i in txt2:\n",
        "  if re.search(pattern2,i):\n",
        "    print(i)"
      ],
      "metadata": {
        "colab": {
          "base_uri": "https://localhost:8080/"
        },
        "id": "DN3-XKIZOzY6",
        "outputId": "4bde3642-bc7a-44d8-a4f1-c9039099afb2"
      },
      "execution_count": null,
      "outputs": [
        {
          "output_type": "stream",
          "name": "stdout",
          "text": [
            "25/12/2023,\n",
            "01-01-2024,\n",
            "31/05/2023,\n",
            "15-10-2024\n"
          ]
        }
      ]
    },
    {
      "cell_type": "markdown",
      "source": [
        " Problem 4: Find Repeated Words\n",
        "\n",
        " Description: Find all instances of repeated words in the text (e.g., \"the the\")."
      ],
      "metadata": {
        "id": "dnQtmAOdR63z"
      }
    },
    {
      "cell_type": "code",
      "source": [
        "text3 = \"The the quick brown fox jumps over the the lazy dog.\"\n",
        "txt3 = text3.lower()\n",
        "\n",
        "pattern3 = r'\\b(\\w+)\\s+\\1\\b'\n",
        "\n",
        "matches = re.finditer(pattern3, txt3, flags=re.IGNORECASE)\n",
        "\n",
        "for i in matches:\n",
        "    print(i.group(0))\n"
      ],
      "metadata": {
        "colab": {
          "base_uri": "https://localhost:8080/"
        },
        "id": "wELUyPMIR_ik",
        "outputId": "0a5eb61e-e5d7-44e4-b172-d4e302137e22"
      },
      "execution_count": null,
      "outputs": [
        {
          "output_type": "stream",
          "name": "stdout",
          "text": [
            "the the\n",
            "the the\n"
          ]
        }
      ]
    },
    {
      "cell_type": "markdown",
      "source": [
        " Problem 5: Extract Hashtags\n",
        "\n",
        " Description: Extract all hashtags (words starting with starting with # ) from the text.\n"
      ],
      "metadata": {
        "id": "Zcqi5A2uYu2t"
      }
    },
    {
      "cell_type": "code",
      "source": [
        "text4 = \"Check out our new products: #Sale2024, #NewArrival, and #Discounts!\"\n",
        "text4 = text4.split()\n",
        "\n",
        "pattern4 = r'#\\w+'\n",
        "\n",
        "for i in text4:\n",
        "    match = re.search(pattern4, i)\n",
        "    if match:\n",
        "        clean_tag = match.group().strip(\"!.,\")\n",
        "        print(clean_tag)\n"
      ],
      "metadata": {
        "id": "YVUs7bwLZCW8",
        "colab": {
          "base_uri": "https://localhost:8080/"
        },
        "outputId": "a88010ab-1ce0-4c36-b418-a03fbd1b1193"
      },
      "execution_count": null,
      "outputs": [
        {
          "output_type": "stream",
          "name": "stdout",
          "text": [
            "#Sale2024\n",
            "#NewArrival\n",
            "#Discounts\n"
          ]
        }
      ]
    },
    {
      "cell_type": "markdown",
      "source": [
        "Problem 6: Validate Password Strength\n",
        "\n",
        "Description: Check if the passwords meet the\n",
        "\n",
        "1.At least 8 characters long\n",
        "\n",
        "2.Contains at least one uppercase letter\n",
        "\n",
        "3.Contains at least one lowercase letter\n",
        "\n",
        "4.Contains at least one digit\n",
        "\n"
      ],
      "metadata": {
        "id": "j5MDAuQs4kZv"
      }
    },
    {
      "cell_type": "code",
      "source": [
        "txt5 = \"\"\"Valid: Password123, Secure456\n",
        "Invalid: weak, password, Password\"\"\"\n",
        "\n",
        "txt5 = txt5.split()\n",
        "\n",
        "pattern5 = r'^(?=.*[a-z])(?=.*[A-Z])(?=.*\\d).{8,}$'\n",
        "\n",
        "print(\"Valid passwords:\")\n",
        "for i in txt5:\n",
        "  if re.search(pattern5,i):\n",
        "    print(i)"
      ],
      "metadata": {
        "colab": {
          "base_uri": "https://localhost:8080/"
        },
        "id": "4sX9wC6E6AsX",
        "outputId": "14f6f91b-2c4e-4dd7-fcd8-114d4276e59d"
      },
      "execution_count": null,
      "outputs": [
        {
          "output_type": "stream",
          "name": "stdout",
          "text": [
            "Valid passwords:\n",
            "Password123,\n",
            "Secure456\n"
          ]
        }
      ]
    },
    {
      "cell_type": "markdown",
      "source": [
        "Problem 7: Extract URLs\n",
        "\n",
        "Description: Extract all URLs from the given text.\n"
      ],
      "metadata": {
        "id": "TOcuxX3F_X6q"
      }
    },
    {
      "cell_type": "code",
      "source": [
        "txt6 = \"Visit our website at https://www.example.com or check out http://blog.example.org for updates.\"\n",
        "txt6 = txt6.split()\n",
        "\n",
        "pattern6 = r'https?://\\S+|www\\.\\S+'\n",
        "\n",
        "for i in txt6:\n",
        "  if re.search(pattern6,i):\n",
        "    print(i)\n"
      ],
      "metadata": {
        "colab": {
          "base_uri": "https://localhost:8080/"
        },
        "id": "Eou-3Med4X6s",
        "outputId": "a5e304b6-629c-459e-e9b2-b2144b447a34"
      },
      "execution_count": null,
      "outputs": [
        {
          "output_type": "stream",
          "name": "stdout",
          "text": [
            "https://www.example.com\n",
            "http://blog.example.org\n"
          ]
        }
      ]
    },
    {
      "cell_type": "markdown",
      "source": [
        "Problem 8: Replace Multiple Spaces with a Single Space\n",
        "\n",
        "Description: Replace multiple spaces in the text with a single space.\n"
      ],
      "metadata": {
        "id": "lHNG950FBJCv"
      }
    },
    {
      "cell_type": "code",
      "source": [
        "txt7 = \"This   text   has   multiple   spaces.\"\n",
        "\n",
        "txt7_clean = re.sub(r'\\s+', ' ', txt7)\n",
        "\n",
        "print(txt7_clean)\n"
      ],
      "metadata": {
        "colab": {
          "base_uri": "https://localhost:8080/"
        },
        "id": "uo4AeOmz_6mY",
        "outputId": "620c653f-69a0-4461-df12-39399fae8a7e"
      },
      "execution_count": null,
      "outputs": [
        {
          "output_type": "stream",
          "name": "stdout",
          "text": [
            "This text has multiple spaces.\n"
          ]
        }
      ]
    },
    {
      "cell_type": "markdown",
      "source": [
        "Problem 9: Extract Quoted Text\n",
        "\n",
        "Description: Extract all text within double quotes ( \"...\" )."
      ],
      "metadata": {
        "id": "eVSfp7wRBww1"
      }
    },
    {
      "cell_type": "code",
      "source": [
        "txt8 = 'He said, \"Hello, world!\" and she replied, \"Hi there!\"'\n",
        "pattern8 = r'\"([^\"]+)\"'\n",
        "\n",
        "matches = re.findall(pattern8, txt8)\n",
        "\n",
        "for match in matches:\n",
        "    print(match)"
      ],
      "metadata": {
        "colab": {
          "base_uri": "https://localhost:8080/"
        },
        "id": "yK4IoI6PBx2N",
        "outputId": "6e0eee45-fe06-4749-84fc-e3bd12f182e1"
      },
      "execution_count": null,
      "outputs": [
        {
          "output_type": "stream",
          "name": "stdout",
          "text": [
            "Hello, world!\n",
            "Hi there!\n"
          ]
        }
      ]
    },
    {
      "cell_type": "markdown",
      "source": [
        "Problem 10: Validate IP Addresses\n",
        "\n",
        "Description: Check if the IP addresses in the text are valid (format: XXX.XXX.XXX.XXX ).\n"
      ],
      "metadata": {
        "id": "spHwy9YfBwtd"
      }
    },
    {
      "cell_type": "code",
      "source": [
        "import re\n",
        "\n",
        "txt9 = '''Valid: 192.168.1.1, 10.0.0.255\n",
        "Invalid: 256.1.2.3, 192.168.01.1, 192.168.1'''\n",
        "\n",
        "words = txt9.replace(',', '').split()\n",
        "pattern = r'^([0-9]{1,3}\\.){3}[0-9]{1,3}$'\n",
        "\n",
        "print(\"Valid IP addresses:\")\n",
        "\n",
        "for i in words:\n",
        "    if re.match(pattern, i):\n",
        "        octets = i.split('.')\n",
        "        if all(0 <= int(o) <= 255 and (o == '0' or o[0] != '0') for o in octets):\n",
        "            print(i)\n"
      ],
      "metadata": {
        "colab": {
          "base_uri": "https://localhost:8080/"
        },
        "id": "x1FHerLy_4jV",
        "outputId": "e4f1ddc8-bc8b-4410-c0ce-106af8b0fa9a"
      },
      "execution_count": null,
      "outputs": [
        {
          "output_type": "stream",
          "name": "stdout",
          "text": [
            "Valid IP addresses:\n",
            "192.168.1.1\n",
            "10.0.0.255\n"
          ]
        }
      ]
    }
  ]
}
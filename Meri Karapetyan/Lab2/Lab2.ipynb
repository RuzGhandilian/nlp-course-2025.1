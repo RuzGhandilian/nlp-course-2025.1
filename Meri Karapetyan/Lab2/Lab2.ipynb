{
 "nbformat": 4,
 "nbformat_minor": 0,
 "metadata": {
  "colab": {
   "provenance": []
  },
  "kernelspec": {
   "name": "python3",
   "display_name": "Python 3 (ipykernel)",
   "language": "python"
  },
  "language_info": {
   "name": "python"
  }
 },
 "cells": [
  {
   "cell_type": "code",
   "metadata": {
    "id": "IM_QRDHtwlIv",
    "ExecuteTime": {
     "end_time": "2025-10-02T09:27:24.394828Z",
     "start_time": "2025-10-02T09:27:24.386139Z"
    }
   },
   "source": [
    "import re\n",
    "import string"
   ],
   "outputs": [],
   "execution_count": 13
  },
  {
   "cell_type": "markdown",
   "source": "`Extract Email Addresses`",
   "metadata": {
    "id": "JWWQE0TX7iwO"
   }
  },
  {
   "cell_type": "code",
   "source": [
    "t = \"\"\" Contact us at support@example.com or sales@company.org for assistance.\n",
    " For personal inquiries, email john.doe123@university.edu\"\"\"\n",
    "\n",
    "tokens = t.split()\n",
    "\n",
    "def mail_extraction(text):\n",
    "    pattern = r\"[a-zA-Z0-9._]+@[a-zA-Z0-9.-]+\\.[a-zA-Z]{2,}\"\n",
    "\n",
    "    for ch in text:\n",
    "        if re.search(pattern, ch):\n",
    "            print(f\"{ch} is email address\")\n",
    "\n",
    "mail_extraction(tokens)\n",
    " #print(tokens)\n"
   ],
   "metadata": {
    "colab": {
     "base_uri": "https://localhost:8080/"
    },
    "id": "qAIKgxFG2j07",
    "outputId": "8c42e343-35e5-444f-eb4c-9a07235ae304",
    "ExecuteTime": {
     "end_time": "2025-10-02T09:27:24.431251Z",
     "start_time": "2025-10-02T09:27:24.419546Z"
    }
   },
   "outputs": [
    {
     "name": "stdout",
     "output_type": "stream",
     "text": [
      "support@example.com is email address\n",
      "sales@company.org is email address\n",
      "john.doe123@university.edu is email address\n"
     ]
    }
   ],
   "execution_count": 14
  },
  {
   "cell_type": "markdown",
   "source": "`  Validate Phone Numbers`",
   "metadata": {
    "id": "wi5OOyaC7tI4"
   }
  },
  {
   "cell_type": "code",
   "source": [
    "text1 = \"\"\"123-456-7890, 987-654-3210, 12-345-67890, 1234567890, 123-45-6789\"\"\"\n",
    "\n",
    "def phone_number(text):\n",
    "    pat = r\"\\b\\d{3}-\\d{3}-\\d{4}\\b\"\n",
    "    valid_nums = re.findall(pat, text)\n",
    "    return valid_nums\n",
    "\n",
    "out = phone_number(text1)\n",
    "print(\"Valid phone numbers:\")\n",
    "for num in out:\n",
    "    print(num)\n"
   ],
   "metadata": {
    "colab": {
     "base_uri": "https://localhost:8080/"
    },
    "id": "F7oazCBW6nMv",
    "outputId": "5ebe5209-a627-4621-b11b-83c1234a371d",
    "ExecuteTime": {
     "end_time": "2025-10-02T09:27:24.503736Z",
     "start_time": "2025-10-02T09:27:24.491388Z"
    }
   },
   "outputs": [
    {
     "name": "stdout",
     "output_type": "stream",
     "text": [
      "Valid phone numbers:\n",
      "123-456-7890\n",
      "987-654-3210\n"
     ]
    }
   ],
   "execution_count": 15
  },
  {
   "cell_type": "markdown",
   "source": "`  Extract Dates`",
   "metadata": {
    "id": "RR4JyXOe7-S5"
   }
  },
  {
   "cell_type": "code",
   "source": [
    "txt = \"Important dates: 25/12/2023, 01-01-2024, 31/05/2023, and 15-10-2024.\"\n",
    "\n",
    "def date_extract(txt):\n",
    "    p = r\"\\b\\d{2}/\\d{2}/\\d{4}\\b|\\b\\d{2}-\\d{2}-\\d{4}\\b\"\n",
    "    return re.findall(p, txt)\n",
    "\n",
    "dates = date_extract(txt)\n",
    "for d in dates:\n",
    "    print(f\"{d}\")\n"
   ],
   "metadata": {
    "id": "sYIXJ8IS4qI8",
    "colab": {
     "base_uri": "https://localhost:8080/"
    },
    "outputId": "ff20a109-eefe-485f-be79-c0aebecf85bc",
    "ExecuteTime": {
     "end_time": "2025-10-02T09:27:24.623121Z",
     "start_time": "2025-10-02T09:27:24.548876Z"
    }
   },
   "outputs": [
    {
     "name": "stdout",
     "output_type": "stream",
     "text": [
      "25/12/2023\n",
      "01-01-2024\n",
      "31/05/2023\n",
      "15-10-2024\n"
     ]
    }
   ],
   "execution_count": 16
  },
  {
   "cell_type": "markdown",
   "source": "` Find Repeated Words`",
   "metadata": {
    "id": "lb74TLUvjgGE"
   }
  },
  {
   "cell_type": "code",
   "source": [
    "text = \"The the quick brown fox jumps over the the lazy dog.\"\n",
    "def repeated_words(text):\n",
    "\n",
    "  pattern = r\"\\b(\\w+)\\b\\s+\\1\\b\"\n",
    "  matches = re.findall(pattern, text, flags= re.IGNORECASE)\n",
    "\n",
    "  return matches\n",
    "\n",
    "repeated = repeated_words(text)\n",
    "\n",
    "print(\"Repeated Words:\")\n",
    "for m in repeated:\n",
    "  print(m, m)\n",
    "\n",
    "\n"
   ],
   "metadata": {
    "colab": {
     "base_uri": "https://localhost:8080/"
    },
    "id": "qG-yLTB6imxx",
    "outputId": "c113aac3-2a54-48e7-ade4-55af61ad512a",
    "ExecuteTime": {
     "end_time": "2025-10-02T09:27:24.717542Z",
     "start_time": "2025-10-02T09:27:24.705954Z"
    }
   },
   "outputs": [
    {
     "name": "stdout",
     "output_type": "stream",
     "text": [
      "Repeated Words:\n",
      "The The\n",
      "the the\n"
     ]
    }
   ],
   "execution_count": 17
  },
  {
   "cell_type": "markdown",
   "source": "`  Extract Hashtags`",
   "metadata": {
    "id": "PpU6_Paz3DDV"
   }
  },
  {
   "cell_type": "code",
   "source": [
    "text = \"\"\" Check out our new products: #Sale2024, #NewArrival, and #Discounts!\n",
    "\"\"\"\n",
    "def hashtag_extraction(text):\n",
    "  pattern = r\"#\\w+\"              # \\w = [A-Za-z0-9_]\n",
    "  matches = re.findall(pattern, text)\n",
    "\n",
    "  return matches\n",
    "\n",
    "out = hashtag_extraction(text)\n",
    "for i in out:\n",
    "  print(i)"
   ],
   "metadata": {
    "colab": {
     "base_uri": "https://localhost:8080/"
    },
    "id": "6VRi38Sz247C",
    "outputId": "773bff05-9fd5-4141-a9da-b6cbb26274f5",
    "ExecuteTime": {
     "end_time": "2025-10-02T09:27:24.782153Z",
     "start_time": "2025-10-02T09:27:24.768733Z"
    }
   },
   "outputs": [
    {
     "name": "stdout",
     "output_type": "stream",
     "text": [
      "#Sale2024\n",
      "#NewArrival\n",
      "#Discounts\n"
     ]
    }
   ],
   "execution_count": 18
  },
  {
   "cell_type": "markdown",
   "source": "`  Validate Password Strength`",
   "metadata": {
    "id": "a59rQuW75MIL"
   }
  },
  {
   "cell_type": "code",
   "source": [
    "password = \"Ah7_8799ad\"\n",
    "\n",
    "def password_validation(password):\n",
    "    pass_pat = r\"^(?=.*[A-Z])(?=.*[a-z])(?=.*\\d).{8,}$\"\n",
    "    if re.match(pass_pat, password):\n",
    "        return True\n",
    "    else:\n",
    "        return False\n",
    "\n",
    "if password_validation(password):\n",
    "    print(\"Valid password:\", password)\n",
    "else:\n",
    "    print(\"Invalid password\")\n"
   ],
   "metadata": {
    "colab": {
     "base_uri": "https://localhost:8080/"
    },
    "id": "5ntPw2Ct4WdB",
    "outputId": "e13c816d-5d57-473d-b0cd-fb318d3b500e",
    "ExecuteTime": {
     "end_time": "2025-10-02T09:27:24.862437Z",
     "start_time": "2025-10-02T09:27:24.849051Z"
    }
   },
   "outputs": [
    {
     "name": "stdout",
     "output_type": "stream",
     "text": [
      "Valid password: Ah7_8799ad\n"
     ]
    }
   ],
   "execution_count": 19
  },
  {
   "cell_type": "markdown",
   "source": "`  Extract URLs`",
   "metadata": {
    "id": "xsL7rFfUu-df"
   }
  },
  {
   "cell_type": "code",
   "source": [
    "text_sample =\"\"\" Visit our website at https://www.example.com or check out http://blog.example.org for updates.\n",
    "\"\"\"\n",
    "def url_extraction(text):\n",
    "\n",
    "  pattern = r\"https?://[^\\s]+\"\n",
    "  matches = re.findall(pattern, text)\n",
    "\n",
    "  return matches\n",
    "\n",
    "out = url_extraction(text_sample)\n",
    "for u in out:\n",
    "  print(u)"
   ],
   "metadata": {
    "id": "w4pviIs-5yjZ",
    "colab": {
     "base_uri": "https://localhost:8080/"
    },
    "outputId": "acd220a5-7bfa-4374-d860-73e5a9571cc9",
    "ExecuteTime": {
     "end_time": "2025-10-02T09:27:24.937174Z",
     "start_time": "2025-10-02T09:27:24.925322Z"
    }
   },
   "outputs": [
    {
     "name": "stdout",
     "output_type": "stream",
     "text": [
      "https://www.example.com\n",
      "http://blog.example.org\n"
     ]
    }
   ],
   "execution_count": 20
  },
  {
   "cell_type": "markdown",
   "source": "` Replace Multiple Spaces with a Single Space`",
   "metadata": {
    "id": "FVOzEgI5TFJB"
   }
  },
  {
   "cell_type": "code",
   "source": [
    "text =  \"\"\"This\n",
    "text\n",
    "has\n",
    "multiple\n",
    "spaces.\"\"\"\n",
    "\n",
    "def singlespace(text):\n",
    "\n",
    "  clean_text = re.sub(r'\\s+', ' ', text)\n",
    "\n",
    "  return clean_text\n",
    "\n",
    "out = singlespace(text)\n",
    "print(out)\n"
   ],
   "metadata": {
    "colab": {
     "base_uri": "https://localhost:8080/"
    },
    "id": "ZIm5VaJRSxBq",
    "outputId": "e7a31454-74a9-470e-d9cf-d18c51ec6549",
    "ExecuteTime": {
     "end_time": "2025-10-02T09:27:25.007008Z",
     "start_time": "2025-10-02T09:27:24.995311Z"
    }
   },
   "outputs": [
    {
     "name": "stdout",
     "output_type": "stream",
     "text": [
      "This text has multiple spaces.\n"
     ]
    }
   ],
   "execution_count": 21
  },
  {
   "cell_type": "markdown",
   "source": "`  Extract Quoted Text`",
   "metadata": {
    "id": "yBsfyPugccsm"
   }
  },
  {
   "cell_type": "code",
   "source": [
    "sample = \"\"\" He said, \"Hello, world!\" and she replied, \"Hi there!\" \"\"\"\n",
    "\n",
    "def quoted_text(text):\n",
    "  clean = re.findall(r'\"(.*?)\"', text)\n",
    "\n",
    "  return clean\n",
    "\n",
    "out = quoted_text(sample)\n",
    "\n",
    "for m in out:\n",
    "  print(m)\n"
   ],
   "metadata": {
    "colab": {
     "base_uri": "https://localhost:8080/"
    },
    "id": "JK3DhMdNUrWz",
    "outputId": "37b61d3d-5b00-40eb-ed56-320ca47122ef",
    "ExecuteTime": {
     "end_time": "2025-10-02T09:27:25.062110Z",
     "start_time": "2025-10-02T09:27:25.050185Z"
    }
   },
   "outputs": [
    {
     "name": "stdout",
     "output_type": "stream",
     "text": [
      "Hello, world!\n",
      "Hi there!\n"
     ]
    }
   ],
   "execution_count": 22
  },
  {
   "cell_type": "markdown",
   "source": "`  Validate IP Addresses`",
   "metadata": {
    "id": "C6dt0nDGd7eD"
   }
  },
  {
   "cell_type": "code",
   "source": [
    "import re\n",
    "\n",
    "text_sample = \"\"\"Valid: 192.168.1.1, 10.0.0.255\n",
    "Invalid: 256.1.2.3, 192.168.01.1, 192.168.1\"\"\"\n",
    "\n",
    "def ip_validation(text):\n",
    "    pattern = r'\\b((?:25[0-5]|2[0-4]\\d|1\\d\\d|[1-9]?\\d)\\.(?:25[0-5]|2[0-4]\\d|1\\d\\d|[1-9]?\\d)\\.(?:25[0-5]|2[0-4]\\d|1\\d\\d|[1-9]?\\d)\\.(?:25[0-5]|2[0-4]\\d|1\\d\\d|[1-9]?\\d))\\b'\n",
    "    return re.findall(pattern, text)\n",
    "\n",
    "result = ip_validation(text_sample)\n",
    "\n",
    "print(\"Valid IP addresses:\")\n",
    "for ip in result:\n",
    "    print(ip)\n"
   ],
   "metadata": {
    "colab": {
     "base_uri": "https://localhost:8080/"
    },
    "id": "Fw9v2TUadzwD",
    "outputId": "d5dfc301-53a0-4bf3-e372-f9bc51392898",
    "ExecuteTime": {
     "end_time": "2025-10-02T09:27:25.126464Z",
     "start_time": "2025-10-02T09:27:25.115844Z"
    }
   },
   "outputs": [
    {
     "name": "stdout",
     "output_type": "stream",
     "text": [
      "Valid IP addresses:\n",
      "192.168.1.1\n",
      "10.0.0.255\n"
     ]
    }
   ],
   "execution_count": 23
  }
 ]
}

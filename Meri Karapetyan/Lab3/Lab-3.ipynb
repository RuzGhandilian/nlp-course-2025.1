{
 "cells": [
  {
   "metadata": {},
   "cell_type": "code",
   "source": "!pip install nltk",
   "id": "9e2553b7777d433b",
   "outputs": [],
   "execution_count": null
  },
  {
   "metadata": {
    "collapsed": true,
    "ExecuteTime": {
     "end_time": "2025-10-02T09:14:39.555046Z",
     "start_time": "2025-10-02T09:14:37.977373Z"
    }
   },
   "cell_type": "code",
   "source": [
    "import re\n",
    "import pandas as pd\n"
   ],
   "id": "initial_id",
   "outputs": [],
   "execution_count": 1
  },
  {
   "metadata": {
    "ExecuteTime": {
     "end_time": "2025-10-02T09:14:39.648803Z",
     "start_time": "2025-10-02T09:14:39.569301Z"
    }
   },
   "cell_type": "code",
   "source": [
    "text = pd.read_csv(\"Coachella-2015-2-DFE.csv\", encoding='latin1')\n",
    "print(text.head())"
   ],
   "id": "ade82bdeaddc28f4",
   "outputs": [
    {
     "name": "stdout",
     "output_type": "stream",
     "text": [
      "   Unnamed: 0 coachella_sentiment coachella_yn           name  retweet_count  \\\n",
      "0           0            positive          yes       kokombil              0   \n",
      "1           1            positive          yes  MisssTaraaa10              2   \n",
      "2           2            positive          yes  NMcCracken805              0   \n",
      "3           3            positive          yes         wxpnfm              1   \n",
      "4           4            positive          yes       Caesears              0   \n",
      "\n",
      "                                                text tweet_coord  \\\n",
      "0  #Coachella2015 tickets selling out in less tha...  [0.0, 0.0]   \n",
      "1  RT @sudsybuddy: WAIT THIS IS ABSOLUTE FIRE _Ã...         NaN   \n",
      "2  #Coachella2015 #VIP passes secured! See you th...         NaN   \n",
      "3  PhillyÂÃÂªs @warondrugsjams will play #Coach...         NaN   \n",
      "4  If briana and her mom out to #Coachella2015  i...         NaN   \n",
      "\n",
      "  tweet_created      tweet_id                  tweet_location user_timezone  \\\n",
      "0  1/7/15 15:02  5.529630e+17                             NaN         Quito   \n",
      "1  1/7/15 15:02  5.529630e+17                   united states           NaN   \n",
      "2  1/7/15 15:01  5.529630e+17                  Costa Mesa, CA           NaN   \n",
      "3  1/7/15 15:01  5.529630e+17  Philadelphia, PA and Worldwide         Quito   \n",
      "4  1/7/15 15:00  5.529630e+17                             NaN           NaN   \n",
      "\n",
      "                             hashtags  \n",
      "0                  ['#Coachella2015']  \n",
      "1                  ['#Coachella2015']  \n",
      "2          ['#Coachella2015', '#VIP']  \n",
      "3  ['#Coachella2015', '#GovBall2015']  \n",
      "4                  ['#Coachella2015']  \n"
     ]
    }
   ],
   "execution_count": 2
  },
  {
   "metadata": {
    "ExecuteTime": {
     "end_time": "2025-10-02T09:14:40.278844Z",
     "start_time": "2025-10-02T09:14:40.150654Z"
    }
   },
   "cell_type": "code",
   "source": [
    "# All hashtags in the text\n",
    "def hashtag_extraction(text):\n",
    "    if pd.isna(text):\n",
    "        return []\n",
    "    pattern = r\"#\\w+\"\n",
    "    matches = re.findall(pattern, text)\n",
    "    return matches\n",
    "\n",
    "text['hashtags'] = text['text'].apply(hashtag_extraction)\n",
    "print(text[['text', 'hashtags']].head(10))\n",
    "\n",
    "text.to_csv(\"Coachella-2015-2-DFE.csv\")\n"
   ],
   "id": "6f3c3830c471290a",
   "outputs": [
    {
     "name": "stdout",
     "output_type": "stream",
     "text": [
      "                                                text  \\\n",
      "0  #Coachella2015 tickets selling out in less tha...   \n",
      "1  RT @sudsybuddy: WAIT THIS IS ABSOLUTE FIRE _Ã...   \n",
      "2  #Coachella2015 #VIP passes secured! See you th...   \n",
      "3  PhillyÂÃÂªs @warondrugsjams will play #Coach...   \n",
      "4  If briana and her mom out to #Coachella2015  i...   \n",
      "5  West side is the best side!\\n#west #coas #Coac...   \n",
      "6  Coachella tickets are now sold out _ÃÃ·_ &amp...   \n",
      "7  #Coachella2015 I absolutely can NOT wait. This...   \n",
      "8  If someone got me to Coachella if be your frie...   \n",
      "9  RT @brownjenjen: ÂÂ Ã http://t.co/mxCREvIlGP...   \n",
      "\n",
      "                                          hashtags  \n",
      "0                                 [#Coachella2015]  \n",
      "1                                 [#Coachella2015]  \n",
      "2                           [#Coachella2015, #VIP]  \n",
      "3                   [#Coachella2015, #GovBall2015]  \n",
      "4                                 [#Coachella2015]  \n",
      "5                   [#west, #coas, #Coachella2015]  \n",
      "6                     [#Coachella2015, #Coachella]  \n",
      "7                                 [#Coachella2015]  \n",
      "8  [#truth, #desprate, #Coachella2015, #Coachella]  \n",
      "9                                 [#Coachella2015]  \n"
     ]
    }
   ],
   "execution_count": 3
  },
  {
   "metadata": {
    "ExecuteTime": {
     "end_time": "2025-10-02T09:17:45.831573Z",
     "start_time": "2025-10-02T09:17:45.777285Z"
    }
   },
   "cell_type": "code",
   "source": [
    "# All emails in the text\n",
    "emails = []\n",
    "\n",
    "def mail_extraction(text):\n",
    "    if pd.isna(text):\n",
    "        return []\n",
    "    pattern = r\"[a-zA-Z0-9._]+@[a-zA-Z0-9.-]+\\.[a-zA-Z]{2,}\"\n",
    "    matches = re.findall(pattern, text)\n",
    "    return matches\n",
    "\n",
    "text['emails'] = text['text'].apply(mail_extraction)\n",
    "\n",
    "print(text[['text', 'emails']].head(7))"
   ],
   "id": "2a1c92f96e225d1",
   "outputs": [
    {
     "name": "stdout",
     "output_type": "stream",
     "text": [
      "                                                text emails\n",
      "0  #Coachella2015 tickets selling out in less tha...     []\n",
      "1  RT @sudsybuddy: WAIT THIS IS ABSOLUTE FIRE _Ã...     []\n",
      "2  #Coachella2015 #VIP passes secured! See you th...     []\n",
      "3  PhillyÂÃÂªs @warondrugsjams will play #Coach...     []\n",
      "4  If briana and her mom out to #Coachella2015  i...     []\n",
      "5  West side is the best side!\\n#west #coas #Coac...     []\n",
      "6  Coachella tickets are now sold out _ÃÃ·_ &amp...     []\n"
     ]
    }
   ],
   "execution_count": 20
  },
  {
   "metadata": {
    "ExecuteTime": {
     "end_time": "2025-10-02T09:14:40.526025Z",
     "start_time": "2025-10-02T09:14:40.438078Z"
    }
   },
   "cell_type": "code",
   "source": [
    "# Remove usernames\n",
    "def remove_usernames(text):\n",
    "    if pd.isna(text):\n",
    "        return text\n",
    "\n",
    "    cleaned = re.sub(r'(?<!\\S)@\\w+','',text)\n",
    "    cleaned = re.sub(r'\\s+', '', cleaned).strip()\n",
    "    return cleaned\n",
    "\n",
    "text['text_no_usernames'] = text['text'].apply(remove_usernames)\n",
    "print(text[['text', 'text_no_usernames']].head())"
   ],
   "id": "bc7c23984f81cbc5",
   "outputs": [
    {
     "name": "stdout",
     "output_type": "stream",
     "text": [
      "                                                text  \\\n",
      "0  #Coachella2015 tickets selling out in less tha...   \n",
      "1  RT @sudsybuddy: WAIT THIS IS ABSOLUTE FIRE _Ã...   \n",
      "2  #Coachella2015 #VIP passes secured! See you th...   \n",
      "3  PhillyÂÃÂªs @warondrugsjams will play #Coach...   \n",
      "4  If briana and her mom out to #Coachella2015  i...   \n",
      "\n",
      "                                   text_no_usernames  \n",
      "0  #Coachella2015ticketssellingoutinlessthan40min...  \n",
      "1  RT:WAITTHISISABSOLUTEFIRE_ÃÃÂ´_ÃÃÂ´_ÃÃÂ´...  \n",
      "2  #Coachella2015#VIPpassessecured!Seeyoutherebit...  \n",
      "3  PhillyÂÃÂªswillplay#Coachella2015&amp;#GovBa...  \n",
      "4  Ifbrianaandhermomoutto#Coachella2015imoutwitht...  \n"
     ]
    }
   ],
   "execution_count": 5
  },
  {
   "metadata": {
    "ExecuteTime": {
     "end_time": "2025-10-02T09:14:40.603717Z",
     "start_time": "2025-10-02T09:14:40.567134Z"
    }
   },
   "cell_type": "code",
   "source": [
    "# Remove links\n",
    "def remove_links(text):\n",
    "    if pd.isna(text):\n",
    "        return text\n",
    "    cleaned = re.sub(r'http\\S+','',text)\n",
    "    cleaned = re.sub(r'\\s+', ' ', cleaned).strip()\n",
    "    return cleaned\n",
    "\n",
    "text['text_no_links'] = text['text_no_usernames'].apply(remove_links)\n",
    "#print(text[['text', 'text_no_links']].head())"
   ],
   "id": "180fddf90ebf217c",
   "outputs": [],
   "execution_count": 6
  },
  {
   "metadata": {
    "ExecuteTime": {
     "end_time": "2025-10-02T09:14:40.661506Z",
     "start_time": "2025-10-02T09:14:40.627915Z"
    }
   },
   "cell_type": "code",
   "source": [
    "# Remove non ASCII symbols\n",
    "def remove_non_ascii_symbols(text):\n",
    "    if pd.isna(text):\n",
    "        return text\n",
    "\n",
    "    cleaned = text.encode(\"ascii\", \"ignore\").decode()\n",
    "    cleaned = re.sub(r'\\s+', ' ', cleaned).strip()\n",
    "    return cleaned\n",
    "\n",
    "text['text_ascii'] = text['text_no_links'].apply(remove_non_ascii_symbols)\n",
    "\n",
    "print(text[['text', 'text_ascii']].head(6))"
   ],
   "id": "491cfd04d72dfd76",
   "outputs": [
    {
     "name": "stdout",
     "output_type": "stream",
     "text": [
      "                                                text  \\\n",
      "0  #Coachella2015 tickets selling out in less tha...   \n",
      "1  RT @sudsybuddy: WAIT THIS IS ABSOLUTE FIRE _Ã...   \n",
      "2  #Coachella2015 #VIP passes secured! See you th...   \n",
      "3  PhillyÂÃÂªs @warondrugsjams will play #Coach...   \n",
      "4  If briana and her mom out to #Coachella2015  i...   \n",
      "5  West side is the best side!\\n#west #coas #Coac...   \n",
      "\n",
      "                                          text_ascii  \n",
      "0  #Coachella2015ticketssellingoutinlessthan40min...  \n",
      "1         RT:WAITTHISISABSOLUTEFIRE___#Coachella2015  \n",
      "2  #Coachella2015#VIPpassessecured!Seeyoutherebit...  \n",
      "3  Phillyswillplay#Coachella2015&amp;#GovBall2015...  \n",
      "4  Ifbrianaandhermomoutto#Coachella2015imoutwitht...  \n",
      "5     Westsideisthebestside!#west#coas#Coachella2015  \n"
     ]
    }
   ],
   "execution_count": 7
  },
  {
   "metadata": {
    "ExecuteTime": {
     "end_time": "2025-10-02T09:17:34.576510Z",
     "start_time": "2025-10-02T09:17:34.551097Z"
    }
   },
   "cell_type": "code",
   "source": [
    "def to_lower(text):\n",
    "    if pd.isna(text):\n",
    "        return text\n",
    "    return text.lower()\n",
    "\n",
    "text['text_lower'] = text['text_ascii'].apply(to_lower)\n",
    "\n",
    "print(text[['text_ascii', 'text_lower']].head(7))"
   ],
   "id": "91710a60243a869b",
   "outputs": [
    {
     "name": "stdout",
     "output_type": "stream",
     "text": [
      "                                          text_ascii  \\\n",
      "0  #Coachella2015ticketssellingoutinlessthan40min...   \n",
      "1         RT:WAITTHISISABSOLUTEFIRE___#Coachella2015   \n",
      "2  #Coachella2015#VIPpassessecured!Seeyoutherebit...   \n",
      "3  Phillyswillplay#Coachella2015&amp;#GovBall2015...   \n",
      "4  Ifbrianaandhermomoutto#Coachella2015imoutwitht...   \n",
      "5     Westsideisthebestside!#west#coas#Coachella2015   \n",
      "6  Coachellaticketsarenowsoldout__&amp;Ihadtheopp...   \n",
      "\n",
      "                                          text_lower  \n",
      "0  #coachella2015ticketssellingoutinlessthan40min...  \n",
      "1         rt:waitthisisabsolutefire___#coachella2015  \n",
      "2  #coachella2015#vippassessecured!seeyoutherebit...  \n",
      "3  phillyswillplay#coachella2015&amp;#govball2015...  \n",
      "4  ifbrianaandhermomoutto#coachella2015imoutwitht...  \n",
      "5     westsideisthebestside!#west#coas#coachella2015  \n",
      "6  coachellaticketsarenowsoldout__&amp;ihadtheopp...  \n"
     ]
    }
   ],
   "execution_count": 19
  },
  {
   "metadata": {
    "ExecuteTime": {
     "end_time": "2025-10-02T09:17:28.864863Z",
     "start_time": "2025-10-02T09:17:28.832551Z"
    }
   },
   "cell_type": "code",
   "source": [
    "import nltk\n",
    "from nltk.corpus import stopwords\n",
    "\n",
    "#nltk.download('stopwords')\n",
    "\n",
    "stop_words = set(stopwords.words('english'))\n",
    "\n",
    "def remove_stop_words(text):\n",
    "    if pd.isna(text):\n",
    "        return text\n",
    "    tokens = text.split()\n",
    "    cleaned_tokens = [word for word in tokens if word not in stop_words]\n",
    "    return ' '.join(cleaned_tokens)\n",
    "\n",
    "text['text_no_stopwords'] = text['text_lower'].apply(remove_stop_words)\n",
    "\n",
    "print(text[['text_lower', 'text_no_stopwords']].head(7))\n"
   ],
   "id": "72bf53174a9ff509",
   "outputs": [
    {
     "name": "stdout",
     "output_type": "stream",
     "text": [
      "                                          text_lower  \\\n",
      "0  #coachella2015ticketssellingoutinlessthan40min...   \n",
      "1         rt:waitthisisabsolutefire___#coachella2015   \n",
      "2  #coachella2015#vippassessecured!seeyoutherebit...   \n",
      "3  phillyswillplay#coachella2015&amp;#govball2015...   \n",
      "4  ifbrianaandhermomoutto#coachella2015imoutwitht...   \n",
      "5     westsideisthebestside!#west#coas#coachella2015   \n",
      "6  coachellaticketsarenowsoldout__&amp;ihadtheopp...   \n",
      "\n",
      "                                   text_no_stopwords  \n",
      "0  #coachella2015ticketssellingoutinlessthan40min...  \n",
      "1         rt:waitthisisabsolutefire___#coachella2015  \n",
      "2  #coachella2015#vippassessecured!seeyoutherebit...  \n",
      "3  phillyswillplay#coachella2015&amp;#govball2015...  \n",
      "4  ifbrianaandhermomoutto#coachella2015imoutwitht...  \n",
      "5     westsideisthebestside!#west#coas#coachella2015  \n",
      "6  coachellaticketsarenowsoldout__&amp;ihadtheopp...  \n"
     ]
    }
   ],
   "execution_count": 18
  },
  {
   "metadata": {
    "ExecuteTime": {
     "end_time": "2025-10-02T09:16:59.854193Z",
     "start_time": "2025-10-02T09:16:59.790877Z"
    }
   },
   "cell_type": "code",
   "source": [
    "def remove_digits(text):\n",
    "    if pd.isna(text):\n",
    "        return text\n",
    "    return re.sub(r'\\d+', '', text)\n",
    "\n",
    "text['text_no_digits'] = text['text_no_stopwords'].apply(remove_digits)\n",
    "print(text[[ 'text_no_stopwords', 'text_no_digits']].head(7))"
   ],
   "id": "3974a64c4ff64dbe",
   "outputs": [
    {
     "name": "stdout",
     "output_type": "stream",
     "text": [
      "                                   text_no_stopwords  \\\n",
      "0  #coachella2015ticketssellingoutinlessthan40min...   \n",
      "1         rt:waitthisisabsolutefire___#coachella2015   \n",
      "2  #coachella2015#vippassessecured!seeyoutherebit...   \n",
      "3  phillyswillplay#coachella2015&amp;#govball2015...   \n",
      "4  ifbrianaandhermomoutto#coachella2015imoutwitht...   \n",
      "5     westsideisthebestside!#west#coas#coachella2015   \n",
      "6  coachellaticketsarenowsoldout__&amp;ihadtheopp...   \n",
      "\n",
      "                                      text_no_digits  \n",
      "0  #coachellaticketssellingoutinlessthanminutes__...  \n",
      "1             rt:waitthisisabsolutefire___#coachella  \n",
      "2  #coachella#vippassessecured!seeyoutherebitches...  \n",
      "3  phillyswillplay#coachella&amp;#govball!watchth...  \n",
      "4  ifbrianaandhermomoutto#coachellaimoutwiththem!...  \n",
      "5         westsideisthebestside!#west#coas#coachella  \n",
      "6  coachellaticketsarenowsoldout__&amp;ihadtheopp...  \n"
     ]
    }
   ],
   "execution_count": 17
  },
  {
   "metadata": {
    "ExecuteTime": {
     "end_time": "2025-10-02T09:16:51.372998Z",
     "start_time": "2025-10-02T09:16:51.313655Z"
    }
   },
   "cell_type": "code",
   "source": [
    "def remove_special_characters(text):\n",
    "    if pd.isna(text):\n",
    "        return text\n",
    "    return re.sub(r'[^a-zA-Z0-9\\s]', '', text)\n",
    "\n",
    "text['text_no_specials'] = text['text_no_digits'].apply(remove_special_characters)\n",
    "\n",
    "print(text[['text_no_digits', 'text_no_specials']].head(7))"
   ],
   "id": "a75bbcc5eb5ff29f",
   "outputs": [
    {
     "name": "stdout",
     "output_type": "stream",
     "text": [
      "                                      text_no_digits  \\\n",
      "0  #coachellaticketssellingoutinlessthanminutes__...   \n",
      "1             rt:waitthisisabsolutefire___#coachella   \n",
      "2  #coachella#vippassessecured!seeyoutherebitches...   \n",
      "3  phillyswillplay#coachella&amp;#govball!watchth...   \n",
      "4  ifbrianaandhermomoutto#coachellaimoutwiththem!...   \n",
      "5         westsideisthebestside!#west#coas#coachella   \n",
      "6  coachellaticketsarenowsoldout__&amp;ihadtheopp...   \n",
      "\n",
      "                                    text_no_specials  \n",
      "0        coachellaticketssellingoutinlessthanminutes  \n",
      "1                  rtwaitthisisabsolutefirecoachella  \n",
      "2    coachellavippassessecuredseeyoutherebitchesssss  \n",
      "3  phillyswillplaycoachellaampgovballwatchthemonj...  \n",
      "4       ifbrianaandhermomouttocoachellaimoutwiththem  \n",
      "5             westsideisthebestsidewestcoascoachella  \n",
      "6  coachellaticketsarenowsoldoutampihadtheopportu...  \n"
     ]
    }
   ],
   "execution_count": 16
  },
  {
   "metadata": {
    "ExecuteTime": {
     "end_time": "2025-10-02T09:15:28.995845Z",
     "start_time": "2025-10-02T09:15:28.814575Z"
    }
   },
   "cell_type": "code",
   "source": "text.to_csv('cleaned_data.csv', index=False, encoding='utf-8')\n",
   "id": "b9dc6a1f47cad1e2",
   "outputs": [],
   "execution_count": 15
  },
  {
   "metadata": {},
   "cell_type": "code",
   "outputs": [],
   "execution_count": null,
   "source": "",
   "id": "cee78fe1f3600b8d"
  }
 ],
 "metadata": {
  "kernelspec": {
   "display_name": "Python 3",
   "language": "python",
   "name": "python3"
  },
  "language_info": {
   "codemirror_mode": {
    "name": "ipython",
    "version": 2
   },
   "file_extension": ".py",
   "mimetype": "text/x-python",
   "name": "python",
   "nbconvert_exporter": "python",
   "pygments_lexer": "ipython2",
   "version": "2.7.6"
  }
 },
 "nbformat": 4,
 "nbformat_minor": 5
}
